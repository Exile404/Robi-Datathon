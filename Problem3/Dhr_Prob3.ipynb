{
 "cells": [
  {
   "cell_type": "code",
   "id": "initial_id",
   "metadata": {
    "collapsed": true,
    "ExecuteTime": {
     "end_time": "2024-04-20T17:43:58.168670Z",
     "start_time": "2024-04-20T17:43:58.165911Z"
    }
   },
   "source": [
    "import pandas as pd\n",
    "from sklearn.model_selection import train_test_split\n",
    "from sklearn.ensemble import RandomForestRegressor \n",
    "from sklearn.metrics import r2_score\n",
    "import numpy as np"
   ],
   "outputs": [],
   "execution_count": 539
  },
  {
   "metadata": {
    "ExecuteTime": {
     "end_time": "2024-04-20T17:43:59.263328Z",
     "start_time": "2024-04-20T17:43:58.219714Z"
    }
   },
   "cell_type": "code",
   "source": [
    "# Step 1: Data Preprocessing\n",
    "# Load data\n",
    "boxes = pd.read_csv(\"boxes.csv\")\n",
    "purchase = pd.read_csv(\"purchase.csv\")\n",
    "problem = pd.read_csv(\"problem 3.csv\")"
   ],
   "id": "c4fae63ca8693f5",
   "outputs": [],
   "execution_count": 540
  },
  {
   "metadata": {
    "ExecuteTime": {
     "end_time": "2024-04-20T17:43:59.268352Z",
     "start_time": "2024-04-20T17:43:59.264326Z"
    }
   },
   "cell_type": "code",
   "source": "boxes.isna().sum()",
   "id": "688a969b3ed2c041",
   "outputs": [
    {
     "data": {
      "text/plain": [
       "BOX_ID             0\n",
       "QUALITY            0\n",
       "DELIVERY_OPTION    0\n",
       "MILK               0\n",
       "MEAT               0\n",
       "UNIT_PRICE         0\n",
       "dtype: int64"
      ]
     },
     "execution_count": 541,
     "metadata": {},
     "output_type": "execute_result"
    }
   ],
   "execution_count": 541
  },
  {
   "metadata": {
    "ExecuteTime": {
     "end_time": "2024-04-20T17:43:59.383929Z",
     "start_time": "2024-04-20T17:43:59.268352Z"
    }
   },
   "cell_type": "code",
   "source": "purchase.isna().sum()",
   "id": "2e5c9d1408458819",
   "outputs": [
    {
     "data": {
      "text/plain": [
       "PURCHASE_DATE     0\n",
       "MAGIC_KEY         0\n",
       "BOX_ID           47\n",
       "BOX_COUNT        47\n",
       "dtype: int64"
      ]
     },
     "execution_count": 542,
     "metadata": {},
     "output_type": "execute_result"
    }
   ],
   "execution_count": 542
  },
  {
   "metadata": {
    "ExecuteTime": {
     "end_time": "2024-04-20T17:43:59.558237Z",
     "start_time": "2024-04-20T17:43:59.384926Z"
    }
   },
   "cell_type": "code",
   "source": "purchase = purchase.dropna()",
   "id": "fb0741e77e010732",
   "outputs": [],
   "execution_count": 543
  },
  {
   "metadata": {
    "ExecuteTime": {
     "end_time": "2024-04-20T17:43:59.673935Z",
     "start_time": "2024-04-20T17:43:59.558237Z"
    }
   },
   "cell_type": "code",
   "source": "purchase.isna().sum()",
   "id": "6aa2ccce11962a22",
   "outputs": [
    {
     "data": {
      "text/plain": [
       "PURCHASE_DATE    0\n",
       "MAGIC_KEY        0\n",
       "BOX_ID           0\n",
       "BOX_COUNT        0\n",
       "dtype: int64"
      ]
     },
     "execution_count": 544,
     "metadata": {},
     "output_type": "execute_result"
    }
   ],
   "execution_count": 544
  },
  {
   "metadata": {
    "ExecuteTime": {
     "end_time": "2024-04-20T17:44:00.066815Z",
     "start_time": "2024-04-20T17:43:59.674933Z"
    }
   },
   "cell_type": "code",
   "source": [
    "# Convert categorical variables to numerical representations\n",
    "boxes = pd.get_dummies(boxes, columns=['QUALITY', 'DELIVERY_OPTION'])\n",
    "\n",
    "# Extract features from the date column\n",
    "purchase['PURCHASE_DATE'] = pd.to_datetime(purchase['PURCHASE_DATE'],format='%d/%m/%Y')\n",
    "purchase['DAY'] = purchase['PURCHASE_DATE'].dt.day\n",
    "purchase['MONTH'] = purchase['PURCHASE_DATE'].dt.month\n",
    "purchase['YEAR'] = purchase['PURCHASE_DATE'].dt.year\n",
    "\n",
    "# Filter purchases made in the first 15 days of March 2019\n",
    "march_purchases = purchase[purchase['BOX_COUNT']>0]"
   ],
   "id": "3d9027cc3e973f9b",
   "outputs": [],
   "execution_count": 545
  },
  {
   "metadata": {
    "ExecuteTime": {
     "end_time": "2024-04-20T17:44:00.074277Z",
     "start_time": "2024-04-20T17:44:00.066815Z"
    }
   },
   "cell_type": "code",
   "source": "march_purchases",
   "id": "3733f7db3094474c",
   "outputs": [
    {
     "data": {
      "text/plain": [
       "        PURCHASE_DATE    MAGIC_KEY  BOX_ID  BOX_COUNT  DAY  MONTH  YEAR\n",
       "0          2019-02-01  2CED678A247    12.0        1.0    1      2  2019\n",
       "1          2019-02-01  2BF58D91BA1    12.0        1.0    1      2  2019\n",
       "2          2019-02-01  2C15B86534E    99.0        1.0    1      2  2019\n",
       "3          2019-02-01  2C32D9A859A     6.0        1.0    1      2  2019\n",
       "4          2019-02-01  2C7A55404D1     4.0        1.0    1      2  2019\n",
       "...               ...          ...     ...        ...  ...    ...   ...\n",
       "2455859    2018-10-28  2BD992B5538    12.0        1.0   28     10  2018\n",
       "2455860    2018-10-28  2C97CD72233    17.0        1.0   28     10  2018\n",
       "2455861    2018-10-28  2C91C61D372    40.0        1.0   28     10  2018\n",
       "2455862    2018-10-28  2CD70CFC4E3    51.0        1.0   28     10  2018\n",
       "2455863    2018-10-28  2C4792A5B84     4.0        1.0   28     10  2018\n",
       "\n",
       "[2455800 rows x 7 columns]"
      ],
      "text/html": [
       "<div>\n",
       "<style scoped>\n",
       "    .dataframe tbody tr th:only-of-type {\n",
       "        vertical-align: middle;\n",
       "    }\n",
       "\n",
       "    .dataframe tbody tr th {\n",
       "        vertical-align: top;\n",
       "    }\n",
       "\n",
       "    .dataframe thead th {\n",
       "        text-align: right;\n",
       "    }\n",
       "</style>\n",
       "<table border=\"1\" class=\"dataframe\">\n",
       "  <thead>\n",
       "    <tr style=\"text-align: right;\">\n",
       "      <th></th>\n",
       "      <th>PURCHASE_DATE</th>\n",
       "      <th>MAGIC_KEY</th>\n",
       "      <th>BOX_ID</th>\n",
       "      <th>BOX_COUNT</th>\n",
       "      <th>DAY</th>\n",
       "      <th>MONTH</th>\n",
       "      <th>YEAR</th>\n",
       "    </tr>\n",
       "  </thead>\n",
       "  <tbody>\n",
       "    <tr>\n",
       "      <th>0</th>\n",
       "      <td>2019-02-01</td>\n",
       "      <td>2CED678A247</td>\n",
       "      <td>12.0</td>\n",
       "      <td>1.0</td>\n",
       "      <td>1</td>\n",
       "      <td>2</td>\n",
       "      <td>2019</td>\n",
       "    </tr>\n",
       "    <tr>\n",
       "      <th>1</th>\n",
       "      <td>2019-02-01</td>\n",
       "      <td>2BF58D91BA1</td>\n",
       "      <td>12.0</td>\n",
       "      <td>1.0</td>\n",
       "      <td>1</td>\n",
       "      <td>2</td>\n",
       "      <td>2019</td>\n",
       "    </tr>\n",
       "    <tr>\n",
       "      <th>2</th>\n",
       "      <td>2019-02-01</td>\n",
       "      <td>2C15B86534E</td>\n",
       "      <td>99.0</td>\n",
       "      <td>1.0</td>\n",
       "      <td>1</td>\n",
       "      <td>2</td>\n",
       "      <td>2019</td>\n",
       "    </tr>\n",
       "    <tr>\n",
       "      <th>3</th>\n",
       "      <td>2019-02-01</td>\n",
       "      <td>2C32D9A859A</td>\n",
       "      <td>6.0</td>\n",
       "      <td>1.0</td>\n",
       "      <td>1</td>\n",
       "      <td>2</td>\n",
       "      <td>2019</td>\n",
       "    </tr>\n",
       "    <tr>\n",
       "      <th>4</th>\n",
       "      <td>2019-02-01</td>\n",
       "      <td>2C7A55404D1</td>\n",
       "      <td>4.0</td>\n",
       "      <td>1.0</td>\n",
       "      <td>1</td>\n",
       "      <td>2</td>\n",
       "      <td>2019</td>\n",
       "    </tr>\n",
       "    <tr>\n",
       "      <th>...</th>\n",
       "      <td>...</td>\n",
       "      <td>...</td>\n",
       "      <td>...</td>\n",
       "      <td>...</td>\n",
       "      <td>...</td>\n",
       "      <td>...</td>\n",
       "      <td>...</td>\n",
       "    </tr>\n",
       "    <tr>\n",
       "      <th>2455859</th>\n",
       "      <td>2018-10-28</td>\n",
       "      <td>2BD992B5538</td>\n",
       "      <td>12.0</td>\n",
       "      <td>1.0</td>\n",
       "      <td>28</td>\n",
       "      <td>10</td>\n",
       "      <td>2018</td>\n",
       "    </tr>\n",
       "    <tr>\n",
       "      <th>2455860</th>\n",
       "      <td>2018-10-28</td>\n",
       "      <td>2C97CD72233</td>\n",
       "      <td>17.0</td>\n",
       "      <td>1.0</td>\n",
       "      <td>28</td>\n",
       "      <td>10</td>\n",
       "      <td>2018</td>\n",
       "    </tr>\n",
       "    <tr>\n",
       "      <th>2455861</th>\n",
       "      <td>2018-10-28</td>\n",
       "      <td>2C91C61D372</td>\n",
       "      <td>40.0</td>\n",
       "      <td>1.0</td>\n",
       "      <td>28</td>\n",
       "      <td>10</td>\n",
       "      <td>2018</td>\n",
       "    </tr>\n",
       "    <tr>\n",
       "      <th>2455862</th>\n",
       "      <td>2018-10-28</td>\n",
       "      <td>2CD70CFC4E3</td>\n",
       "      <td>51.0</td>\n",
       "      <td>1.0</td>\n",
       "      <td>28</td>\n",
       "      <td>10</td>\n",
       "      <td>2018</td>\n",
       "    </tr>\n",
       "    <tr>\n",
       "      <th>2455863</th>\n",
       "      <td>2018-10-28</td>\n",
       "      <td>2C4792A5B84</td>\n",
       "      <td>4.0</td>\n",
       "      <td>1.0</td>\n",
       "      <td>28</td>\n",
       "      <td>10</td>\n",
       "      <td>2018</td>\n",
       "    </tr>\n",
       "  </tbody>\n",
       "</table>\n",
       "<p>2455800 rows × 7 columns</p>\n",
       "</div>"
      ]
     },
     "execution_count": 546,
     "metadata": {},
     "output_type": "execute_result"
    }
   ],
   "execution_count": 546
  },
  {
   "metadata": {
    "ExecuteTime": {
     "end_time": "2024-04-20T17:44:00.283156Z",
     "start_time": "2024-04-20T17:44:00.074277Z"
    }
   },
   "cell_type": "code",
   "source": "merged_df = pd.merge(march_purchases, boxes, on='BOX_ID')",
   "id": "b62e16b0648063af",
   "outputs": [],
   "execution_count": 547
  },
  {
   "metadata": {
    "ExecuteTime": {
     "end_time": "2024-04-20T17:44:00.295622Z",
     "start_time": "2024-04-20T17:44:00.284153Z"
    }
   },
   "cell_type": "code",
   "source": "merged_df",
   "id": "e59831fe983d8350",
   "outputs": [
    {
     "data": {
      "text/plain": [
       "        PURCHASE_DATE    MAGIC_KEY  BOX_ID  BOX_COUNT  DAY  MONTH  YEAR  MILK  \\\n",
       "0          2019-02-01  2CED678A247    12.0        1.0    1      2  2019   8.0   \n",
       "1          2019-02-01  2BF58D91BA1    12.0        1.0    1      2  2019   8.0   \n",
       "2          2019-02-01  2C15B86534E    99.0        1.0    1      2  2019   0.0   \n",
       "3          2019-02-01  2C32D9A859A     6.0        1.0    1      2  2019   0.0   \n",
       "4          2019-02-01  2C7A55404D1     4.0        1.0    1      2  2019   0.0   \n",
       "...               ...          ...     ...        ...  ...    ...   ...   ...   \n",
       "2455795    2018-10-28  2BD992B5538    12.0        1.0   28     10  2018   8.0   \n",
       "2455796    2018-10-28  2C97CD72233    17.0        1.0   28     10  2018  10.0   \n",
       "2455797    2018-10-28  2C91C61D372    40.0        1.0   28     10  2018  12.0   \n",
       "2455798    2018-10-28  2CD70CFC4E3    51.0        1.0   28     10  2018  18.0   \n",
       "2455799    2018-10-28  2C4792A5B84     4.0        1.0   28     10  2018   0.0   \n",
       "\n",
       "         MEAT  UNIT_PRICE  QUALITY_Premium  QUALITY_Standard  \\\n",
       "0         1.5       12.98             True             False   \n",
       "1         1.5       12.98             True             False   \n",
       "2         3.3       13.96             True             False   \n",
       "3         2.7       11.96             True             False   \n",
       "4         2.5       11.96             True             False   \n",
       "...       ...         ...              ...               ...   \n",
       "2455795   1.5       12.98             True             False   \n",
       "2455796   1.8       12.98             True             False   \n",
       "2455797   1.8       19.98             True             False   \n",
       "2455798   2.9       23.98             True             False   \n",
       "2455799   2.5       11.96             True             False   \n",
       "\n",
       "         DELIVERY_OPTION_Delivery from Collection Point  \\\n",
       "0                                                 False   \n",
       "1                                                 False   \n",
       "2                                                  True   \n",
       "3                                                 False   \n",
       "4                                                 False   \n",
       "...                                                 ...   \n",
       "2455795                                           False   \n",
       "2455796                                           False   \n",
       "2455797                                           False   \n",
       "2455798                                           False   \n",
       "2455799                                           False   \n",
       "\n",
       "         DELIVERY_OPTION_Home Delivery - CoD  \\\n",
       "0                                       True   \n",
       "1                                       True   \n",
       "2                                      False   \n",
       "3                                       True   \n",
       "4                                       True   \n",
       "...                                      ...   \n",
       "2455795                                 True   \n",
       "2455796                                 True   \n",
       "2455797                                 True   \n",
       "2455798                                 True   \n",
       "2455799                                 True   \n",
       "\n",
       "         DELIVERY_OPTION_Home Delivery - Digital Payment  \n",
       "0                                                  False  \n",
       "1                                                  False  \n",
       "2                                                  False  \n",
       "3                                                  False  \n",
       "4                                                  False  \n",
       "...                                                  ...  \n",
       "2455795                                            False  \n",
       "2455796                                            False  \n",
       "2455797                                            False  \n",
       "2455798                                            False  \n",
       "2455799                                            False  \n",
       "\n",
       "[2455800 rows x 15 columns]"
      ],
      "text/html": [
       "<div>\n",
       "<style scoped>\n",
       "    .dataframe tbody tr th:only-of-type {\n",
       "        vertical-align: middle;\n",
       "    }\n",
       "\n",
       "    .dataframe tbody tr th {\n",
       "        vertical-align: top;\n",
       "    }\n",
       "\n",
       "    .dataframe thead th {\n",
       "        text-align: right;\n",
       "    }\n",
       "</style>\n",
       "<table border=\"1\" class=\"dataframe\">\n",
       "  <thead>\n",
       "    <tr style=\"text-align: right;\">\n",
       "      <th></th>\n",
       "      <th>PURCHASE_DATE</th>\n",
       "      <th>MAGIC_KEY</th>\n",
       "      <th>BOX_ID</th>\n",
       "      <th>BOX_COUNT</th>\n",
       "      <th>DAY</th>\n",
       "      <th>MONTH</th>\n",
       "      <th>YEAR</th>\n",
       "      <th>MILK</th>\n",
       "      <th>MEAT</th>\n",
       "      <th>UNIT_PRICE</th>\n",
       "      <th>QUALITY_Premium</th>\n",
       "      <th>QUALITY_Standard</th>\n",
       "      <th>DELIVERY_OPTION_Delivery from Collection Point</th>\n",
       "      <th>DELIVERY_OPTION_Home Delivery - CoD</th>\n",
       "      <th>DELIVERY_OPTION_Home Delivery - Digital Payment</th>\n",
       "    </tr>\n",
       "  </thead>\n",
       "  <tbody>\n",
       "    <tr>\n",
       "      <th>0</th>\n",
       "      <td>2019-02-01</td>\n",
       "      <td>2CED678A247</td>\n",
       "      <td>12.0</td>\n",
       "      <td>1.0</td>\n",
       "      <td>1</td>\n",
       "      <td>2</td>\n",
       "      <td>2019</td>\n",
       "      <td>8.0</td>\n",
       "      <td>1.5</td>\n",
       "      <td>12.98</td>\n",
       "      <td>True</td>\n",
       "      <td>False</td>\n",
       "      <td>False</td>\n",
       "      <td>True</td>\n",
       "      <td>False</td>\n",
       "    </tr>\n",
       "    <tr>\n",
       "      <th>1</th>\n",
       "      <td>2019-02-01</td>\n",
       "      <td>2BF58D91BA1</td>\n",
       "      <td>12.0</td>\n",
       "      <td>1.0</td>\n",
       "      <td>1</td>\n",
       "      <td>2</td>\n",
       "      <td>2019</td>\n",
       "      <td>8.0</td>\n",
       "      <td>1.5</td>\n",
       "      <td>12.98</td>\n",
       "      <td>True</td>\n",
       "      <td>False</td>\n",
       "      <td>False</td>\n",
       "      <td>True</td>\n",
       "      <td>False</td>\n",
       "    </tr>\n",
       "    <tr>\n",
       "      <th>2</th>\n",
       "      <td>2019-02-01</td>\n",
       "      <td>2C15B86534E</td>\n",
       "      <td>99.0</td>\n",
       "      <td>1.0</td>\n",
       "      <td>1</td>\n",
       "      <td>2</td>\n",
       "      <td>2019</td>\n",
       "      <td>0.0</td>\n",
       "      <td>3.3</td>\n",
       "      <td>13.96</td>\n",
       "      <td>True</td>\n",
       "      <td>False</td>\n",
       "      <td>True</td>\n",
       "      <td>False</td>\n",
       "      <td>False</td>\n",
       "    </tr>\n",
       "    <tr>\n",
       "      <th>3</th>\n",
       "      <td>2019-02-01</td>\n",
       "      <td>2C32D9A859A</td>\n",
       "      <td>6.0</td>\n",
       "      <td>1.0</td>\n",
       "      <td>1</td>\n",
       "      <td>2</td>\n",
       "      <td>2019</td>\n",
       "      <td>0.0</td>\n",
       "      <td>2.7</td>\n",
       "      <td>11.96</td>\n",
       "      <td>True</td>\n",
       "      <td>False</td>\n",
       "      <td>False</td>\n",
       "      <td>True</td>\n",
       "      <td>False</td>\n",
       "    </tr>\n",
       "    <tr>\n",
       "      <th>4</th>\n",
       "      <td>2019-02-01</td>\n",
       "      <td>2C7A55404D1</td>\n",
       "      <td>4.0</td>\n",
       "      <td>1.0</td>\n",
       "      <td>1</td>\n",
       "      <td>2</td>\n",
       "      <td>2019</td>\n",
       "      <td>0.0</td>\n",
       "      <td>2.5</td>\n",
       "      <td>11.96</td>\n",
       "      <td>True</td>\n",
       "      <td>False</td>\n",
       "      <td>False</td>\n",
       "      <td>True</td>\n",
       "      <td>False</td>\n",
       "    </tr>\n",
       "    <tr>\n",
       "      <th>...</th>\n",
       "      <td>...</td>\n",
       "      <td>...</td>\n",
       "      <td>...</td>\n",
       "      <td>...</td>\n",
       "      <td>...</td>\n",
       "      <td>...</td>\n",
       "      <td>...</td>\n",
       "      <td>...</td>\n",
       "      <td>...</td>\n",
       "      <td>...</td>\n",
       "      <td>...</td>\n",
       "      <td>...</td>\n",
       "      <td>...</td>\n",
       "      <td>...</td>\n",
       "      <td>...</td>\n",
       "    </tr>\n",
       "    <tr>\n",
       "      <th>2455795</th>\n",
       "      <td>2018-10-28</td>\n",
       "      <td>2BD992B5538</td>\n",
       "      <td>12.0</td>\n",
       "      <td>1.0</td>\n",
       "      <td>28</td>\n",
       "      <td>10</td>\n",
       "      <td>2018</td>\n",
       "      <td>8.0</td>\n",
       "      <td>1.5</td>\n",
       "      <td>12.98</td>\n",
       "      <td>True</td>\n",
       "      <td>False</td>\n",
       "      <td>False</td>\n",
       "      <td>True</td>\n",
       "      <td>False</td>\n",
       "    </tr>\n",
       "    <tr>\n",
       "      <th>2455796</th>\n",
       "      <td>2018-10-28</td>\n",
       "      <td>2C97CD72233</td>\n",
       "      <td>17.0</td>\n",
       "      <td>1.0</td>\n",
       "      <td>28</td>\n",
       "      <td>10</td>\n",
       "      <td>2018</td>\n",
       "      <td>10.0</td>\n",
       "      <td>1.8</td>\n",
       "      <td>12.98</td>\n",
       "      <td>True</td>\n",
       "      <td>False</td>\n",
       "      <td>False</td>\n",
       "      <td>True</td>\n",
       "      <td>False</td>\n",
       "    </tr>\n",
       "    <tr>\n",
       "      <th>2455797</th>\n",
       "      <td>2018-10-28</td>\n",
       "      <td>2C91C61D372</td>\n",
       "      <td>40.0</td>\n",
       "      <td>1.0</td>\n",
       "      <td>28</td>\n",
       "      <td>10</td>\n",
       "      <td>2018</td>\n",
       "      <td>12.0</td>\n",
       "      <td>1.8</td>\n",
       "      <td>19.98</td>\n",
       "      <td>True</td>\n",
       "      <td>False</td>\n",
       "      <td>False</td>\n",
       "      <td>True</td>\n",
       "      <td>False</td>\n",
       "    </tr>\n",
       "    <tr>\n",
       "      <th>2455798</th>\n",
       "      <td>2018-10-28</td>\n",
       "      <td>2CD70CFC4E3</td>\n",
       "      <td>51.0</td>\n",
       "      <td>1.0</td>\n",
       "      <td>28</td>\n",
       "      <td>10</td>\n",
       "      <td>2018</td>\n",
       "      <td>18.0</td>\n",
       "      <td>2.9</td>\n",
       "      <td>23.98</td>\n",
       "      <td>True</td>\n",
       "      <td>False</td>\n",
       "      <td>False</td>\n",
       "      <td>True</td>\n",
       "      <td>False</td>\n",
       "    </tr>\n",
       "    <tr>\n",
       "      <th>2455799</th>\n",
       "      <td>2018-10-28</td>\n",
       "      <td>2C4792A5B84</td>\n",
       "      <td>4.0</td>\n",
       "      <td>1.0</td>\n",
       "      <td>28</td>\n",
       "      <td>10</td>\n",
       "      <td>2018</td>\n",
       "      <td>0.0</td>\n",
       "      <td>2.5</td>\n",
       "      <td>11.96</td>\n",
       "      <td>True</td>\n",
       "      <td>False</td>\n",
       "      <td>False</td>\n",
       "      <td>True</td>\n",
       "      <td>False</td>\n",
       "    </tr>\n",
       "  </tbody>\n",
       "</table>\n",
       "<p>2455800 rows × 15 columns</p>\n",
       "</div>"
      ]
     },
     "execution_count": 548,
     "metadata": {},
     "output_type": "execute_result"
    }
   ],
   "execution_count": 548
  },
  {
   "metadata": {
    "ExecuteTime": {
     "end_time": "2024-04-20T17:44:02.917002Z",
     "start_time": "2024-04-20T17:44:00.297614Z"
    }
   },
   "cell_type": "code",
   "source": [
    "# Group by MAGIC_KEY and check if they purchased milk or meat\n",
    "purchase_summary = merged_df.groupby(['MAGIC_KEY','BOX_COUNT']).agg({'MEAT': 'sum'}).reset_index()"
   ],
   "id": "7997cd2c5a598ec0",
   "outputs": [],
   "execution_count": 549
  },
  {
   "metadata": {
    "ExecuteTime": {
     "end_time": "2024-04-20T17:44:06.738250Z",
     "start_time": "2024-04-20T17:44:02.917998Z"
    }
   },
   "cell_type": "code",
   "source": "purchase_summary['PURCHASE'] = purchase_summary.apply(lambda row: 1.0 if row['MEAT'] > 0 else 0.0, axis=1)",
   "id": "e0b6bf6c2ed47659",
   "outputs": [],
   "execution_count": 550
  },
  {
   "metadata": {},
   "cell_type": "markdown",
   "source": "",
   "id": "c6c902d94d5e57d6"
  },
  {
   "metadata": {
    "ExecuteTime": {
     "end_time": "2024-04-20T17:44:07.064399Z",
     "start_time": "2024-04-20T17:44:06.739248Z"
    }
   },
   "cell_type": "code",
   "source": "purchase_summary.drop_duplicates(subset=['MAGIC_KEY'])",
   "id": "7c585ec411d0599a",
   "outputs": [
    {
     "data": {
      "text/plain": [
       "           MAGIC_KEY  BOX_COUNT  MEAT  PURCHASE\n",
       "0        249670911D8        1.0   2.4       1.0\n",
       "1        249751FC4DD        1.0   1.8       1.0\n",
       "2        24978027606        1.0   2.9       1.0\n",
       "3        24979164422        1.0   2.5       1.0\n",
       "4        2497B8B4FDA        1.0   5.4       1.0\n",
       "...              ...        ...   ...       ...\n",
       "1275720  2E6F72C6F1C        1.0   4.8       1.0\n",
       "1275721  2E6F8194908        1.0   2.4       1.0\n",
       "1275722  2E6F9C7B9B4        1.0   2.2       1.0\n",
       "1275723  2E6FB0EBB32        1.0  12.8       1.0\n",
       "1275724  2E6FBE224FA        1.0   2.7       1.0\n",
       "\n",
       "[1274087 rows x 4 columns]"
      ],
      "text/html": [
       "<div>\n",
       "<style scoped>\n",
       "    .dataframe tbody tr th:only-of-type {\n",
       "        vertical-align: middle;\n",
       "    }\n",
       "\n",
       "    .dataframe tbody tr th {\n",
       "        vertical-align: top;\n",
       "    }\n",
       "\n",
       "    .dataframe thead th {\n",
       "        text-align: right;\n",
       "    }\n",
       "</style>\n",
       "<table border=\"1\" class=\"dataframe\">\n",
       "  <thead>\n",
       "    <tr style=\"text-align: right;\">\n",
       "      <th></th>\n",
       "      <th>MAGIC_KEY</th>\n",
       "      <th>BOX_COUNT</th>\n",
       "      <th>MEAT</th>\n",
       "      <th>PURCHASE</th>\n",
       "    </tr>\n",
       "  </thead>\n",
       "  <tbody>\n",
       "    <tr>\n",
       "      <th>0</th>\n",
       "      <td>249670911D8</td>\n",
       "      <td>1.0</td>\n",
       "      <td>2.4</td>\n",
       "      <td>1.0</td>\n",
       "    </tr>\n",
       "    <tr>\n",
       "      <th>1</th>\n",
       "      <td>249751FC4DD</td>\n",
       "      <td>1.0</td>\n",
       "      <td>1.8</td>\n",
       "      <td>1.0</td>\n",
       "    </tr>\n",
       "    <tr>\n",
       "      <th>2</th>\n",
       "      <td>24978027606</td>\n",
       "      <td>1.0</td>\n",
       "      <td>2.9</td>\n",
       "      <td>1.0</td>\n",
       "    </tr>\n",
       "    <tr>\n",
       "      <th>3</th>\n",
       "      <td>24979164422</td>\n",
       "      <td>1.0</td>\n",
       "      <td>2.5</td>\n",
       "      <td>1.0</td>\n",
       "    </tr>\n",
       "    <tr>\n",
       "      <th>4</th>\n",
       "      <td>2497B8B4FDA</td>\n",
       "      <td>1.0</td>\n",
       "      <td>5.4</td>\n",
       "      <td>1.0</td>\n",
       "    </tr>\n",
       "    <tr>\n",
       "      <th>...</th>\n",
       "      <td>...</td>\n",
       "      <td>...</td>\n",
       "      <td>...</td>\n",
       "      <td>...</td>\n",
       "    </tr>\n",
       "    <tr>\n",
       "      <th>1275720</th>\n",
       "      <td>2E6F72C6F1C</td>\n",
       "      <td>1.0</td>\n",
       "      <td>4.8</td>\n",
       "      <td>1.0</td>\n",
       "    </tr>\n",
       "    <tr>\n",
       "      <th>1275721</th>\n",
       "      <td>2E6F8194908</td>\n",
       "      <td>1.0</td>\n",
       "      <td>2.4</td>\n",
       "      <td>1.0</td>\n",
       "    </tr>\n",
       "    <tr>\n",
       "      <th>1275722</th>\n",
       "      <td>2E6F9C7B9B4</td>\n",
       "      <td>1.0</td>\n",
       "      <td>2.2</td>\n",
       "      <td>1.0</td>\n",
       "    </tr>\n",
       "    <tr>\n",
       "      <th>1275723</th>\n",
       "      <td>2E6FB0EBB32</td>\n",
       "      <td>1.0</td>\n",
       "      <td>12.8</td>\n",
       "      <td>1.0</td>\n",
       "    </tr>\n",
       "    <tr>\n",
       "      <th>1275724</th>\n",
       "      <td>2E6FBE224FA</td>\n",
       "      <td>1.0</td>\n",
       "      <td>2.7</td>\n",
       "      <td>1.0</td>\n",
       "    </tr>\n",
       "  </tbody>\n",
       "</table>\n",
       "<p>1274087 rows × 4 columns</p>\n",
       "</div>"
      ]
     },
     "execution_count": 551,
     "metadata": {},
     "output_type": "execute_result"
    }
   ],
   "execution_count": 551
  },
  {
   "metadata": {
    "ExecuteTime": {
     "end_time": "2024-04-20T17:44:07.220496Z",
     "start_time": "2024-04-20T17:44:07.064399Z"
    }
   },
   "cell_type": "code",
   "source": "purchase_summary.info()",
   "id": "14d389336f19de06",
   "outputs": [
    {
     "name": "stdout",
     "output_type": "stream",
     "text": [
      "<class 'pandas.core.frame.DataFrame'>\n",
      "RangeIndex: 1275725 entries, 0 to 1275724\n",
      "Data columns (total 4 columns):\n",
      " #   Column     Non-Null Count    Dtype  \n",
      "---  ------     --------------    -----  \n",
      " 0   MAGIC_KEY  1275725 non-null  object \n",
      " 1   BOX_COUNT  1275725 non-null  float64\n",
      " 2   MEAT       1275725 non-null  float64\n",
      " 3   PURCHASE   1275725 non-null  float64\n",
      "dtypes: float64(3), object(1)\n",
      "memory usage: 38.9+ MB\n"
     ]
    }
   ],
   "execution_count": 552
  },
  {
   "metadata": {
    "ExecuteTime": {
     "end_time": "2024-04-20T17:44:07.654603Z",
     "start_time": "2024-04-20T17:44:07.220496Z"
    }
   },
   "cell_type": "code",
   "source": "problem_data = pd.merge(problem, purchase_summary, on='MAGIC_KEY', how='left')",
   "id": "ec67cbf3da33917c",
   "outputs": [],
   "execution_count": 553
  },
  {
   "metadata": {
    "ExecuteTime": {
     "end_time": "2024-04-20T17:44:07.659604Z",
     "start_time": "2024-04-20T17:44:07.654603Z"
    }
   },
   "cell_type": "code",
   "source": "problem_data.nunique()",
   "id": "dae5bacb353659eb",
   "outputs": [
    {
     "data": {
      "text/plain": [
       "MAGIC_KEY    5379\n",
       "BOX_COUNT      11\n",
       "MEAT          261\n",
       "PURCHASE        2\n",
       "dtype: int64"
      ]
     },
     "execution_count": 554,
     "metadata": {},
     "output_type": "execute_result"
    }
   ],
   "execution_count": 554
  },
  {
   "metadata": {
    "ExecuteTime": {
     "end_time": "2024-04-20T17:44:07.670620Z",
     "start_time": "2024-04-20T17:44:07.659604Z"
    }
   },
   "cell_type": "code",
   "source": "problem_data.drop_duplicates(subset=['MAGIC_KEY'])",
   "id": "fea2beb98d4986c9",
   "outputs": [
    {
     "data": {
      "text/plain": [
       "        MAGIC_KEY  BOX_COUNT  MEAT  PURCHASE\n",
       "0     2BCFE9C06A7        1.0   3.6       1.0\n",
       "5     2C2A872B5A2        1.0   4.0       1.0\n",
       "6     2C6A897671B        1.0   6.6       1.0\n",
       "7     2C6F1287F53        1.0  13.8       1.0\n",
       "12    2C658198CC9        1.0   6.6       1.0\n",
       "...           ...        ...   ...       ...\n",
       "5576  2C0804EFE49        1.0   2.5       1.0\n",
       "5577  2C080B48630        1.0   0.0       0.0\n",
       "5578  2C08243C58E        1.0   2.4       1.0\n",
       "5579  2C082C78575        1.0   1.8       1.0\n",
       "5580  2C083B1F3E5        1.0   5.3       1.0\n",
       "\n",
       "[5379 rows x 4 columns]"
      ],
      "text/html": [
       "<div>\n",
       "<style scoped>\n",
       "    .dataframe tbody tr th:only-of-type {\n",
       "        vertical-align: middle;\n",
       "    }\n",
       "\n",
       "    .dataframe tbody tr th {\n",
       "        vertical-align: top;\n",
       "    }\n",
       "\n",
       "    .dataframe thead th {\n",
       "        text-align: right;\n",
       "    }\n",
       "</style>\n",
       "<table border=\"1\" class=\"dataframe\">\n",
       "  <thead>\n",
       "    <tr style=\"text-align: right;\">\n",
       "      <th></th>\n",
       "      <th>MAGIC_KEY</th>\n",
       "      <th>BOX_COUNT</th>\n",
       "      <th>MEAT</th>\n",
       "      <th>PURCHASE</th>\n",
       "    </tr>\n",
       "  </thead>\n",
       "  <tbody>\n",
       "    <tr>\n",
       "      <th>0</th>\n",
       "      <td>2BCFE9C06A7</td>\n",
       "      <td>1.0</td>\n",
       "      <td>3.6</td>\n",
       "      <td>1.0</td>\n",
       "    </tr>\n",
       "    <tr>\n",
       "      <th>5</th>\n",
       "      <td>2C2A872B5A2</td>\n",
       "      <td>1.0</td>\n",
       "      <td>4.0</td>\n",
       "      <td>1.0</td>\n",
       "    </tr>\n",
       "    <tr>\n",
       "      <th>6</th>\n",
       "      <td>2C6A897671B</td>\n",
       "      <td>1.0</td>\n",
       "      <td>6.6</td>\n",
       "      <td>1.0</td>\n",
       "    </tr>\n",
       "    <tr>\n",
       "      <th>7</th>\n",
       "      <td>2C6F1287F53</td>\n",
       "      <td>1.0</td>\n",
       "      <td>13.8</td>\n",
       "      <td>1.0</td>\n",
       "    </tr>\n",
       "    <tr>\n",
       "      <th>12</th>\n",
       "      <td>2C658198CC9</td>\n",
       "      <td>1.0</td>\n",
       "      <td>6.6</td>\n",
       "      <td>1.0</td>\n",
       "    </tr>\n",
       "    <tr>\n",
       "      <th>...</th>\n",
       "      <td>...</td>\n",
       "      <td>...</td>\n",
       "      <td>...</td>\n",
       "      <td>...</td>\n",
       "    </tr>\n",
       "    <tr>\n",
       "      <th>5576</th>\n",
       "      <td>2C0804EFE49</td>\n",
       "      <td>1.0</td>\n",
       "      <td>2.5</td>\n",
       "      <td>1.0</td>\n",
       "    </tr>\n",
       "    <tr>\n",
       "      <th>5577</th>\n",
       "      <td>2C080B48630</td>\n",
       "      <td>1.0</td>\n",
       "      <td>0.0</td>\n",
       "      <td>0.0</td>\n",
       "    </tr>\n",
       "    <tr>\n",
       "      <th>5578</th>\n",
       "      <td>2C08243C58E</td>\n",
       "      <td>1.0</td>\n",
       "      <td>2.4</td>\n",
       "      <td>1.0</td>\n",
       "    </tr>\n",
       "    <tr>\n",
       "      <th>5579</th>\n",
       "      <td>2C082C78575</td>\n",
       "      <td>1.0</td>\n",
       "      <td>1.8</td>\n",
       "      <td>1.0</td>\n",
       "    </tr>\n",
       "    <tr>\n",
       "      <th>5580</th>\n",
       "      <td>2C083B1F3E5</td>\n",
       "      <td>1.0</td>\n",
       "      <td>5.3</td>\n",
       "      <td>1.0</td>\n",
       "    </tr>\n",
       "  </tbody>\n",
       "</table>\n",
       "<p>5379 rows × 4 columns</p>\n",
       "</div>"
      ]
     },
     "execution_count": 555,
     "metadata": {},
     "output_type": "execute_result"
    }
   ],
   "execution_count": 555
  },
  {
   "metadata": {
    "ExecuteTime": {
     "end_time": "2024-04-20T17:44:07.673973Z",
     "start_time": "2024-04-20T17:44:07.670620Z"
    }
   },
   "cell_type": "code",
   "source": [
    "problem_data['MEAT'] = problem_data['MEAT'].fillna(problem_data['MEAT'].mean())\n",
    "problem_data['PURCHASE'] = problem_data['PURCHASE'].fillna(1)"
   ],
   "id": "b06b17e5bcdaf74d",
   "outputs": [],
   "execution_count": 556
  },
  {
   "metadata": {
    "ExecuteTime": {
     "end_time": "2024-04-20T17:44:07.682547Z",
     "start_time": "2024-04-20T17:44:07.673973Z"
    }
   },
   "cell_type": "code",
   "source": "problem_data.info()",
   "id": "bc4f7ff93f7fcc80",
   "outputs": [
    {
     "name": "stdout",
     "output_type": "stream",
     "text": [
      "<class 'pandas.core.frame.DataFrame'>\n",
      "RangeIndex: 5581 entries, 0 to 5580\n",
      "Data columns (total 4 columns):\n",
      " #   Column     Non-Null Count  Dtype  \n",
      "---  ------     --------------  -----  \n",
      " 0   MAGIC_KEY  5581 non-null   object \n",
      " 1   BOX_COUNT  5580 non-null   float64\n",
      " 2   MEAT       5581 non-null   float64\n",
      " 3   PURCHASE   5581 non-null   float64\n",
      "dtypes: float64(3), object(1)\n",
      "memory usage: 174.5+ KB\n"
     ]
    }
   ],
   "execution_count": 557
  },
  {
   "metadata": {
    "ExecuteTime": {
     "end_time": "2024-04-20T17:44:07.686552Z",
     "start_time": "2024-04-20T17:44:07.683544Z"
    }
   },
   "cell_type": "code",
   "source": [
    "# Split data into features and target\n",
    "X = problem_data.drop(['MAGIC_KEY', 'MEAT'], axis=1)\n",
    "y = problem_data['MEAT']"
   ],
   "id": "6a781caf4e6eba7a",
   "outputs": [],
   "execution_count": 558
  },
  {
   "metadata": {
    "ExecuteTime": {
     "end_time": "2024-04-20T17:44:07.727326Z",
     "start_time": "2024-04-20T17:44:07.686552Z"
    }
   },
   "cell_type": "code",
   "source": [
    "X_train, X_test, y_train, y_test = train_test_split(X, y, test_size=0.3, random_state=42)\n",
    "\n",
    "# Train Random Forest classifier\n",
    "rf_classifier = RandomForestRegressor()\n",
    "rf_classifier.fit(X_train, y_train)\n"
   ],
   "id": "a2e19a53542f9e92",
   "outputs": [
    {
     "ename": "ValueError",
     "evalue": "Unknown label type: continuous. Maybe you are trying to fit a classifier, which expects discrete classes on a regression target with continuous values.",
     "output_type": "error",
     "traceback": [
      "\u001B[1;31m---------------------------------------------------------------------------\u001B[0m",
      "\u001B[1;31mValueError\u001B[0m                                Traceback (most recent call last)",
      "Cell \u001B[1;32mIn[559], line 5\u001B[0m\n\u001B[0;32m      3\u001B[0m \u001B[38;5;66;03m# Train Random Forest classifier\u001B[39;00m\n\u001B[0;32m      4\u001B[0m rf_classifier \u001B[38;5;241m=\u001B[39m RandomForestClassifier()\n\u001B[1;32m----> 5\u001B[0m \u001B[43mrf_classifier\u001B[49m\u001B[38;5;241;43m.\u001B[39;49m\u001B[43mfit\u001B[49m\u001B[43m(\u001B[49m\u001B[43mX_train\u001B[49m\u001B[43m,\u001B[49m\u001B[43m \u001B[49m\u001B[43my_train\u001B[49m\u001B[43m)\u001B[49m\n",
      "File \u001B[1;32md:\\Robi-Datathon\\Problem3\\.venv\\Lib\\site-packages\\sklearn\\base.py:1474\u001B[0m, in \u001B[0;36m_fit_context.<locals>.decorator.<locals>.wrapper\u001B[1;34m(estimator, *args, **kwargs)\u001B[0m\n\u001B[0;32m   1467\u001B[0m     estimator\u001B[38;5;241m.\u001B[39m_validate_params()\n\u001B[0;32m   1469\u001B[0m \u001B[38;5;28;01mwith\u001B[39;00m config_context(\n\u001B[0;32m   1470\u001B[0m     skip_parameter_validation\u001B[38;5;241m=\u001B[39m(\n\u001B[0;32m   1471\u001B[0m         prefer_skip_nested_validation \u001B[38;5;129;01mor\u001B[39;00m global_skip_validation\n\u001B[0;32m   1472\u001B[0m     )\n\u001B[0;32m   1473\u001B[0m ):\n\u001B[1;32m-> 1474\u001B[0m     \u001B[38;5;28;01mreturn\u001B[39;00m \u001B[43mfit_method\u001B[49m\u001B[43m(\u001B[49m\u001B[43mestimator\u001B[49m\u001B[43m,\u001B[49m\u001B[43m \u001B[49m\u001B[38;5;241;43m*\u001B[39;49m\u001B[43margs\u001B[49m\u001B[43m,\u001B[49m\u001B[43m \u001B[49m\u001B[38;5;241;43m*\u001B[39;49m\u001B[38;5;241;43m*\u001B[39;49m\u001B[43mkwargs\u001B[49m\u001B[43m)\u001B[49m\n",
      "File \u001B[1;32md:\\Robi-Datathon\\Problem3\\.venv\\Lib\\site-packages\\sklearn\\ensemble\\_forest.py:421\u001B[0m, in \u001B[0;36mBaseForest.fit\u001B[1;34m(self, X, y, sample_weight)\u001B[0m\n\u001B[0;32m    414\u001B[0m         \u001B[38;5;28;01mraise\u001B[39;00m \u001B[38;5;167;01mValueError\u001B[39;00m(\n\u001B[0;32m    415\u001B[0m             \u001B[38;5;124m\"\u001B[39m\u001B[38;5;124mSum of y is not strictly positive which \u001B[39m\u001B[38;5;124m\"\u001B[39m\n\u001B[0;32m    416\u001B[0m             \u001B[38;5;124m\"\u001B[39m\u001B[38;5;124mis necessary for Poisson regression.\u001B[39m\u001B[38;5;124m\"\u001B[39m\n\u001B[0;32m    417\u001B[0m         )\n\u001B[0;32m    419\u001B[0m \u001B[38;5;28mself\u001B[39m\u001B[38;5;241m.\u001B[39m_n_samples, \u001B[38;5;28mself\u001B[39m\u001B[38;5;241m.\u001B[39mn_outputs_ \u001B[38;5;241m=\u001B[39m y\u001B[38;5;241m.\u001B[39mshape\n\u001B[1;32m--> 421\u001B[0m y, expanded_class_weight \u001B[38;5;241m=\u001B[39m \u001B[38;5;28;43mself\u001B[39;49m\u001B[38;5;241;43m.\u001B[39;49m\u001B[43m_validate_y_class_weight\u001B[49m\u001B[43m(\u001B[49m\u001B[43my\u001B[49m\u001B[43m)\u001B[49m\n\u001B[0;32m    423\u001B[0m \u001B[38;5;28;01mif\u001B[39;00m \u001B[38;5;28mgetattr\u001B[39m(y, \u001B[38;5;124m\"\u001B[39m\u001B[38;5;124mdtype\u001B[39m\u001B[38;5;124m\"\u001B[39m, \u001B[38;5;28;01mNone\u001B[39;00m) \u001B[38;5;241m!=\u001B[39m DOUBLE \u001B[38;5;129;01mor\u001B[39;00m \u001B[38;5;129;01mnot\u001B[39;00m y\u001B[38;5;241m.\u001B[39mflags\u001B[38;5;241m.\u001B[39mcontiguous:\n\u001B[0;32m    424\u001B[0m     y \u001B[38;5;241m=\u001B[39m np\u001B[38;5;241m.\u001B[39mascontiguousarray(y, dtype\u001B[38;5;241m=\u001B[39mDOUBLE)\n",
      "File \u001B[1;32md:\\Robi-Datathon\\Problem3\\.venv\\Lib\\site-packages\\sklearn\\ensemble\\_forest.py:831\u001B[0m, in \u001B[0;36mForestClassifier._validate_y_class_weight\u001B[1;34m(self, y)\u001B[0m\n\u001B[0;32m    830\u001B[0m \u001B[38;5;28;01mdef\u001B[39;00m \u001B[38;5;21m_validate_y_class_weight\u001B[39m(\u001B[38;5;28mself\u001B[39m, y):\n\u001B[1;32m--> 831\u001B[0m     \u001B[43mcheck_classification_targets\u001B[49m\u001B[43m(\u001B[49m\u001B[43my\u001B[49m\u001B[43m)\u001B[49m\n\u001B[0;32m    833\u001B[0m     y \u001B[38;5;241m=\u001B[39m np\u001B[38;5;241m.\u001B[39mcopy(y)\n\u001B[0;32m    834\u001B[0m     expanded_class_weight \u001B[38;5;241m=\u001B[39m \u001B[38;5;28;01mNone\u001B[39;00m\n",
      "File \u001B[1;32md:\\Robi-Datathon\\Problem3\\.venv\\Lib\\site-packages\\sklearn\\utils\\multiclass.py:221\u001B[0m, in \u001B[0;36mcheck_classification_targets\u001B[1;34m(y)\u001B[0m\n\u001B[0;32m    213\u001B[0m y_type \u001B[38;5;241m=\u001B[39m type_of_target(y, input_name\u001B[38;5;241m=\u001B[39m\u001B[38;5;124m\"\u001B[39m\u001B[38;5;124my\u001B[39m\u001B[38;5;124m\"\u001B[39m)\n\u001B[0;32m    214\u001B[0m \u001B[38;5;28;01mif\u001B[39;00m y_type \u001B[38;5;129;01mnot\u001B[39;00m \u001B[38;5;129;01min\u001B[39;00m [\n\u001B[0;32m    215\u001B[0m     \u001B[38;5;124m\"\u001B[39m\u001B[38;5;124mbinary\u001B[39m\u001B[38;5;124m\"\u001B[39m,\n\u001B[0;32m    216\u001B[0m     \u001B[38;5;124m\"\u001B[39m\u001B[38;5;124mmulticlass\u001B[39m\u001B[38;5;124m\"\u001B[39m,\n\u001B[1;32m   (...)\u001B[0m\n\u001B[0;32m    219\u001B[0m     \u001B[38;5;124m\"\u001B[39m\u001B[38;5;124mmultilabel-sequences\u001B[39m\u001B[38;5;124m\"\u001B[39m,\n\u001B[0;32m    220\u001B[0m ]:\n\u001B[1;32m--> 221\u001B[0m     \u001B[38;5;28;01mraise\u001B[39;00m \u001B[38;5;167;01mValueError\u001B[39;00m(\n\u001B[0;32m    222\u001B[0m         \u001B[38;5;124mf\u001B[39m\u001B[38;5;124m\"\u001B[39m\u001B[38;5;124mUnknown label type: \u001B[39m\u001B[38;5;132;01m{\u001B[39;00my_type\u001B[38;5;132;01m}\u001B[39;00m\u001B[38;5;124m. Maybe you are trying to fit a \u001B[39m\u001B[38;5;124m\"\u001B[39m\n\u001B[0;32m    223\u001B[0m         \u001B[38;5;124m\"\u001B[39m\u001B[38;5;124mclassifier, which expects discrete classes on a \u001B[39m\u001B[38;5;124m\"\u001B[39m\n\u001B[0;32m    224\u001B[0m         \u001B[38;5;124m\"\u001B[39m\u001B[38;5;124mregression target with continuous values.\u001B[39m\u001B[38;5;124m\"\u001B[39m\n\u001B[0;32m    225\u001B[0m     )\n",
      "\u001B[1;31mValueError\u001B[0m: Unknown label type: continuous. Maybe you are trying to fit a classifier, which expects discrete classes on a regression target with continuous values."
     ]
    }
   ],
   "execution_count": 559
  },
  {
   "metadata": {
    "ExecuteTime": {
     "end_time": "2024-04-20T17:44:07.727326Z",
     "start_time": "2024-04-20T17:44:07.727326Z"
    }
   },
   "cell_type": "code",
   "source": [
    "# rf_grid = {\"n_estimators\": np.arange(10, 1000, 50),\n",
    "#            \"max_depth\": [None, 3, 5, 10],\n",
    "#            \"min_samples_split\": np.arange(2, 20, 2),\n",
    "#            \"min_samples_leaf\": np.arange(1, 20, 2)}"
   ],
   "id": "f40bb339e971e874",
   "outputs": [],
   "execution_count": null
  },
  {
   "metadata": {},
   "cell_type": "code",
   "source": [
    "# from sklearn.model_selection import RandomizedSearchCV\n",
    "# \n",
    "# np.random.seed(42)\n",
    "# \n",
    "# rs_model = RandomizedSearchCV(RandomForestRegressor(),\n",
    "#                               param_distributions=rf_grid,\n",
    "#                               cv=5,\n",
    "#                               n_iter=20,\n",
    "#                               verbose=True)\n",
    "# \n",
    "# rs_model.fit(X_train, y_train)"
   ],
   "id": "1182790448e76de8",
   "outputs": [],
   "execution_count": null
  },
  {
   "metadata": {},
   "cell_type": "code",
   "source": "# rs_model.best_params_",
   "id": "282f04e1cc368b30",
   "outputs": [],
   "execution_count": null
  },
  {
   "metadata": {},
   "cell_type": "code",
   "source": [
    "# Step 4: Model Evaluation\n",
    "# Predict on test set\n",
    "y_pred = rf_classifier.predict(X_test)\n",
    "\n",
    "# Evaluate model\n",
    "accuracy = r2_score(y_test, y_pred)\n",
    "print(\"Accuracy:\", accuracy*100)\n"
   ],
   "id": "6c17232f86e37a20",
   "outputs": [],
   "execution_count": null
  },
  {
   "metadata": {},
   "cell_type": "code",
   "source": "predictions = rf_classifier.predict(X)",
   "id": "40fc3d07ad165396",
   "outputs": [],
   "execution_count": null
  },
  {
   "metadata": {},
   "cell_type": "code",
   "source": "len(predictions)",
   "id": "34859f2d4b571da8",
   "outputs": [],
   "execution_count": null
  },
  {
   "metadata": {},
   "cell_type": "code",
   "source": "predictions = np.round(predictions,1)",
   "id": "c6f5e5683adf7a76",
   "outputs": [],
   "execution_count": null
  },
  {
   "metadata": {},
   "cell_type": "code",
   "source": [
    "submission = pd.DataFrame({\n",
    "    'MAGIC_KEY': problem['MAGIC_KEY'],\n",
    "    'MEAT': [pred for pred in predictions ]\n",
    "})"
   ],
   "id": "ba387721d48c20ba",
   "outputs": [],
   "execution_count": null
  },
  {
   "metadata": {},
   "cell_type": "code",
   "source": "submission.to_csv('submission.csv', index=False)",
   "id": "85a6948e7a6a3fd2",
   "outputs": [],
   "execution_count": null
  }
 ],
 "metadata": {
  "kernelspec": {
   "display_name": "Python 3",
   "language": "python",
   "name": "python3"
  },
  "language_info": {
   "codemirror_mode": {
    "name": "ipython",
    "version": 2
   },
   "file_extension": ".py",
   "mimetype": "text/x-python",
   "name": "python",
   "nbconvert_exporter": "python",
   "pygments_lexer": "ipython2",
   "version": "2.7.6"
  }
 },
 "nbformat": 4,
 "nbformat_minor": 5
}
