{
 "cells": [
  {
   "cell_type": "markdown",
   "metadata": {},
   "source": [
    "# PROBLEM 2\n",
    "Magic Keys given in “problem 2.csv” purchased only one box of milk and/or meat in the first 15 days of March-2019. You need to predict which boxes were purchased by these customers in this period."
   ]
  },
  {
   "cell_type": "code",
   "metadata": {
    "ExecuteTime": {
     "end_time": "2024-04-20T17:09:40.299911Z",
     "start_time": "2024-04-20T17:09:40.296900Z"
    }
   },
   "source": [
    "import pandas as pd\n",
    "import numpy as np"
   ],
   "outputs": [],
   "execution_count": 417
  },
  {
   "cell_type": "markdown",
   "metadata": {},
   "source": [
    "## Exploration"
   ]
  },
  {
   "cell_type": "code",
   "metadata": {
    "ExecuteTime": {
     "end_time": "2024-04-20T17:09:41.603060Z",
     "start_time": "2024-04-20T17:09:40.406001Z"
    }
   },
   "source": [
    "purchase_df = pd.read_csv(\"purchase.csv\")\n",
    "boxes_df = pd.read_csv(\"boxes.csv\")\n",
    "problem2_df = pd.read_csv(\"problem 2.csv\")"
   ],
   "outputs": [],
   "execution_count": 418
  },
  {
   "cell_type": "code",
   "metadata": {
    "ExecuteTime": {
     "end_time": "2024-04-20T17:09:41.606940Z",
     "start_time": "2024-04-20T17:09:41.604057Z"
    }
   },
   "source": [
    "# Utility Function\n",
    "\n",
    "def analyze(df):\n",
    "    print(f\"Number of rows: {len(df)}\")    \n",
    "    print(f\"Number of columns: {len(df.columns)}\")\n",
    "    \n",
    "    info_df = pd.DataFrame({\n",
    "        \"NUNIQUE\": df.nunique(),\n",
    "        \"DTYPE\": df.dtypes\n",
    "    })\n",
    "    \n",
    "    print()\n",
    "    print(info_df)"
   ],
   "outputs": [],
   "execution_count": 419
  },
  {
   "cell_type": "code",
   "metadata": {
    "ExecuteTime": {
     "end_time": "2024-04-20T17:09:42.199769Z",
     "start_time": "2024-04-20T17:09:41.606940Z"
    }
   },
   "source": [
    "analyze(purchase_df)"
   ],
   "outputs": [
    {
     "name": "stdout",
     "output_type": "stream",
     "text": [
      "Number of rows: 2455864\n",
      "Number of columns: 4\n",
      "\n",
      "               NUNIQUE    DTYPE\n",
      "PURCHASE_DATE      151   object\n",
      "MAGIC_KEY      1274108   object\n",
      "BOX_ID             291  float64\n",
      "BOX_COUNT           14  float64\n"
     ]
    }
   ],
   "execution_count": 420
  },
  {
   "cell_type": "code",
   "metadata": {
    "ExecuteTime": {
     "end_time": "2024-04-20T17:09:42.204954Z",
     "start_time": "2024-04-20T17:09:42.200761Z"
    }
   },
   "source": [
    "analyze(boxes_df)"
   ],
   "outputs": [
    {
     "name": "stdout",
     "output_type": "stream",
     "text": [
      "Number of rows: 290\n",
      "Number of columns: 6\n",
      "\n",
      "                 NUNIQUE    DTYPE\n",
      "BOX_ID               290    int64\n",
      "QUALITY                2   object\n",
      "DELIVERY_OPTION        3   object\n",
      "MILK                  28  float64\n",
      "MEAT                  39  float64\n",
      "UNIT_PRICE            18  float64\n"
     ]
    }
   ],
   "execution_count": 421
  },
  {
   "cell_type": "code",
   "metadata": {
    "ExecuteTime": {
     "end_time": "2024-04-20T17:09:42.216777Z",
     "start_time": "2024-04-20T17:09:42.204954Z"
    }
   },
   "source": [
    "analyze(problem2_df)"
   ],
   "outputs": [
    {
     "name": "stdout",
     "output_type": "stream",
     "text": [
      "Number of rows: 43518\n",
      "Number of columns: 1\n",
      "\n",
      "           NUNIQUE   DTYPE\n",
      "MAGIC_KEY    43518  object\n"
     ]
    }
   ],
   "execution_count": 422
  },
  {
   "cell_type": "markdown",
   "metadata": {},
   "source": [
    "## Preprocessing"
   ]
  },
  {
   "cell_type": "code",
   "metadata": {
    "ExecuteTime": {
     "end_time": "2024-04-20T17:09:42.459961Z",
     "start_time": "2024-04-20T17:09:42.216777Z"
    }
   },
   "source": [
    "merged_df = purchase_df.merge(boxes_df, on=\"BOX_ID\", how=\"left\")"
   ],
   "outputs": [],
   "execution_count": 423
  },
  {
   "cell_type": "code",
   "metadata": {
    "ExecuteTime": {
     "end_time": "2024-04-20T17:09:43.416911Z",
     "start_time": "2024-04-20T17:09:42.460961Z"
    }
   },
   "source": [
    "analyze(merged_df)"
   ],
   "outputs": [
    {
     "name": "stdout",
     "output_type": "stream",
     "text": [
      "Number of rows: 2455864\n",
      "Number of columns: 9\n",
      "\n",
      "                 NUNIQUE    DTYPE\n",
      "PURCHASE_DATE        151   object\n",
      "MAGIC_KEY        1274108   object\n",
      "BOX_ID               291  float64\n",
      "BOX_COUNT             14  float64\n",
      "QUALITY                2   object\n",
      "DELIVERY_OPTION        3   object\n",
      "MILK                  28  float64\n",
      "MEAT                  39  float64\n",
      "UNIT_PRICE            18  float64\n"
     ]
    }
   ],
   "execution_count": 424
  },
  {
   "cell_type": "code",
   "metadata": {
    "ExecuteTime": {
     "end_time": "2024-04-20T17:09:43.725267Z",
     "start_time": "2024-04-20T17:09:43.416911Z"
    }
   },
   "source": [
    "merged_df[\"PURCHASE_DATE\"] = pd.to_datetime(merged_df['PURCHASE_DATE'],format='%d/%m/%Y')\n",
    "merged_df['DAY'] = merged_df['PURCHASE_DATE'].dt.day\n",
    "merged_df['MONTH'] = merged_df['PURCHASE_DATE'].dt.month\n",
    "merged_df['YEAR'] = merged_df['PURCHASE_DATE'].dt.year"
   ],
   "outputs": [],
   "execution_count": 425
  },
  {
   "cell_type": "code",
   "metadata": {
    "ExecuteTime": {
     "end_time": "2024-04-20T17:09:48.122725Z",
     "start_time": "2024-04-20T17:09:43.725267Z"
    }
   },
   "source": [
    "from sklearn.preprocessing import LabelEncoder\n",
    "le = LabelEncoder()\n",
    "\n",
    "merged_df[\"QUALITY\"] = le.fit_transform(merged_df[\"QUALITY\"])\n",
    "merged_df[\"DELIVERY_OPTION\"] = le.fit_transform(merged_df[\"DELIVERY_OPTION\"])\n",
    "merged_df[\"ALT_MAGIC_KEY\"] = le.fit_transform(merged_df[\"MAGIC_KEY\"])"
   ],
   "outputs": [],
   "execution_count": 426
  },
  {
   "cell_type": "code",
   "metadata": {
    "ExecuteTime": {
     "end_time": "2024-04-20T17:09:48.296610Z",
     "start_time": "2024-04-20T17:09:48.123723Z"
    }
   },
   "source": [
    "merged_df.drop(columns=[\"PURCHASE_DATE\"], inplace=True)\n",
    "merged_df = merged_df.reindex(columns=[\"MAGIC_KEY\", \"ALT_MAGIC_KEY\",\n",
    "                                       \"YEAR\", \"MONTH\", \"DAY\",\n",
    "                                       \"MILK\", \"MEAT\",\n",
    "                                       \"BOX_COUNT\", \"UNIT_PRICE\",\n",
    "                                       \"QUALITY\", \"DELIVERY_OPTION\",\n",
    "                                       \"BOX_ID\"])"
   ],
   "outputs": [],
   "execution_count": 427
  },
  {
   "cell_type": "code",
   "metadata": {
    "ExecuteTime": {
     "end_time": "2024-04-20T17:09:48.931873Z",
     "start_time": "2024-04-20T17:09:48.297605Z"
    }
   },
   "source": [
    "analyze(merged_df)"
   ],
   "outputs": [
    {
     "name": "stdout",
     "output_type": "stream",
     "text": [
      "Number of rows: 2455864\n",
      "Number of columns: 12\n",
      "\n",
      "                 NUNIQUE    DTYPE\n",
      "MAGIC_KEY        1274108   object\n",
      "ALT_MAGIC_KEY    1274108    int32\n",
      "YEAR                   2    int32\n",
      "MONTH                  5    int32\n",
      "DAY                   31    int32\n",
      "MILK                  28  float64\n",
      "MEAT                  39  float64\n",
      "BOX_COUNT             14  float64\n",
      "UNIT_PRICE            18  float64\n",
      "QUALITY                3    int32\n",
      "DELIVERY_OPTION        4    int32\n",
      "BOX_ID               291  float64\n"
     ]
    }
   ],
   "execution_count": 428
  },
  {
   "cell_type": "code",
   "metadata": {
    "ExecuteTime": {
     "end_time": "2024-04-20T17:09:49.011303Z",
     "start_time": "2024-04-20T17:09:48.931873Z"
    }
   },
   "source": [
    "merged_df.isna().sum()"
   ],
   "outputs": [
    {
     "data": {
      "text/plain": [
       "MAGIC_KEY           0\n",
       "ALT_MAGIC_KEY       0\n",
       "YEAR                0\n",
       "MONTH               0\n",
       "DAY                 0\n",
       "MILK               64\n",
       "MEAT               64\n",
       "BOX_COUNT          47\n",
       "UNIT_PRICE         64\n",
       "QUALITY             0\n",
       "DELIVERY_OPTION     0\n",
       "BOX_ID             47\n",
       "dtype: int64"
      ]
     },
     "execution_count": 429,
     "metadata": {},
     "output_type": "execute_result"
    }
   ],
   "execution_count": 429
  },
  {
   "cell_type": "code",
   "metadata": {
    "ExecuteTime": {
     "end_time": "2024-04-20T17:09:49.133213Z",
     "start_time": "2024-04-20T17:09:49.011303Z"
    }
   },
   "source": [
    "merged_df = merged_df[merged_df[\"BOX_ID\"].isna() == False]"
   ],
   "outputs": [],
   "execution_count": 430
  },
  {
   "cell_type": "code",
   "metadata": {
    "ExecuteTime": {
     "end_time": "2024-04-20T17:09:49.219501Z",
     "start_time": "2024-04-20T17:09:49.133213Z"
    }
   },
   "source": [
    "merged_df.isna().sum()"
   ],
   "outputs": [
    {
     "data": {
      "text/plain": [
       "MAGIC_KEY           0\n",
       "ALT_MAGIC_KEY       0\n",
       "YEAR                0\n",
       "MONTH               0\n",
       "DAY                 0\n",
       "MILK               17\n",
       "MEAT               17\n",
       "BOX_COUNT           0\n",
       "UNIT_PRICE         17\n",
       "QUALITY             0\n",
       "DELIVERY_OPTION     0\n",
       "BOX_ID              0\n",
       "dtype: int64"
      ]
     },
     "execution_count": 431,
     "metadata": {},
     "output_type": "execute_result"
    }
   ],
   "execution_count": 431
  },
  {
   "cell_type": "code",
   "metadata": {
    "ExecuteTime": {
     "end_time": "2024-04-20T17:09:49.230638Z",
     "start_time": "2024-04-20T17:09:49.219501Z"
    }
   },
   "source": [
    "merged_df[merged_df[\"MILK\"].isna()]"
   ],
   "outputs": [
    {
     "data": {
      "text/plain": [
       "           MAGIC_KEY  ALT_MAGIC_KEY  YEAR  MONTH  DAY  MILK  MEAT  BOX_COUNT  \\\n",
       "191      2CCB122460D        1110382  2019      2    1   NaN   NaN       -1.0   \n",
       "192      2CEDA71E3E9        1223075  2019      2    1   NaN   NaN       -1.0   \n",
       "193      2CBDC970258        1067979  2019      2    1   NaN   NaN       -1.0   \n",
       "194      2932761FEB6         234644  2019      2    1   NaN   NaN       -1.0   \n",
       "195      28F09714410          96773  2019      2    1   NaN   NaN       -1.0   \n",
       "196      2BDAE37A00E         429999  2019      2    1   NaN   NaN       -1.0   \n",
       "197      2C3C7E168F7         735354  2019      2    1   NaN   NaN       -1.0   \n",
       "525713   2C3C7E168F7         735354  2019      2   27   NaN   NaN       -1.0   \n",
       "597615   2CEDA71E3E9        1223075  2019      1    1   NaN   NaN       -1.0   \n",
       "665861   2C3C7E168F7         735354  2019      1    5   NaN   NaN       -1.0   \n",
       "688095   2CBDC970258        1067979  2019      1    6   NaN   NaN       -1.0   \n",
       "1251257  2C3C7E168F7         735354  2018     12   10   NaN   NaN       -1.0   \n",
       "1834669  2C3C7E168F7         735354  2018     11   10   NaN   NaN       -1.0   \n",
       "1943916  2CBDC970258        1067979  2018     11   24   NaN   NaN       -1.0   \n",
       "2002908  2CBDC970258        1067979  2018     10    5   NaN   NaN       -1.0   \n",
       "2105309  2BDAE37A00E         429999  2018     10   13   NaN   NaN       -1.0   \n",
       "2123428  2C3C7E168F7         735354  2018     10   12   NaN   NaN       -1.0   \n",
       "\n",
       "         UNIT_PRICE  QUALITY  DELIVERY_OPTION      BOX_ID  \n",
       "191             NaN        2                3  11111111.0  \n",
       "192             NaN        2                3  11111111.0  \n",
       "193             NaN        2                3  11111111.0  \n",
       "194             NaN        2                3  11111111.0  \n",
       "195             NaN        2                3  11111111.0  \n",
       "196             NaN        2                3  11111111.0  \n",
       "197             NaN        2                3  11111111.0  \n",
       "525713          NaN        2                3  11111111.0  \n",
       "597615          NaN        2                3  11111111.0  \n",
       "665861          NaN        2                3  11111111.0  \n",
       "688095          NaN        2                3  11111111.0  \n",
       "1251257         NaN        2                3  11111111.0  \n",
       "1834669         NaN        2                3  11111111.0  \n",
       "1943916         NaN        2                3  11111111.0  \n",
       "2002908         NaN        2                3  11111111.0  \n",
       "2105309         NaN        2                3  11111111.0  \n",
       "2123428         NaN        2                3  11111111.0  "
      ],
      "text/html": [
       "<div>\n",
       "<style scoped>\n",
       "    .dataframe tbody tr th:only-of-type {\n",
       "        vertical-align: middle;\n",
       "    }\n",
       "\n",
       "    .dataframe tbody tr th {\n",
       "        vertical-align: top;\n",
       "    }\n",
       "\n",
       "    .dataframe thead th {\n",
       "        text-align: right;\n",
       "    }\n",
       "</style>\n",
       "<table border=\"1\" class=\"dataframe\">\n",
       "  <thead>\n",
       "    <tr style=\"text-align: right;\">\n",
       "      <th></th>\n",
       "      <th>MAGIC_KEY</th>\n",
       "      <th>ALT_MAGIC_KEY</th>\n",
       "      <th>YEAR</th>\n",
       "      <th>MONTH</th>\n",
       "      <th>DAY</th>\n",
       "      <th>MILK</th>\n",
       "      <th>MEAT</th>\n",
       "      <th>BOX_COUNT</th>\n",
       "      <th>UNIT_PRICE</th>\n",
       "      <th>QUALITY</th>\n",
       "      <th>DELIVERY_OPTION</th>\n",
       "      <th>BOX_ID</th>\n",
       "    </tr>\n",
       "  </thead>\n",
       "  <tbody>\n",
       "    <tr>\n",
       "      <th>191</th>\n",
       "      <td>2CCB122460D</td>\n",
       "      <td>1110382</td>\n",
       "      <td>2019</td>\n",
       "      <td>2</td>\n",
       "      <td>1</td>\n",
       "      <td>NaN</td>\n",
       "      <td>NaN</td>\n",
       "      <td>-1.0</td>\n",
       "      <td>NaN</td>\n",
       "      <td>2</td>\n",
       "      <td>3</td>\n",
       "      <td>11111111.0</td>\n",
       "    </tr>\n",
       "    <tr>\n",
       "      <th>192</th>\n",
       "      <td>2CEDA71E3E9</td>\n",
       "      <td>1223075</td>\n",
       "      <td>2019</td>\n",
       "      <td>2</td>\n",
       "      <td>1</td>\n",
       "      <td>NaN</td>\n",
       "      <td>NaN</td>\n",
       "      <td>-1.0</td>\n",
       "      <td>NaN</td>\n",
       "      <td>2</td>\n",
       "      <td>3</td>\n",
       "      <td>11111111.0</td>\n",
       "    </tr>\n",
       "    <tr>\n",
       "      <th>193</th>\n",
       "      <td>2CBDC970258</td>\n",
       "      <td>1067979</td>\n",
       "      <td>2019</td>\n",
       "      <td>2</td>\n",
       "      <td>1</td>\n",
       "      <td>NaN</td>\n",
       "      <td>NaN</td>\n",
       "      <td>-1.0</td>\n",
       "      <td>NaN</td>\n",
       "      <td>2</td>\n",
       "      <td>3</td>\n",
       "      <td>11111111.0</td>\n",
       "    </tr>\n",
       "    <tr>\n",
       "      <th>194</th>\n",
       "      <td>2932761FEB6</td>\n",
       "      <td>234644</td>\n",
       "      <td>2019</td>\n",
       "      <td>2</td>\n",
       "      <td>1</td>\n",
       "      <td>NaN</td>\n",
       "      <td>NaN</td>\n",
       "      <td>-1.0</td>\n",
       "      <td>NaN</td>\n",
       "      <td>2</td>\n",
       "      <td>3</td>\n",
       "      <td>11111111.0</td>\n",
       "    </tr>\n",
       "    <tr>\n",
       "      <th>195</th>\n",
       "      <td>28F09714410</td>\n",
       "      <td>96773</td>\n",
       "      <td>2019</td>\n",
       "      <td>2</td>\n",
       "      <td>1</td>\n",
       "      <td>NaN</td>\n",
       "      <td>NaN</td>\n",
       "      <td>-1.0</td>\n",
       "      <td>NaN</td>\n",
       "      <td>2</td>\n",
       "      <td>3</td>\n",
       "      <td>11111111.0</td>\n",
       "    </tr>\n",
       "    <tr>\n",
       "      <th>196</th>\n",
       "      <td>2BDAE37A00E</td>\n",
       "      <td>429999</td>\n",
       "      <td>2019</td>\n",
       "      <td>2</td>\n",
       "      <td>1</td>\n",
       "      <td>NaN</td>\n",
       "      <td>NaN</td>\n",
       "      <td>-1.0</td>\n",
       "      <td>NaN</td>\n",
       "      <td>2</td>\n",
       "      <td>3</td>\n",
       "      <td>11111111.0</td>\n",
       "    </tr>\n",
       "    <tr>\n",
       "      <th>197</th>\n",
       "      <td>2C3C7E168F7</td>\n",
       "      <td>735354</td>\n",
       "      <td>2019</td>\n",
       "      <td>2</td>\n",
       "      <td>1</td>\n",
       "      <td>NaN</td>\n",
       "      <td>NaN</td>\n",
       "      <td>-1.0</td>\n",
       "      <td>NaN</td>\n",
       "      <td>2</td>\n",
       "      <td>3</td>\n",
       "      <td>11111111.0</td>\n",
       "    </tr>\n",
       "    <tr>\n",
       "      <th>525713</th>\n",
       "      <td>2C3C7E168F7</td>\n",
       "      <td>735354</td>\n",
       "      <td>2019</td>\n",
       "      <td>2</td>\n",
       "      <td>27</td>\n",
       "      <td>NaN</td>\n",
       "      <td>NaN</td>\n",
       "      <td>-1.0</td>\n",
       "      <td>NaN</td>\n",
       "      <td>2</td>\n",
       "      <td>3</td>\n",
       "      <td>11111111.0</td>\n",
       "    </tr>\n",
       "    <tr>\n",
       "      <th>597615</th>\n",
       "      <td>2CEDA71E3E9</td>\n",
       "      <td>1223075</td>\n",
       "      <td>2019</td>\n",
       "      <td>1</td>\n",
       "      <td>1</td>\n",
       "      <td>NaN</td>\n",
       "      <td>NaN</td>\n",
       "      <td>-1.0</td>\n",
       "      <td>NaN</td>\n",
       "      <td>2</td>\n",
       "      <td>3</td>\n",
       "      <td>11111111.0</td>\n",
       "    </tr>\n",
       "    <tr>\n",
       "      <th>665861</th>\n",
       "      <td>2C3C7E168F7</td>\n",
       "      <td>735354</td>\n",
       "      <td>2019</td>\n",
       "      <td>1</td>\n",
       "      <td>5</td>\n",
       "      <td>NaN</td>\n",
       "      <td>NaN</td>\n",
       "      <td>-1.0</td>\n",
       "      <td>NaN</td>\n",
       "      <td>2</td>\n",
       "      <td>3</td>\n",
       "      <td>11111111.0</td>\n",
       "    </tr>\n",
       "    <tr>\n",
       "      <th>688095</th>\n",
       "      <td>2CBDC970258</td>\n",
       "      <td>1067979</td>\n",
       "      <td>2019</td>\n",
       "      <td>1</td>\n",
       "      <td>6</td>\n",
       "      <td>NaN</td>\n",
       "      <td>NaN</td>\n",
       "      <td>-1.0</td>\n",
       "      <td>NaN</td>\n",
       "      <td>2</td>\n",
       "      <td>3</td>\n",
       "      <td>11111111.0</td>\n",
       "    </tr>\n",
       "    <tr>\n",
       "      <th>1251257</th>\n",
       "      <td>2C3C7E168F7</td>\n",
       "      <td>735354</td>\n",
       "      <td>2018</td>\n",
       "      <td>12</td>\n",
       "      <td>10</td>\n",
       "      <td>NaN</td>\n",
       "      <td>NaN</td>\n",
       "      <td>-1.0</td>\n",
       "      <td>NaN</td>\n",
       "      <td>2</td>\n",
       "      <td>3</td>\n",
       "      <td>11111111.0</td>\n",
       "    </tr>\n",
       "    <tr>\n",
       "      <th>1834669</th>\n",
       "      <td>2C3C7E168F7</td>\n",
       "      <td>735354</td>\n",
       "      <td>2018</td>\n",
       "      <td>11</td>\n",
       "      <td>10</td>\n",
       "      <td>NaN</td>\n",
       "      <td>NaN</td>\n",
       "      <td>-1.0</td>\n",
       "      <td>NaN</td>\n",
       "      <td>2</td>\n",
       "      <td>3</td>\n",
       "      <td>11111111.0</td>\n",
       "    </tr>\n",
       "    <tr>\n",
       "      <th>1943916</th>\n",
       "      <td>2CBDC970258</td>\n",
       "      <td>1067979</td>\n",
       "      <td>2018</td>\n",
       "      <td>11</td>\n",
       "      <td>24</td>\n",
       "      <td>NaN</td>\n",
       "      <td>NaN</td>\n",
       "      <td>-1.0</td>\n",
       "      <td>NaN</td>\n",
       "      <td>2</td>\n",
       "      <td>3</td>\n",
       "      <td>11111111.0</td>\n",
       "    </tr>\n",
       "    <tr>\n",
       "      <th>2002908</th>\n",
       "      <td>2CBDC970258</td>\n",
       "      <td>1067979</td>\n",
       "      <td>2018</td>\n",
       "      <td>10</td>\n",
       "      <td>5</td>\n",
       "      <td>NaN</td>\n",
       "      <td>NaN</td>\n",
       "      <td>-1.0</td>\n",
       "      <td>NaN</td>\n",
       "      <td>2</td>\n",
       "      <td>3</td>\n",
       "      <td>11111111.0</td>\n",
       "    </tr>\n",
       "    <tr>\n",
       "      <th>2105309</th>\n",
       "      <td>2BDAE37A00E</td>\n",
       "      <td>429999</td>\n",
       "      <td>2018</td>\n",
       "      <td>10</td>\n",
       "      <td>13</td>\n",
       "      <td>NaN</td>\n",
       "      <td>NaN</td>\n",
       "      <td>-1.0</td>\n",
       "      <td>NaN</td>\n",
       "      <td>2</td>\n",
       "      <td>3</td>\n",
       "      <td>11111111.0</td>\n",
       "    </tr>\n",
       "    <tr>\n",
       "      <th>2123428</th>\n",
       "      <td>2C3C7E168F7</td>\n",
       "      <td>735354</td>\n",
       "      <td>2018</td>\n",
       "      <td>10</td>\n",
       "      <td>12</td>\n",
       "      <td>NaN</td>\n",
       "      <td>NaN</td>\n",
       "      <td>-1.0</td>\n",
       "      <td>NaN</td>\n",
       "      <td>2</td>\n",
       "      <td>3</td>\n",
       "      <td>11111111.0</td>\n",
       "    </tr>\n",
       "  </tbody>\n",
       "</table>\n",
       "</div>"
      ]
     },
     "execution_count": 432,
     "metadata": {},
     "output_type": "execute_result"
    }
   ],
   "execution_count": 432
  },
  {
   "cell_type": "code",
   "metadata": {
    "ExecuteTime": {
     "end_time": "2024-04-20T17:09:49.370833Z",
     "start_time": "2024-04-20T17:09:49.230638Z"
    }
   },
   "source": [
    "merged_df = merged_df[merged_df[\"BOX_COUNT\"] > 0]"
   ],
   "outputs": [],
   "execution_count": 433
  },
  {
   "cell_type": "code",
   "metadata": {
    "ExecuteTime": {
     "end_time": "2024-04-20T17:09:49.462569Z",
     "start_time": "2024-04-20T17:09:49.370833Z"
    }
   },
   "source": [
    "merged_df.isna().sum()"
   ],
   "outputs": [
    {
     "data": {
      "text/plain": [
       "MAGIC_KEY          0\n",
       "ALT_MAGIC_KEY      0\n",
       "YEAR               0\n",
       "MONTH              0\n",
       "DAY                0\n",
       "MILK               0\n",
       "MEAT               0\n",
       "BOX_COUNT          0\n",
       "UNIT_PRICE         0\n",
       "QUALITY            0\n",
       "DELIVERY_OPTION    0\n",
       "BOX_ID             0\n",
       "dtype: int64"
      ]
     },
     "execution_count": 434,
     "metadata": {},
     "output_type": "execute_result"
    }
   ],
   "execution_count": 434
  },
  {
   "cell_type": "code",
   "metadata": {
    "ExecuteTime": {
     "end_time": "2024-04-20T17:09:50.242634Z",
     "start_time": "2024-04-20T17:09:49.462569Z"
    }
   },
   "source": [
    "analyze(merged_df)"
   ],
   "outputs": [
    {
     "name": "stdout",
     "output_type": "stream",
     "text": [
      "Number of rows: 2455800\n",
      "Number of columns: 12\n",
      "\n",
      "                 NUNIQUE    DTYPE\n",
      "MAGIC_KEY        1274087   object\n",
      "ALT_MAGIC_KEY    1274087    int32\n",
      "YEAR                   2    int32\n",
      "MONTH                  5    int32\n",
      "DAY                   31    int32\n",
      "MILK                  28  float64\n",
      "MEAT                  39  float64\n",
      "BOX_COUNT             13  float64\n",
      "UNIT_PRICE            18  float64\n",
      "QUALITY                2    int32\n",
      "DELIVERY_OPTION        3    int32\n",
      "BOX_ID               290  float64\n"
     ]
    }
   ],
   "execution_count": 435
  },
  {
   "cell_type": "code",
   "metadata": {
    "ExecuteTime": {
     "end_time": "2024-04-20T17:09:50.250420Z",
     "start_time": "2024-04-20T17:09:50.242634Z"
    }
   },
   "source": [
    "merged_df.head(10)"
   ],
   "outputs": [
    {
     "data": {
      "text/plain": [
       "     MAGIC_KEY  ALT_MAGIC_KEY  YEAR  MONTH  DAY  MILK  MEAT  BOX_COUNT  \\\n",
       "0  2CED678A247        1222234  2019      2    1   8.0   1.5        1.0   \n",
       "1  2BF58D91BA1         526391  2019      2    1   8.0   1.5        1.0   \n",
       "2  2C15B86534E         624102  2019      2    1   0.0   3.3        1.0   \n",
       "3  2C32D9A859A         708928  2019      2    1   0.0   2.7        1.0   \n",
       "4  2C7A55404D1         870797  2019      2    1   0.0   2.5        1.0   \n",
       "5  29D969045C2         310429  2019      2    1  10.7   0.0        1.0   \n",
       "6  28E5EA49074          65441  2019      2    1   8.1   0.0        1.0   \n",
       "7  2CEFA3A8659        1230129  2019      2    1   0.0   2.7        1.0   \n",
       "8  2A00DE30F46         326681  2019      2    1  10.7   0.0        1.0   \n",
       "9  291C04B5CBF         214844  2019      2    1   8.5   0.0        1.0   \n",
       "\n",
       "   UNIT_PRICE  QUALITY  DELIVERY_OPTION  BOX_ID  \n",
       "0       12.98        0                1    12.0  \n",
       "1       12.98        0                1    12.0  \n",
       "2       13.96        0                0    99.0  \n",
       "3       11.96        0                1     6.0  \n",
       "4       11.96        0                1     4.0  \n",
       "5       12.78        1                0   238.0  \n",
       "6        9.96        1                0   227.0  \n",
       "7       11.96        0                1     6.0  \n",
       "8       12.78        1                1   204.0  \n",
       "9       10.14        1                0   231.0  "
      ],
      "text/html": [
       "<div>\n",
       "<style scoped>\n",
       "    .dataframe tbody tr th:only-of-type {\n",
       "        vertical-align: middle;\n",
       "    }\n",
       "\n",
       "    .dataframe tbody tr th {\n",
       "        vertical-align: top;\n",
       "    }\n",
       "\n",
       "    .dataframe thead th {\n",
       "        text-align: right;\n",
       "    }\n",
       "</style>\n",
       "<table border=\"1\" class=\"dataframe\">\n",
       "  <thead>\n",
       "    <tr style=\"text-align: right;\">\n",
       "      <th></th>\n",
       "      <th>MAGIC_KEY</th>\n",
       "      <th>ALT_MAGIC_KEY</th>\n",
       "      <th>YEAR</th>\n",
       "      <th>MONTH</th>\n",
       "      <th>DAY</th>\n",
       "      <th>MILK</th>\n",
       "      <th>MEAT</th>\n",
       "      <th>BOX_COUNT</th>\n",
       "      <th>UNIT_PRICE</th>\n",
       "      <th>QUALITY</th>\n",
       "      <th>DELIVERY_OPTION</th>\n",
       "      <th>BOX_ID</th>\n",
       "    </tr>\n",
       "  </thead>\n",
       "  <tbody>\n",
       "    <tr>\n",
       "      <th>0</th>\n",
       "      <td>2CED678A247</td>\n",
       "      <td>1222234</td>\n",
       "      <td>2019</td>\n",
       "      <td>2</td>\n",
       "      <td>1</td>\n",
       "      <td>8.0</td>\n",
       "      <td>1.5</td>\n",
       "      <td>1.0</td>\n",
       "      <td>12.98</td>\n",
       "      <td>0</td>\n",
       "      <td>1</td>\n",
       "      <td>12.0</td>\n",
       "    </tr>\n",
       "    <tr>\n",
       "      <th>1</th>\n",
       "      <td>2BF58D91BA1</td>\n",
       "      <td>526391</td>\n",
       "      <td>2019</td>\n",
       "      <td>2</td>\n",
       "      <td>1</td>\n",
       "      <td>8.0</td>\n",
       "      <td>1.5</td>\n",
       "      <td>1.0</td>\n",
       "      <td>12.98</td>\n",
       "      <td>0</td>\n",
       "      <td>1</td>\n",
       "      <td>12.0</td>\n",
       "    </tr>\n",
       "    <tr>\n",
       "      <th>2</th>\n",
       "      <td>2C15B86534E</td>\n",
       "      <td>624102</td>\n",
       "      <td>2019</td>\n",
       "      <td>2</td>\n",
       "      <td>1</td>\n",
       "      <td>0.0</td>\n",
       "      <td>3.3</td>\n",
       "      <td>1.0</td>\n",
       "      <td>13.96</td>\n",
       "      <td>0</td>\n",
       "      <td>0</td>\n",
       "      <td>99.0</td>\n",
       "    </tr>\n",
       "    <tr>\n",
       "      <th>3</th>\n",
       "      <td>2C32D9A859A</td>\n",
       "      <td>708928</td>\n",
       "      <td>2019</td>\n",
       "      <td>2</td>\n",
       "      <td>1</td>\n",
       "      <td>0.0</td>\n",
       "      <td>2.7</td>\n",
       "      <td>1.0</td>\n",
       "      <td>11.96</td>\n",
       "      <td>0</td>\n",
       "      <td>1</td>\n",
       "      <td>6.0</td>\n",
       "    </tr>\n",
       "    <tr>\n",
       "      <th>4</th>\n",
       "      <td>2C7A55404D1</td>\n",
       "      <td>870797</td>\n",
       "      <td>2019</td>\n",
       "      <td>2</td>\n",
       "      <td>1</td>\n",
       "      <td>0.0</td>\n",
       "      <td>2.5</td>\n",
       "      <td>1.0</td>\n",
       "      <td>11.96</td>\n",
       "      <td>0</td>\n",
       "      <td>1</td>\n",
       "      <td>4.0</td>\n",
       "    </tr>\n",
       "    <tr>\n",
       "      <th>5</th>\n",
       "      <td>29D969045C2</td>\n",
       "      <td>310429</td>\n",
       "      <td>2019</td>\n",
       "      <td>2</td>\n",
       "      <td>1</td>\n",
       "      <td>10.7</td>\n",
       "      <td>0.0</td>\n",
       "      <td>1.0</td>\n",
       "      <td>12.78</td>\n",
       "      <td>1</td>\n",
       "      <td>0</td>\n",
       "      <td>238.0</td>\n",
       "    </tr>\n",
       "    <tr>\n",
       "      <th>6</th>\n",
       "      <td>28E5EA49074</td>\n",
       "      <td>65441</td>\n",
       "      <td>2019</td>\n",
       "      <td>2</td>\n",
       "      <td>1</td>\n",
       "      <td>8.1</td>\n",
       "      <td>0.0</td>\n",
       "      <td>1.0</td>\n",
       "      <td>9.96</td>\n",
       "      <td>1</td>\n",
       "      <td>0</td>\n",
       "      <td>227.0</td>\n",
       "    </tr>\n",
       "    <tr>\n",
       "      <th>7</th>\n",
       "      <td>2CEFA3A8659</td>\n",
       "      <td>1230129</td>\n",
       "      <td>2019</td>\n",
       "      <td>2</td>\n",
       "      <td>1</td>\n",
       "      <td>0.0</td>\n",
       "      <td>2.7</td>\n",
       "      <td>1.0</td>\n",
       "      <td>11.96</td>\n",
       "      <td>0</td>\n",
       "      <td>1</td>\n",
       "      <td>6.0</td>\n",
       "    </tr>\n",
       "    <tr>\n",
       "      <th>8</th>\n",
       "      <td>2A00DE30F46</td>\n",
       "      <td>326681</td>\n",
       "      <td>2019</td>\n",
       "      <td>2</td>\n",
       "      <td>1</td>\n",
       "      <td>10.7</td>\n",
       "      <td>0.0</td>\n",
       "      <td>1.0</td>\n",
       "      <td>12.78</td>\n",
       "      <td>1</td>\n",
       "      <td>1</td>\n",
       "      <td>204.0</td>\n",
       "    </tr>\n",
       "    <tr>\n",
       "      <th>9</th>\n",
       "      <td>291C04B5CBF</td>\n",
       "      <td>214844</td>\n",
       "      <td>2019</td>\n",
       "      <td>2</td>\n",
       "      <td>1</td>\n",
       "      <td>8.5</td>\n",
       "      <td>0.0</td>\n",
       "      <td>1.0</td>\n",
       "      <td>10.14</td>\n",
       "      <td>1</td>\n",
       "      <td>0</td>\n",
       "      <td>231.0</td>\n",
       "    </tr>\n",
       "  </tbody>\n",
       "</table>\n",
       "</div>"
      ]
     },
     "execution_count": 436,
     "metadata": {},
     "output_type": "execute_result"
    }
   ],
   "execution_count": 436
  },
  {
   "cell_type": "code",
   "metadata": {
    "ExecuteTime": {
     "end_time": "2024-04-20T17:09:50.956997Z",
     "start_time": "2024-04-20T17:09:50.250420Z"
    }
   },
   "source": [
    "# filtered_df = merged_df[(merged_df[\"DAY\"] <= 15) & (merged_df[\"BOX_COUNT\"] == 1)]\n",
    "filtered_df = merged_df[merged_df[\"BOX_COUNT\"] == 1]\n",
    "filtered_df = filtered_df.drop_duplicates(subset=[\"MAGIC_KEY\"])"
   ],
   "outputs": [],
   "execution_count": 437
  },
  {
   "cell_type": "code",
   "metadata": {
    "ExecuteTime": {
     "end_time": "2024-04-20T17:09:51.096008Z",
     "start_time": "2024-04-20T17:09:50.957995Z"
    }
   },
   "source": [
    "problem2_df[\"MAGIC_KEY\"].isin(filtered_df[\"MAGIC_KEY\"]).all()"
   ],
   "outputs": [
    {
     "data": {
      "text/plain": [
       "True"
      ]
     },
     "execution_count": 438,
     "metadata": {},
     "output_type": "execute_result"
    }
   ],
   "execution_count": 438
  },
  {
   "cell_type": "code",
   "metadata": {
    "ExecuteTime": {
     "end_time": "2024-04-20T17:09:51.113771Z",
     "start_time": "2024-04-20T17:09:51.096008Z"
    }
   },
   "source": [
    "analyze(problem2_df)"
   ],
   "outputs": [
    {
     "name": "stdout",
     "output_type": "stream",
     "text": [
      "Number of rows: 43518\n",
      "Number of columns: 1\n",
      "\n",
      "           NUNIQUE   DTYPE\n",
      "MAGIC_KEY    43518  object\n"
     ]
    }
   ],
   "execution_count": 439
  },
  {
   "cell_type": "code",
   "metadata": {
    "ExecuteTime": {
     "end_time": "2024-04-20T17:09:51.487102Z",
     "start_time": "2024-04-20T17:09:51.114766Z"
    }
   },
   "source": [
    "analyze(filtered_df)"
   ],
   "outputs": [
    {
     "name": "stdout",
     "output_type": "stream",
     "text": [
      "Number of rows: 1273464\n",
      "Number of columns: 12\n",
      "\n",
      "                 NUNIQUE    DTYPE\n",
      "MAGIC_KEY        1273464   object\n",
      "ALT_MAGIC_KEY    1273464    int32\n",
      "YEAR                   2    int32\n",
      "MONTH                  5    int32\n",
      "DAY                   31    int32\n",
      "MILK                  25  float64\n",
      "MEAT                  33  float64\n",
      "BOX_COUNT              1  float64\n",
      "UNIT_PRICE            17  float64\n",
      "QUALITY                2    int32\n",
      "DELIVERY_OPTION        3    int32\n",
      "BOX_ID               232  float64\n"
     ]
    }
   ],
   "execution_count": 440
  },
  {
   "cell_type": "markdown",
   "metadata": {},
   "source": [
    "## Model Training"
   ]
  },
  {
   "cell_type": "code",
   "metadata": {
    "ExecuteTime": {
     "end_time": "2024-04-20T17:09:51.939310Z",
     "start_time": "2024-04-20T17:09:51.488099Z"
    }
   },
   "source": [
    "problem_data = pd.merge(problem2_df, filtered_df, on=\"MAGIC_KEY\", how='left')\n",
    "problem_data.fillna(0, inplace=True)"
   ],
   "outputs": [],
   "execution_count": 441
  },
  {
   "metadata": {
    "ExecuteTime": {
     "end_time": "2024-04-20T17:09:51.943309Z",
     "start_time": "2024-04-20T17:09:51.939310Z"
    }
   },
   "cell_type": "code",
   "source": "problem_data['BOX_ID'] = problem_data['BOX_ID'].astype(int)",
   "outputs": [],
   "execution_count": 442
  },
  {
   "cell_type": "code",
   "metadata": {
    "ExecuteTime": {
     "end_time": "2024-04-20T17:09:51.955013Z",
     "start_time": "2024-04-20T17:09:51.943309Z"
    }
   },
   "source": [
    "problem_data.info()"
   ],
   "outputs": [
    {
     "name": "stdout",
     "output_type": "stream",
     "text": [
      "<class 'pandas.core.frame.DataFrame'>\n",
      "RangeIndex: 43518 entries, 0 to 43517\n",
      "Data columns (total 12 columns):\n",
      " #   Column           Non-Null Count  Dtype  \n",
      "---  ------           --------------  -----  \n",
      " 0   MAGIC_KEY        43518 non-null  object \n",
      " 1   ALT_MAGIC_KEY    43518 non-null  int32  \n",
      " 2   YEAR             43518 non-null  int32  \n",
      " 3   MONTH            43518 non-null  int32  \n",
      " 4   DAY              43518 non-null  int32  \n",
      " 5   MILK             43518 non-null  float64\n",
      " 6   MEAT             43518 non-null  float64\n",
      " 7   BOX_COUNT        43518 non-null  float64\n",
      " 8   UNIT_PRICE       43518 non-null  float64\n",
      " 9   QUALITY          43518 non-null  int32  \n",
      " 10  DELIVERY_OPTION  43518 non-null  int32  \n",
      " 11  BOX_ID           43518 non-null  int32  \n",
      "dtypes: float64(4), int32(7), object(1)\n",
      "memory usage: 2.8+ MB\n"
     ]
    }
   ],
   "execution_count": 443
  },
  {
   "cell_type": "code",
   "metadata": {
    "ExecuteTime": {
     "end_time": "2024-04-20T17:09:51.968020Z",
     "start_time": "2024-04-20T17:09:51.955013Z"
    }
   },
   "source": [
    "problem_data.nunique()"
   ],
   "outputs": [
    {
     "data": {
      "text/plain": [
       "MAGIC_KEY          43518\n",
       "ALT_MAGIC_KEY      43518\n",
       "YEAR                   2\n",
       "MONTH                  3\n",
       "DAY                   31\n",
       "MILK                  22\n",
       "MEAT                  18\n",
       "BOX_COUNT              1\n",
       "UNIT_PRICE            16\n",
       "QUALITY                2\n",
       "DELIVERY_OPTION        3\n",
       "BOX_ID               127\n",
       "dtype: int64"
      ]
     },
     "execution_count": 444,
     "metadata": {},
     "output_type": "execute_result"
    }
   ],
   "execution_count": 444
  },
  {
   "cell_type": "code",
   "metadata": {
    "ExecuteTime": {
     "end_time": "2024-04-20T17:09:51.978391Z",
     "start_time": "2024-04-20T17:09:51.970022Z"
    }
   },
   "source": [
    "from sklearn.model_selection import train_test_split\n",
    "\n",
    "X = problem_data.drop([\"MAGIC_KEY\", \"BOX_ID\"], axis=1)\n",
    "y = problem_data[\"BOX_ID\"]\n",
    "\n",
    "X_train, X_test, y_train, y_test = train_test_split(X, y, test_size=0.3, random_state=42)"
   ],
   "outputs": [],
   "execution_count": 445
  },
  {
   "cell_type": "code",
   "metadata": {
    "ExecuteTime": {
     "end_time": "2024-04-20T17:10:03.304244Z",
     "start_time": "2024-04-20T17:09:51.978391Z"
    }
   },
   "source": [
    "from sklearn.ensemble import RandomForestClassifier\n",
    "\n",
    "model = RandomForestClassifier(n_estimators = 510,min_samples_split= 14,min_samples_leaf= 1,max_depth=None)\n",
    "model.fit(X_train, y_train)"
   ],
   "outputs": [
    {
     "data": {
      "text/plain": [
       "RandomForestClassifier(min_samples_split=14, n_estimators=510)"
      ],
      "text/html": [
       "<style>#sk-container-id-13 {\n",
       "  /* Definition of color scheme common for light and dark mode */\n",
       "  --sklearn-color-text: black;\n",
       "  --sklearn-color-line: gray;\n",
       "  /* Definition of color scheme for unfitted estimators */\n",
       "  --sklearn-color-unfitted-level-0: #fff5e6;\n",
       "  --sklearn-color-unfitted-level-1: #f6e4d2;\n",
       "  --sklearn-color-unfitted-level-2: #ffe0b3;\n",
       "  --sklearn-color-unfitted-level-3: chocolate;\n",
       "  /* Definition of color scheme for fitted estimators */\n",
       "  --sklearn-color-fitted-level-0: #f0f8ff;\n",
       "  --sklearn-color-fitted-level-1: #d4ebff;\n",
       "  --sklearn-color-fitted-level-2: #b3dbfd;\n",
       "  --sklearn-color-fitted-level-3: cornflowerblue;\n",
       "\n",
       "  /* Specific color for light theme */\n",
       "  --sklearn-color-text-on-default-background: var(--sg-text-color, var(--theme-code-foreground, var(--jp-content-font-color1, black)));\n",
       "  --sklearn-color-background: var(--sg-background-color, var(--theme-background, var(--jp-layout-color0, white)));\n",
       "  --sklearn-color-border-box: var(--sg-text-color, var(--theme-code-foreground, var(--jp-content-font-color1, black)));\n",
       "  --sklearn-color-icon: #696969;\n",
       "\n",
       "  @media (prefers-color-scheme: dark) {\n",
       "    /* Redefinition of color scheme for dark theme */\n",
       "    --sklearn-color-text-on-default-background: var(--sg-text-color, var(--theme-code-foreground, var(--jp-content-font-color1, white)));\n",
       "    --sklearn-color-background: var(--sg-background-color, var(--theme-background, var(--jp-layout-color0, #111)));\n",
       "    --sklearn-color-border-box: var(--sg-text-color, var(--theme-code-foreground, var(--jp-content-font-color1, white)));\n",
       "    --sklearn-color-icon: #878787;\n",
       "  }\n",
       "}\n",
       "\n",
       "#sk-container-id-13 {\n",
       "  color: var(--sklearn-color-text);\n",
       "}\n",
       "\n",
       "#sk-container-id-13 pre {\n",
       "  padding: 0;\n",
       "}\n",
       "\n",
       "#sk-container-id-13 input.sk-hidden--visually {\n",
       "  border: 0;\n",
       "  clip: rect(1px 1px 1px 1px);\n",
       "  clip: rect(1px, 1px, 1px, 1px);\n",
       "  height: 1px;\n",
       "  margin: -1px;\n",
       "  overflow: hidden;\n",
       "  padding: 0;\n",
       "  position: absolute;\n",
       "  width: 1px;\n",
       "}\n",
       "\n",
       "#sk-container-id-13 div.sk-dashed-wrapped {\n",
       "  border: 1px dashed var(--sklearn-color-line);\n",
       "  margin: 0 0.4em 0.5em 0.4em;\n",
       "  box-sizing: border-box;\n",
       "  padding-bottom: 0.4em;\n",
       "  background-color: var(--sklearn-color-background);\n",
       "}\n",
       "\n",
       "#sk-container-id-13 div.sk-container {\n",
       "  /* jupyter's `normalize.less` sets `[hidden] { display: none; }`\n",
       "     but bootstrap.min.css set `[hidden] { display: none !important; }`\n",
       "     so we also need the `!important` here to be able to override the\n",
       "     default hidden behavior on the sphinx rendered scikit-learn.org.\n",
       "     See: https://github.com/scikit-learn/scikit-learn/issues/21755 */\n",
       "  display: inline-block !important;\n",
       "  position: relative;\n",
       "}\n",
       "\n",
       "#sk-container-id-13 div.sk-text-repr-fallback {\n",
       "  display: none;\n",
       "}\n",
       "\n",
       "div.sk-parallel-item,\n",
       "div.sk-serial,\n",
       "div.sk-item {\n",
       "  /* draw centered vertical line to link estimators */\n",
       "  background-image: linear-gradient(var(--sklearn-color-text-on-default-background), var(--sklearn-color-text-on-default-background));\n",
       "  background-size: 2px 100%;\n",
       "  background-repeat: no-repeat;\n",
       "  background-position: center center;\n",
       "}\n",
       "\n",
       "/* Parallel-specific style estimator block */\n",
       "\n",
       "#sk-container-id-13 div.sk-parallel-item::after {\n",
       "  content: \"\";\n",
       "  width: 100%;\n",
       "  border-bottom: 2px solid var(--sklearn-color-text-on-default-background);\n",
       "  flex-grow: 1;\n",
       "}\n",
       "\n",
       "#sk-container-id-13 div.sk-parallel {\n",
       "  display: flex;\n",
       "  align-items: stretch;\n",
       "  justify-content: center;\n",
       "  background-color: var(--sklearn-color-background);\n",
       "  position: relative;\n",
       "}\n",
       "\n",
       "#sk-container-id-13 div.sk-parallel-item {\n",
       "  display: flex;\n",
       "  flex-direction: column;\n",
       "}\n",
       "\n",
       "#sk-container-id-13 div.sk-parallel-item:first-child::after {\n",
       "  align-self: flex-end;\n",
       "  width: 50%;\n",
       "}\n",
       "\n",
       "#sk-container-id-13 div.sk-parallel-item:last-child::after {\n",
       "  align-self: flex-start;\n",
       "  width: 50%;\n",
       "}\n",
       "\n",
       "#sk-container-id-13 div.sk-parallel-item:only-child::after {\n",
       "  width: 0;\n",
       "}\n",
       "\n",
       "/* Serial-specific style estimator block */\n",
       "\n",
       "#sk-container-id-13 div.sk-serial {\n",
       "  display: flex;\n",
       "  flex-direction: column;\n",
       "  align-items: center;\n",
       "  background-color: var(--sklearn-color-background);\n",
       "  padding-right: 1em;\n",
       "  padding-left: 1em;\n",
       "}\n",
       "\n",
       "\n",
       "/* Toggleable style: style used for estimator/Pipeline/ColumnTransformer box that is\n",
       "clickable and can be expanded/collapsed.\n",
       "- Pipeline and ColumnTransformer use this feature and define the default style\n",
       "- Estimators will overwrite some part of the style using the `sk-estimator` class\n",
       "*/\n",
       "\n",
       "/* Pipeline and ColumnTransformer style (default) */\n",
       "\n",
       "#sk-container-id-13 div.sk-toggleable {\n",
       "  /* Default theme specific background. It is overwritten whether we have a\n",
       "  specific estimator or a Pipeline/ColumnTransformer */\n",
       "  background-color: var(--sklearn-color-background);\n",
       "}\n",
       "\n",
       "/* Toggleable label */\n",
       "#sk-container-id-13 label.sk-toggleable__label {\n",
       "  cursor: pointer;\n",
       "  display: block;\n",
       "  width: 100%;\n",
       "  margin-bottom: 0;\n",
       "  padding: 0.5em;\n",
       "  box-sizing: border-box;\n",
       "  text-align: center;\n",
       "}\n",
       "\n",
       "#sk-container-id-13 label.sk-toggleable__label-arrow:before {\n",
       "  /* Arrow on the left of the label */\n",
       "  content: \"▸\";\n",
       "  float: left;\n",
       "  margin-right: 0.25em;\n",
       "  color: var(--sklearn-color-icon);\n",
       "}\n",
       "\n",
       "#sk-container-id-13 label.sk-toggleable__label-arrow:hover:before {\n",
       "  color: var(--sklearn-color-text);\n",
       "}\n",
       "\n",
       "/* Toggleable content - dropdown */\n",
       "\n",
       "#sk-container-id-13 div.sk-toggleable__content {\n",
       "  max-height: 0;\n",
       "  max-width: 0;\n",
       "  overflow: hidden;\n",
       "  text-align: left;\n",
       "  /* unfitted */\n",
       "  background-color: var(--sklearn-color-unfitted-level-0);\n",
       "}\n",
       "\n",
       "#sk-container-id-13 div.sk-toggleable__content.fitted {\n",
       "  /* fitted */\n",
       "  background-color: var(--sklearn-color-fitted-level-0);\n",
       "}\n",
       "\n",
       "#sk-container-id-13 div.sk-toggleable__content pre {\n",
       "  margin: 0.2em;\n",
       "  border-radius: 0.25em;\n",
       "  color: var(--sklearn-color-text);\n",
       "  /* unfitted */\n",
       "  background-color: var(--sklearn-color-unfitted-level-0);\n",
       "}\n",
       "\n",
       "#sk-container-id-13 div.sk-toggleable__content.fitted pre {\n",
       "  /* unfitted */\n",
       "  background-color: var(--sklearn-color-fitted-level-0);\n",
       "}\n",
       "\n",
       "#sk-container-id-13 input.sk-toggleable__control:checked~div.sk-toggleable__content {\n",
       "  /* Expand drop-down */\n",
       "  max-height: 200px;\n",
       "  max-width: 100%;\n",
       "  overflow: auto;\n",
       "}\n",
       "\n",
       "#sk-container-id-13 input.sk-toggleable__control:checked~label.sk-toggleable__label-arrow:before {\n",
       "  content: \"▾\";\n",
       "}\n",
       "\n",
       "/* Pipeline/ColumnTransformer-specific style */\n",
       "\n",
       "#sk-container-id-13 div.sk-label input.sk-toggleable__control:checked~label.sk-toggleable__label {\n",
       "  color: var(--sklearn-color-text);\n",
       "  background-color: var(--sklearn-color-unfitted-level-2);\n",
       "}\n",
       "\n",
       "#sk-container-id-13 div.sk-label.fitted input.sk-toggleable__control:checked~label.sk-toggleable__label {\n",
       "  background-color: var(--sklearn-color-fitted-level-2);\n",
       "}\n",
       "\n",
       "/* Estimator-specific style */\n",
       "\n",
       "/* Colorize estimator box */\n",
       "#sk-container-id-13 div.sk-estimator input.sk-toggleable__control:checked~label.sk-toggleable__label {\n",
       "  /* unfitted */\n",
       "  background-color: var(--sklearn-color-unfitted-level-2);\n",
       "}\n",
       "\n",
       "#sk-container-id-13 div.sk-estimator.fitted input.sk-toggleable__control:checked~label.sk-toggleable__label {\n",
       "  /* fitted */\n",
       "  background-color: var(--sklearn-color-fitted-level-2);\n",
       "}\n",
       "\n",
       "#sk-container-id-13 div.sk-label label.sk-toggleable__label,\n",
       "#sk-container-id-13 div.sk-label label {\n",
       "  /* The background is the default theme color */\n",
       "  color: var(--sklearn-color-text-on-default-background);\n",
       "}\n",
       "\n",
       "/* On hover, darken the color of the background */\n",
       "#sk-container-id-13 div.sk-label:hover label.sk-toggleable__label {\n",
       "  color: var(--sklearn-color-text);\n",
       "  background-color: var(--sklearn-color-unfitted-level-2);\n",
       "}\n",
       "\n",
       "/* Label box, darken color on hover, fitted */\n",
       "#sk-container-id-13 div.sk-label.fitted:hover label.sk-toggleable__label.fitted {\n",
       "  color: var(--sklearn-color-text);\n",
       "  background-color: var(--sklearn-color-fitted-level-2);\n",
       "}\n",
       "\n",
       "/* Estimator label */\n",
       "\n",
       "#sk-container-id-13 div.sk-label label {\n",
       "  font-family: monospace;\n",
       "  font-weight: bold;\n",
       "  display: inline-block;\n",
       "  line-height: 1.2em;\n",
       "}\n",
       "\n",
       "#sk-container-id-13 div.sk-label-container {\n",
       "  text-align: center;\n",
       "}\n",
       "\n",
       "/* Estimator-specific */\n",
       "#sk-container-id-13 div.sk-estimator {\n",
       "  font-family: monospace;\n",
       "  border: 1px dotted var(--sklearn-color-border-box);\n",
       "  border-radius: 0.25em;\n",
       "  box-sizing: border-box;\n",
       "  margin-bottom: 0.5em;\n",
       "  /* unfitted */\n",
       "  background-color: var(--sklearn-color-unfitted-level-0);\n",
       "}\n",
       "\n",
       "#sk-container-id-13 div.sk-estimator.fitted {\n",
       "  /* fitted */\n",
       "  background-color: var(--sklearn-color-fitted-level-0);\n",
       "}\n",
       "\n",
       "/* on hover */\n",
       "#sk-container-id-13 div.sk-estimator:hover {\n",
       "  /* unfitted */\n",
       "  background-color: var(--sklearn-color-unfitted-level-2);\n",
       "}\n",
       "\n",
       "#sk-container-id-13 div.sk-estimator.fitted:hover {\n",
       "  /* fitted */\n",
       "  background-color: var(--sklearn-color-fitted-level-2);\n",
       "}\n",
       "\n",
       "/* Specification for estimator info (e.g. \"i\" and \"?\") */\n",
       "\n",
       "/* Common style for \"i\" and \"?\" */\n",
       "\n",
       ".sk-estimator-doc-link,\n",
       "a:link.sk-estimator-doc-link,\n",
       "a:visited.sk-estimator-doc-link {\n",
       "  float: right;\n",
       "  font-size: smaller;\n",
       "  line-height: 1em;\n",
       "  font-family: monospace;\n",
       "  background-color: var(--sklearn-color-background);\n",
       "  border-radius: 1em;\n",
       "  height: 1em;\n",
       "  width: 1em;\n",
       "  text-decoration: none !important;\n",
       "  margin-left: 1ex;\n",
       "  /* unfitted */\n",
       "  border: var(--sklearn-color-unfitted-level-1) 1pt solid;\n",
       "  color: var(--sklearn-color-unfitted-level-1);\n",
       "}\n",
       "\n",
       ".sk-estimator-doc-link.fitted,\n",
       "a:link.sk-estimator-doc-link.fitted,\n",
       "a:visited.sk-estimator-doc-link.fitted {\n",
       "  /* fitted */\n",
       "  border: var(--sklearn-color-fitted-level-1) 1pt solid;\n",
       "  color: var(--sklearn-color-fitted-level-1);\n",
       "}\n",
       "\n",
       "/* On hover */\n",
       "div.sk-estimator:hover .sk-estimator-doc-link:hover,\n",
       ".sk-estimator-doc-link:hover,\n",
       "div.sk-label-container:hover .sk-estimator-doc-link:hover,\n",
       ".sk-estimator-doc-link:hover {\n",
       "  /* unfitted */\n",
       "  background-color: var(--sklearn-color-unfitted-level-3);\n",
       "  color: var(--sklearn-color-background);\n",
       "  text-decoration: none;\n",
       "}\n",
       "\n",
       "div.sk-estimator.fitted:hover .sk-estimator-doc-link.fitted:hover,\n",
       ".sk-estimator-doc-link.fitted:hover,\n",
       "div.sk-label-container:hover .sk-estimator-doc-link.fitted:hover,\n",
       ".sk-estimator-doc-link.fitted:hover {\n",
       "  /* fitted */\n",
       "  background-color: var(--sklearn-color-fitted-level-3);\n",
       "  color: var(--sklearn-color-background);\n",
       "  text-decoration: none;\n",
       "}\n",
       "\n",
       "/* Span, style for the box shown on hovering the info icon */\n",
       ".sk-estimator-doc-link span {\n",
       "  display: none;\n",
       "  z-index: 9999;\n",
       "  position: relative;\n",
       "  font-weight: normal;\n",
       "  right: .2ex;\n",
       "  padding: .5ex;\n",
       "  margin: .5ex;\n",
       "  width: min-content;\n",
       "  min-width: 20ex;\n",
       "  max-width: 50ex;\n",
       "  color: var(--sklearn-color-text);\n",
       "  box-shadow: 2pt 2pt 4pt #999;\n",
       "  /* unfitted */\n",
       "  background: var(--sklearn-color-unfitted-level-0);\n",
       "  border: .5pt solid var(--sklearn-color-unfitted-level-3);\n",
       "}\n",
       "\n",
       ".sk-estimator-doc-link.fitted span {\n",
       "  /* fitted */\n",
       "  background: var(--sklearn-color-fitted-level-0);\n",
       "  border: var(--sklearn-color-fitted-level-3);\n",
       "}\n",
       "\n",
       ".sk-estimator-doc-link:hover span {\n",
       "  display: block;\n",
       "}\n",
       "\n",
       "/* \"?\"-specific style due to the `<a>` HTML tag */\n",
       "\n",
       "#sk-container-id-13 a.estimator_doc_link {\n",
       "  float: right;\n",
       "  font-size: 1rem;\n",
       "  line-height: 1em;\n",
       "  font-family: monospace;\n",
       "  background-color: var(--sklearn-color-background);\n",
       "  border-radius: 1rem;\n",
       "  height: 1rem;\n",
       "  width: 1rem;\n",
       "  text-decoration: none;\n",
       "  /* unfitted */\n",
       "  color: var(--sklearn-color-unfitted-level-1);\n",
       "  border: var(--sklearn-color-unfitted-level-1) 1pt solid;\n",
       "}\n",
       "\n",
       "#sk-container-id-13 a.estimator_doc_link.fitted {\n",
       "  /* fitted */\n",
       "  border: var(--sklearn-color-fitted-level-1) 1pt solid;\n",
       "  color: var(--sklearn-color-fitted-level-1);\n",
       "}\n",
       "\n",
       "/* On hover */\n",
       "#sk-container-id-13 a.estimator_doc_link:hover {\n",
       "  /* unfitted */\n",
       "  background-color: var(--sklearn-color-unfitted-level-3);\n",
       "  color: var(--sklearn-color-background);\n",
       "  text-decoration: none;\n",
       "}\n",
       "\n",
       "#sk-container-id-13 a.estimator_doc_link.fitted:hover {\n",
       "  /* fitted */\n",
       "  background-color: var(--sklearn-color-fitted-level-3);\n",
       "}\n",
       "</style><div id=\"sk-container-id-13\" class=\"sk-top-container\"><div class=\"sk-text-repr-fallback\"><pre>RandomForestClassifier(min_samples_split=14, n_estimators=510)</pre><b>In a Jupyter environment, please rerun this cell to show the HTML representation or trust the notebook. <br />On GitHub, the HTML representation is unable to render, please try loading this page with nbviewer.org.</b></div><div class=\"sk-container\" hidden><div class=\"sk-item\"><div class=\"sk-estimator fitted sk-toggleable\"><input class=\"sk-toggleable__control sk-hidden--visually\" id=\"sk-estimator-id-15\" type=\"checkbox\" checked><label for=\"sk-estimator-id-15\" class=\"sk-toggleable__label fitted sk-toggleable__label-arrow fitted\">&nbsp;&nbsp;RandomForestClassifier<a class=\"sk-estimator-doc-link fitted\" rel=\"noreferrer\" target=\"_blank\" href=\"https://scikit-learn.org/1.4/modules/generated/sklearn.ensemble.RandomForestClassifier.html\">?<span>Documentation for RandomForestClassifier</span></a><span class=\"sk-estimator-doc-link fitted\">i<span>Fitted</span></span></label><div class=\"sk-toggleable__content fitted\"><pre>RandomForestClassifier(min_samples_split=14, n_estimators=510)</pre></div> </div></div></div></div>"
      ]
     },
     "execution_count": 446,
     "metadata": {},
     "output_type": "execute_result"
    }
   ],
   "execution_count": 446
  },
  {
   "metadata": {
    "ExecuteTime": {
     "end_time": "2024-04-20T17:10:03.307755Z",
     "start_time": "2024-04-20T17:10:03.304244Z"
    }
   },
   "cell_type": "code",
   "source": [
    "# rf_grid = {\"n_estimators\": np.arange(10, 1000, 50),\n",
    "#            \"max_depth\": [None, 3, 5, 10],\n",
    "#            \"min_samples_split\": np.arange(2, 20, 2),\n",
    "#            \"min_samples_leaf\": np.arange(1, 20, 2)}"
   ],
   "outputs": [],
   "execution_count": 447
  },
  {
   "metadata": {
    "ExecuteTime": {
     "end_time": "2024-04-20T17:10:19.574049Z",
     "start_time": "2024-04-20T17:10:19.571244Z"
    }
   },
   "cell_type": "code",
   "source": [
    "# from sklearn.model_selection import RandomizedSearchCV\n",
    "# \n",
    "# np.random.seed(42)\n",
    "# \n",
    "# rs_model = RandomizedSearchCV(RandomForestClassifier(),\n",
    "#                               param_distributions=rf_grid,\n",
    "#                               cv=5,\n",
    "#                               n_iter=20,\n",
    "#                               verbose=True)\n",
    "# \n",
    "# rs_model.fit(X_train, y_train)"
   ],
   "outputs": [],
   "execution_count": 449
  },
  {
   "metadata": {
    "ExecuteTime": {
     "end_time": "2024-04-20T17:10:15.767071Z",
     "start_time": "2024-04-20T17:10:15.767071Z"
    }
   },
   "cell_type": "code",
   "source": "# rs_model.best_params_",
   "outputs": [],
   "execution_count": null
  },
  {
   "cell_type": "code",
   "metadata": {
    "ExecuteTime": {
     "end_time": "2024-04-20T17:10:29.657054Z",
     "start_time": "2024-04-20T17:10:26.541066Z"
    }
   },
   "source": [
    "from sklearn.metrics import accuracy_score\n",
    "\n",
    "y_pred = model.predict(X_test)\n",
    "\n",
    "accuracy = accuracy_score(y_test, y_pred)\n",
    "print(f\"Accuracy: {accuracy * 100:.2f}%\")"
   ],
   "outputs": [
    {
     "name": "stdout",
     "output_type": "stream",
     "text": [
      "Accuracy: 99.79%\n"
     ]
    }
   ],
   "execution_count": 450
  },
  {
   "cell_type": "code",
   "metadata": {
    "ExecuteTime": {
     "end_time": "2024-04-20T17:10:40.031580Z",
     "start_time": "2024-04-20T17:10:31.932208Z"
    }
   },
   "source": [
    "prediction = model.predict(X)"
   ],
   "outputs": [],
   "execution_count": 451
  },
  {
   "cell_type": "code",
   "metadata": {
    "ExecuteTime": {
     "end_time": "2024-04-20T17:10:40.198578Z",
     "start_time": "2024-04-20T17:10:40.032576Z"
    }
   },
   "source": [
    "submission = pd.DataFrame({\n",
    "    'MAGIC_KEY': problem2_df['MAGIC_KEY'],\n",
    "    'BOX_ID': [pred for pred in prediction ]\n",
    "})"
   ],
   "outputs": [],
   "execution_count": 452
  },
  {
   "cell_type": "code",
   "metadata": {
    "ExecuteTime": {
     "end_time": "2024-04-20T17:10:40.225536Z",
     "start_time": "2024-04-20T17:10:40.198578Z"
    }
   },
   "source": "submission.to_csv(\"submission.csv\", index=False)",
   "outputs": [],
   "execution_count": 453
  },
  {
   "metadata": {},
   "cell_type": "code",
   "source": "",
   "outputs": [],
   "execution_count": null
  }
 ],
 "metadata": {
  "kernelspec": {
   "display_name": ".venv",
   "language": "python",
   "name": "python3"
  },
  "language_info": {
   "codemirror_mode": {
    "name": "ipython",
    "version": 3
   },
   "file_extension": ".py",
   "mimetype": "text/x-python",
   "name": "python",
   "nbconvert_exporter": "python",
   "pygments_lexer": "ipython3",
   "version": "3.11.7"
  }
 },
 "nbformat": 4,
 "nbformat_minor": 2
}
