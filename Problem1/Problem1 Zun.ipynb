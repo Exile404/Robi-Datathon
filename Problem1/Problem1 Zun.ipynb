{
 "cells": [
  {
   "cell_type": "markdown",
   "metadata": {},
   "source": [
    "# Problem 1\n",
    "\n",
    "We need to predict which of the Magic Keys given in “problem 1.csv” will buy milk and/or meat in the first 15 days of March-2019. We have to put Y in the purchase column if the Magic Keys will purchase and N if the Magic Keys will not make a purchase. "
   ]
  },
  {
   "cell_type": "markdown",
   "metadata": {},
   "source": [
    "## Necessary Libraries"
   ]
  },
  {
   "cell_type": "code",
   "metadata": {
    "ExecuteTime": {
     "end_time": "2024-04-18T15:53:41.868275Z",
     "start_time": "2024-04-18T15:53:41.836247Z"
    }
   },
   "source": [
    "import pandas as pd\n",
    "import numpy as np\n",
    "import matplotlib.pyplot as plt\n",
    "import seaborn as sns\n",
    "\n",
    "from sklearn.preprocessing import LabelEncoder"
   ],
   "outputs": [],
   "execution_count": 103
  },
  {
   "cell_type": "markdown",
   "metadata": {},
   "source": [
    "## Data Preprocessing"
   ]
  },
  {
   "cell_type": "code",
   "metadata": {
    "ExecuteTime": {
     "end_time": "2024-04-18T15:53:43.635398Z",
     "start_time": "2024-04-18T15:53:42.515368Z"
    }
   },
   "source": [
    "purchase_df = pd.read_csv(\"purchase.csv\")\n",
    "boxes_df = pd.read_csv(\"boxes.csv\")\n",
    "problem1_df = pd.read_csv(\"problem 1.csv\")"
   ],
   "outputs": [],
   "execution_count": 104
  },
  {
   "cell_type": "code",
   "metadata": {
    "ExecuteTime": {
     "end_time": "2024-04-18T15:53:43.648919Z",
     "start_time": "2024-04-18T15:53:43.636399Z"
    }
   },
   "source": [
    "purchase_df.head()"
   ],
   "outputs": [
    {
     "data": {
      "text/plain": [
       "  PURCHASE_DATE    MAGIC_KEY  BOX_ID  BOX_COUNT\n",
       "0      1/2/2019  2CED678A247    12.0        1.0\n",
       "1      1/2/2019  2BF58D91BA1    12.0        1.0\n",
       "2      1/2/2019  2C15B86534E    99.0        1.0\n",
       "3      1/2/2019  2C32D9A859A     6.0        1.0\n",
       "4      1/2/2019  2C7A55404D1     4.0        1.0"
      ],
      "text/html": [
       "<div>\n",
       "<style scoped>\n",
       "    .dataframe tbody tr th:only-of-type {\n",
       "        vertical-align: middle;\n",
       "    }\n",
       "\n",
       "    .dataframe tbody tr th {\n",
       "        vertical-align: top;\n",
       "    }\n",
       "\n",
       "    .dataframe thead th {\n",
       "        text-align: right;\n",
       "    }\n",
       "</style>\n",
       "<table border=\"1\" class=\"dataframe\">\n",
       "  <thead>\n",
       "    <tr style=\"text-align: right;\">\n",
       "      <th></th>\n",
       "      <th>PURCHASE_DATE</th>\n",
       "      <th>MAGIC_KEY</th>\n",
       "      <th>BOX_ID</th>\n",
       "      <th>BOX_COUNT</th>\n",
       "    </tr>\n",
       "  </thead>\n",
       "  <tbody>\n",
       "    <tr>\n",
       "      <th>0</th>\n",
       "      <td>1/2/2019</td>\n",
       "      <td>2CED678A247</td>\n",
       "      <td>12.0</td>\n",
       "      <td>1.0</td>\n",
       "    </tr>\n",
       "    <tr>\n",
       "      <th>1</th>\n",
       "      <td>1/2/2019</td>\n",
       "      <td>2BF58D91BA1</td>\n",
       "      <td>12.0</td>\n",
       "      <td>1.0</td>\n",
       "    </tr>\n",
       "    <tr>\n",
       "      <th>2</th>\n",
       "      <td>1/2/2019</td>\n",
       "      <td>2C15B86534E</td>\n",
       "      <td>99.0</td>\n",
       "      <td>1.0</td>\n",
       "    </tr>\n",
       "    <tr>\n",
       "      <th>3</th>\n",
       "      <td>1/2/2019</td>\n",
       "      <td>2C32D9A859A</td>\n",
       "      <td>6.0</td>\n",
       "      <td>1.0</td>\n",
       "    </tr>\n",
       "    <tr>\n",
       "      <th>4</th>\n",
       "      <td>1/2/2019</td>\n",
       "      <td>2C7A55404D1</td>\n",
       "      <td>4.0</td>\n",
       "      <td>1.0</td>\n",
       "    </tr>\n",
       "  </tbody>\n",
       "</table>\n",
       "</div>"
      ]
     },
     "execution_count": 105,
     "metadata": {},
     "output_type": "execute_result"
    }
   ],
   "execution_count": 105
  },
  {
   "cell_type": "code",
   "metadata": {
    "ExecuteTime": {
     "end_time": "2024-04-18T15:53:43.656921Z",
     "start_time": "2024-04-18T15:53:43.649916Z"
    }
   },
   "source": [
    "purchase_df.tail()"
   ],
   "outputs": [
    {
     "data": {
      "text/plain": [
       "        PURCHASE_DATE    MAGIC_KEY  BOX_ID  BOX_COUNT\n",
       "2455859    28/10/2018  2BD992B5538    12.0        1.0\n",
       "2455860    28/10/2018  2C97CD72233    17.0        1.0\n",
       "2455861    28/10/2018  2C91C61D372    40.0        1.0\n",
       "2455862    28/10/2018  2CD70CFC4E3    51.0        1.0\n",
       "2455863    28/10/2018  2C4792A5B84     4.0        1.0"
      ],
      "text/html": [
       "<div>\n",
       "<style scoped>\n",
       "    .dataframe tbody tr th:only-of-type {\n",
       "        vertical-align: middle;\n",
       "    }\n",
       "\n",
       "    .dataframe tbody tr th {\n",
       "        vertical-align: top;\n",
       "    }\n",
       "\n",
       "    .dataframe thead th {\n",
       "        text-align: right;\n",
       "    }\n",
       "</style>\n",
       "<table border=\"1\" class=\"dataframe\">\n",
       "  <thead>\n",
       "    <tr style=\"text-align: right;\">\n",
       "      <th></th>\n",
       "      <th>PURCHASE_DATE</th>\n",
       "      <th>MAGIC_KEY</th>\n",
       "      <th>BOX_ID</th>\n",
       "      <th>BOX_COUNT</th>\n",
       "    </tr>\n",
       "  </thead>\n",
       "  <tbody>\n",
       "    <tr>\n",
       "      <th>2455859</th>\n",
       "      <td>28/10/2018</td>\n",
       "      <td>2BD992B5538</td>\n",
       "      <td>12.0</td>\n",
       "      <td>1.0</td>\n",
       "    </tr>\n",
       "    <tr>\n",
       "      <th>2455860</th>\n",
       "      <td>28/10/2018</td>\n",
       "      <td>2C97CD72233</td>\n",
       "      <td>17.0</td>\n",
       "      <td>1.0</td>\n",
       "    </tr>\n",
       "    <tr>\n",
       "      <th>2455861</th>\n",
       "      <td>28/10/2018</td>\n",
       "      <td>2C91C61D372</td>\n",
       "      <td>40.0</td>\n",
       "      <td>1.0</td>\n",
       "    </tr>\n",
       "    <tr>\n",
       "      <th>2455862</th>\n",
       "      <td>28/10/2018</td>\n",
       "      <td>2CD70CFC4E3</td>\n",
       "      <td>51.0</td>\n",
       "      <td>1.0</td>\n",
       "    </tr>\n",
       "    <tr>\n",
       "      <th>2455863</th>\n",
       "      <td>28/10/2018</td>\n",
       "      <td>2C4792A5B84</td>\n",
       "      <td>4.0</td>\n",
       "      <td>1.0</td>\n",
       "    </tr>\n",
       "  </tbody>\n",
       "</table>\n",
       "</div>"
      ]
     },
     "execution_count": 106,
     "metadata": {},
     "output_type": "execute_result"
    }
   ],
   "execution_count": 106
  },
  {
   "cell_type": "code",
   "metadata": {
    "ExecuteTime": {
     "end_time": "2024-04-18T15:53:43.668482Z",
     "start_time": "2024-04-18T15:53:43.657434Z"
    }
   },
   "source": [
    "# Types of data in each columns\n",
    "purchase_df.info()"
   ],
   "outputs": [
    {
     "name": "stdout",
     "output_type": "stream",
     "text": [
      "<class 'pandas.core.frame.DataFrame'>\n",
      "RangeIndex: 2455864 entries, 0 to 2455863\n",
      "Data columns (total 4 columns):\n",
      " #   Column         Dtype  \n",
      "---  ------         -----  \n",
      " 0   PURCHASE_DATE  object \n",
      " 1   MAGIC_KEY      object \n",
      " 2   BOX_ID         float64\n",
      " 3   BOX_COUNT      float64\n",
      "dtypes: float64(2), object(2)\n",
      "memory usage: 74.9+ MB\n"
     ]
    }
   ],
   "execution_count": 107
  },
  {
   "cell_type": "code",
   "metadata": {
    "ExecuteTime": {
     "end_time": "2024-04-18T15:53:44.513492Z",
     "start_time": "2024-04-18T15:53:43.861158Z"
    }
   },
   "source": [
    "# No. of unique entries in each columns\n",
    "purchase_df.nunique()"
   ],
   "outputs": [
    {
     "data": {
      "text/plain": [
       "PURCHASE_DATE        151\n",
       "MAGIC_KEY        1274108\n",
       "BOX_ID               291\n",
       "BOX_COUNT             14\n",
       "dtype: int64"
      ]
     },
     "execution_count": 108,
     "metadata": {},
     "output_type": "execute_result"
    }
   ],
   "execution_count": 108
  },
  {
   "cell_type": "code",
   "metadata": {
    "ExecuteTime": {
     "end_time": "2024-04-18T15:53:47.260913Z",
     "start_time": "2024-04-18T15:53:44.514488Z"
    }
   },
   "source": [
    "# Convert Purchase Date from object to datetime\n",
    "purchase_df[\"PURCHASE_DATE\"] = pd.to_datetime(purchase_df[\"PURCHASE_DATE\"], format=\"%d/%m/%Y\")\n",
    "\n",
    "# Convert Magic Key from object to categorical\n",
    "purchase_df[\"MAGIC_KEY\"] = purchase_df[\"MAGIC_KEY\"].astype(\"category\")"
   ],
   "outputs": [],
   "execution_count": 109
  },
  {
   "cell_type": "code",
   "metadata": {
    "ExecuteTime": {
     "end_time": "2024-04-18T15:53:47.748618Z",
     "start_time": "2024-04-18T15:53:47.262912Z"
    }
   },
   "source": [
    "purchase_df.info()"
   ],
   "outputs": [
    {
     "name": "stdout",
     "output_type": "stream",
     "text": [
      "<class 'pandas.core.frame.DataFrame'>\n",
      "RangeIndex: 2455864 entries, 0 to 2455863\n",
      "Data columns (total 4 columns):\n",
      " #   Column         Dtype         \n",
      "---  ------         -----         \n",
      " 0   PURCHASE_DATE  datetime64[ns]\n",
      " 1   MAGIC_KEY      category      \n",
      " 2   BOX_ID         float64       \n",
      " 3   BOX_COUNT      float64       \n",
      "dtypes: category(1), datetime64[ns](1), float64(2)\n",
      "memory usage: 107.5 MB\n"
     ]
    }
   ],
   "execution_count": 110
  },
  {
   "cell_type": "code",
   "metadata": {
    "ExecuteTime": {
     "end_time": "2024-04-18T15:53:47.755620Z",
     "start_time": "2024-04-18T15:53:47.749614Z"
    }
   },
   "source": [
    "boxes_df.info()"
   ],
   "outputs": [
    {
     "name": "stdout",
     "output_type": "stream",
     "text": [
      "<class 'pandas.core.frame.DataFrame'>\n",
      "RangeIndex: 290 entries, 0 to 289\n",
      "Data columns (total 6 columns):\n",
      " #   Column           Non-Null Count  Dtype  \n",
      "---  ------           --------------  -----  \n",
      " 0   BOX_ID           290 non-null    int64  \n",
      " 1   QUALITY          290 non-null    object \n",
      " 2   DELIVERY_OPTION  290 non-null    object \n",
      " 3   MILK             290 non-null    float64\n",
      " 4   MEAT             290 non-null    float64\n",
      " 5   UNIT_PRICE       290 non-null    float64\n",
      "dtypes: float64(3), int64(1), object(2)\n",
      "memory usage: 13.7+ KB\n"
     ]
    }
   ],
   "execution_count": 111
  },
  {
   "cell_type": "code",
   "metadata": {
    "ExecuteTime": {
     "end_time": "2024-04-18T15:53:47.762935Z",
     "start_time": "2024-04-18T15:53:47.755620Z"
    }
   },
   "source": [
    "boxes_df.nunique()"
   ],
   "outputs": [
    {
     "data": {
      "text/plain": [
       "BOX_ID             290\n",
       "QUALITY              2\n",
       "DELIVERY_OPTION      3\n",
       "MILK                28\n",
       "MEAT                39\n",
       "UNIT_PRICE          18\n",
       "dtype: int64"
      ]
     },
     "execution_count": 112,
     "metadata": {},
     "output_type": "execute_result"
    }
   ],
   "execution_count": 112
  },
  {
   "cell_type": "code",
   "metadata": {
    "ExecuteTime": {
     "end_time": "2024-04-18T15:53:47.769351Z",
     "start_time": "2024-04-18T15:53:47.762935Z"
    }
   },
   "source": [
    "# QUALITY and DELIVERY_OPTION are both categorical, hence encode these columns\n",
    "le = LabelEncoder()\n",
    "\n",
    "boxes_df[\"QUALITY\"] = le.fit_transform(boxes_df[\"QUALITY\"])\n",
    "boxes_df[\"DELIVERY_OPTION\"] = le.fit_transform(boxes_df[\"DELIVERY_OPTION\"])"
   ],
   "outputs": [],
   "execution_count": 113
  },
  {
   "cell_type": "code",
   "metadata": {
    "ExecuteTime": {
     "end_time": "2024-04-18T15:53:47.777353Z",
     "start_time": "2024-04-18T15:53:47.770346Z"
    }
   },
   "source": [
    "boxes_df.info()"
   ],
   "outputs": [
    {
     "name": "stdout",
     "output_type": "stream",
     "text": [
      "<class 'pandas.core.frame.DataFrame'>\n",
      "RangeIndex: 290 entries, 0 to 289\n",
      "Data columns (total 6 columns):\n",
      " #   Column           Non-Null Count  Dtype  \n",
      "---  ------           --------------  -----  \n",
      " 0   BOX_ID           290 non-null    int64  \n",
      " 1   QUALITY          290 non-null    int32  \n",
      " 2   DELIVERY_OPTION  290 non-null    int32  \n",
      " 3   MILK             290 non-null    float64\n",
      " 4   MEAT             290 non-null    float64\n",
      " 5   UNIT_PRICE       290 non-null    float64\n",
      "dtypes: float64(3), int32(2), int64(1)\n",
      "memory usage: 11.5 KB\n"
     ]
    }
   ],
   "execution_count": 114
  },
  {
   "cell_type": "code",
   "metadata": {
    "ExecuteTime": {
     "end_time": "2024-04-18T15:53:47.986556Z",
     "start_time": "2024-04-18T15:53:47.777353Z"
    }
   },
   "source": [
    "# Merge two dataframes\n",
    "merged_df = pd.merge(purchase_df, boxes_df, on=\"BOX_ID\", how=\"left\")"
   ],
   "outputs": [],
   "execution_count": 115
  },
  {
   "cell_type": "code",
   "metadata": {
    "ExecuteTime": {
     "end_time": "2024-04-18T15:53:47.998992Z",
     "start_time": "2024-04-18T15:53:47.988060Z"
    }
   },
   "source": [
    "merged_df"
   ],
   "outputs": [
    {
     "data": {
      "text/plain": [
       "        PURCHASE_DATE    MAGIC_KEY  BOX_ID  BOX_COUNT  QUALITY  \\\n",
       "0          2019-02-01  2CED678A247    12.0        1.0      0.0   \n",
       "1          2019-02-01  2BF58D91BA1    12.0        1.0      0.0   \n",
       "2          2019-02-01  2C15B86534E    99.0        1.0      0.0   \n",
       "3          2019-02-01  2C32D9A859A     6.0        1.0      0.0   \n",
       "4          2019-02-01  2C7A55404D1     4.0        1.0      0.0   \n",
       "...               ...          ...     ...        ...      ...   \n",
       "2455859    2018-10-28  2BD992B5538    12.0        1.0      0.0   \n",
       "2455860    2018-10-28  2C97CD72233    17.0        1.0      0.0   \n",
       "2455861    2018-10-28  2C91C61D372    40.0        1.0      0.0   \n",
       "2455862    2018-10-28  2CD70CFC4E3    51.0        1.0      0.0   \n",
       "2455863    2018-10-28  2C4792A5B84     4.0        1.0      0.0   \n",
       "\n",
       "         DELIVERY_OPTION  MILK  MEAT  UNIT_PRICE  \n",
       "0                    1.0   8.0   1.5       12.98  \n",
       "1                    1.0   8.0   1.5       12.98  \n",
       "2                    0.0   0.0   3.3       13.96  \n",
       "3                    1.0   0.0   2.7       11.96  \n",
       "4                    1.0   0.0   2.5       11.96  \n",
       "...                  ...   ...   ...         ...  \n",
       "2455859              1.0   8.0   1.5       12.98  \n",
       "2455860              1.0  10.0   1.8       12.98  \n",
       "2455861              1.0  12.0   1.8       19.98  \n",
       "2455862              1.0  18.0   2.9       23.98  \n",
       "2455863              1.0   0.0   2.5       11.96  \n",
       "\n",
       "[2455864 rows x 9 columns]"
      ],
      "text/html": [
       "<div>\n",
       "<style scoped>\n",
       "    .dataframe tbody tr th:only-of-type {\n",
       "        vertical-align: middle;\n",
       "    }\n",
       "\n",
       "    .dataframe tbody tr th {\n",
       "        vertical-align: top;\n",
       "    }\n",
       "\n",
       "    .dataframe thead th {\n",
       "        text-align: right;\n",
       "    }\n",
       "</style>\n",
       "<table border=\"1\" class=\"dataframe\">\n",
       "  <thead>\n",
       "    <tr style=\"text-align: right;\">\n",
       "      <th></th>\n",
       "      <th>PURCHASE_DATE</th>\n",
       "      <th>MAGIC_KEY</th>\n",
       "      <th>BOX_ID</th>\n",
       "      <th>BOX_COUNT</th>\n",
       "      <th>QUALITY</th>\n",
       "      <th>DELIVERY_OPTION</th>\n",
       "      <th>MILK</th>\n",
       "      <th>MEAT</th>\n",
       "      <th>UNIT_PRICE</th>\n",
       "    </tr>\n",
       "  </thead>\n",
       "  <tbody>\n",
       "    <tr>\n",
       "      <th>0</th>\n",
       "      <td>2019-02-01</td>\n",
       "      <td>2CED678A247</td>\n",
       "      <td>12.0</td>\n",
       "      <td>1.0</td>\n",
       "      <td>0.0</td>\n",
       "      <td>1.0</td>\n",
       "      <td>8.0</td>\n",
       "      <td>1.5</td>\n",
       "      <td>12.98</td>\n",
       "    </tr>\n",
       "    <tr>\n",
       "      <th>1</th>\n",
       "      <td>2019-02-01</td>\n",
       "      <td>2BF58D91BA1</td>\n",
       "      <td>12.0</td>\n",
       "      <td>1.0</td>\n",
       "      <td>0.0</td>\n",
       "      <td>1.0</td>\n",
       "      <td>8.0</td>\n",
       "      <td>1.5</td>\n",
       "      <td>12.98</td>\n",
       "    </tr>\n",
       "    <tr>\n",
       "      <th>2</th>\n",
       "      <td>2019-02-01</td>\n",
       "      <td>2C15B86534E</td>\n",
       "      <td>99.0</td>\n",
       "      <td>1.0</td>\n",
       "      <td>0.0</td>\n",
       "      <td>0.0</td>\n",
       "      <td>0.0</td>\n",
       "      <td>3.3</td>\n",
       "      <td>13.96</td>\n",
       "    </tr>\n",
       "    <tr>\n",
       "      <th>3</th>\n",
       "      <td>2019-02-01</td>\n",
       "      <td>2C32D9A859A</td>\n",
       "      <td>6.0</td>\n",
       "      <td>1.0</td>\n",
       "      <td>0.0</td>\n",
       "      <td>1.0</td>\n",
       "      <td>0.0</td>\n",
       "      <td>2.7</td>\n",
       "      <td>11.96</td>\n",
       "    </tr>\n",
       "    <tr>\n",
       "      <th>4</th>\n",
       "      <td>2019-02-01</td>\n",
       "      <td>2C7A55404D1</td>\n",
       "      <td>4.0</td>\n",
       "      <td>1.0</td>\n",
       "      <td>0.0</td>\n",
       "      <td>1.0</td>\n",
       "      <td>0.0</td>\n",
       "      <td>2.5</td>\n",
       "      <td>11.96</td>\n",
       "    </tr>\n",
       "    <tr>\n",
       "      <th>...</th>\n",
       "      <td>...</td>\n",
       "      <td>...</td>\n",
       "      <td>...</td>\n",
       "      <td>...</td>\n",
       "      <td>...</td>\n",
       "      <td>...</td>\n",
       "      <td>...</td>\n",
       "      <td>...</td>\n",
       "      <td>...</td>\n",
       "    </tr>\n",
       "    <tr>\n",
       "      <th>2455859</th>\n",
       "      <td>2018-10-28</td>\n",
       "      <td>2BD992B5538</td>\n",
       "      <td>12.0</td>\n",
       "      <td>1.0</td>\n",
       "      <td>0.0</td>\n",
       "      <td>1.0</td>\n",
       "      <td>8.0</td>\n",
       "      <td>1.5</td>\n",
       "      <td>12.98</td>\n",
       "    </tr>\n",
       "    <tr>\n",
       "      <th>2455860</th>\n",
       "      <td>2018-10-28</td>\n",
       "      <td>2C97CD72233</td>\n",
       "      <td>17.0</td>\n",
       "      <td>1.0</td>\n",
       "      <td>0.0</td>\n",
       "      <td>1.0</td>\n",
       "      <td>10.0</td>\n",
       "      <td>1.8</td>\n",
       "      <td>12.98</td>\n",
       "    </tr>\n",
       "    <tr>\n",
       "      <th>2455861</th>\n",
       "      <td>2018-10-28</td>\n",
       "      <td>2C91C61D372</td>\n",
       "      <td>40.0</td>\n",
       "      <td>1.0</td>\n",
       "      <td>0.0</td>\n",
       "      <td>1.0</td>\n",
       "      <td>12.0</td>\n",
       "      <td>1.8</td>\n",
       "      <td>19.98</td>\n",
       "    </tr>\n",
       "    <tr>\n",
       "      <th>2455862</th>\n",
       "      <td>2018-10-28</td>\n",
       "      <td>2CD70CFC4E3</td>\n",
       "      <td>51.0</td>\n",
       "      <td>1.0</td>\n",
       "      <td>0.0</td>\n",
       "      <td>1.0</td>\n",
       "      <td>18.0</td>\n",
       "      <td>2.9</td>\n",
       "      <td>23.98</td>\n",
       "    </tr>\n",
       "    <tr>\n",
       "      <th>2455863</th>\n",
       "      <td>2018-10-28</td>\n",
       "      <td>2C4792A5B84</td>\n",
       "      <td>4.0</td>\n",
       "      <td>1.0</td>\n",
       "      <td>0.0</td>\n",
       "      <td>1.0</td>\n",
       "      <td>0.0</td>\n",
       "      <td>2.5</td>\n",
       "      <td>11.96</td>\n",
       "    </tr>\n",
       "  </tbody>\n",
       "</table>\n",
       "<p>2455864 rows × 9 columns</p>\n",
       "</div>"
      ]
     },
     "execution_count": 116,
     "metadata": {},
     "output_type": "execute_result"
    }
   ],
   "execution_count": 116
  },
  {
   "cell_type": "code",
   "metadata": {
    "ExecuteTime": {
     "end_time": "2024-04-18T15:53:48.031788Z",
     "start_time": "2024-04-18T15:53:47.998992Z"
    }
   },
   "source": [
    "merged_df = merged_df.drop(columns=[\"BOX_ID\", \"BOX_COUNT\"])\n",
    "merged_df"
   ],
   "outputs": [
    {
     "data": {
      "text/plain": [
       "        PURCHASE_DATE    MAGIC_KEY  QUALITY  DELIVERY_OPTION  MILK  MEAT  \\\n",
       "0          2019-02-01  2CED678A247      0.0              1.0   8.0   1.5   \n",
       "1          2019-02-01  2BF58D91BA1      0.0              1.0   8.0   1.5   \n",
       "2          2019-02-01  2C15B86534E      0.0              0.0   0.0   3.3   \n",
       "3          2019-02-01  2C32D9A859A      0.0              1.0   0.0   2.7   \n",
       "4          2019-02-01  2C7A55404D1      0.0              1.0   0.0   2.5   \n",
       "...               ...          ...      ...              ...   ...   ...   \n",
       "2455859    2018-10-28  2BD992B5538      0.0              1.0   8.0   1.5   \n",
       "2455860    2018-10-28  2C97CD72233      0.0              1.0  10.0   1.8   \n",
       "2455861    2018-10-28  2C91C61D372      0.0              1.0  12.0   1.8   \n",
       "2455862    2018-10-28  2CD70CFC4E3      0.0              1.0  18.0   2.9   \n",
       "2455863    2018-10-28  2C4792A5B84      0.0              1.0   0.0   2.5   \n",
       "\n",
       "         UNIT_PRICE  \n",
       "0             12.98  \n",
       "1             12.98  \n",
       "2             13.96  \n",
       "3             11.96  \n",
       "4             11.96  \n",
       "...             ...  \n",
       "2455859       12.98  \n",
       "2455860       12.98  \n",
       "2455861       19.98  \n",
       "2455862       23.98  \n",
       "2455863       11.96  \n",
       "\n",
       "[2455864 rows x 7 columns]"
      ],
      "text/html": [
       "<div>\n",
       "<style scoped>\n",
       "    .dataframe tbody tr th:only-of-type {\n",
       "        vertical-align: middle;\n",
       "    }\n",
       "\n",
       "    .dataframe tbody tr th {\n",
       "        vertical-align: top;\n",
       "    }\n",
       "\n",
       "    .dataframe thead th {\n",
       "        text-align: right;\n",
       "    }\n",
       "</style>\n",
       "<table border=\"1\" class=\"dataframe\">\n",
       "  <thead>\n",
       "    <tr style=\"text-align: right;\">\n",
       "      <th></th>\n",
       "      <th>PURCHASE_DATE</th>\n",
       "      <th>MAGIC_KEY</th>\n",
       "      <th>QUALITY</th>\n",
       "      <th>DELIVERY_OPTION</th>\n",
       "      <th>MILK</th>\n",
       "      <th>MEAT</th>\n",
       "      <th>UNIT_PRICE</th>\n",
       "    </tr>\n",
       "  </thead>\n",
       "  <tbody>\n",
       "    <tr>\n",
       "      <th>0</th>\n",
       "      <td>2019-02-01</td>\n",
       "      <td>2CED678A247</td>\n",
       "      <td>0.0</td>\n",
       "      <td>1.0</td>\n",
       "      <td>8.0</td>\n",
       "      <td>1.5</td>\n",
       "      <td>12.98</td>\n",
       "    </tr>\n",
       "    <tr>\n",
       "      <th>1</th>\n",
       "      <td>2019-02-01</td>\n",
       "      <td>2BF58D91BA1</td>\n",
       "      <td>0.0</td>\n",
       "      <td>1.0</td>\n",
       "      <td>8.0</td>\n",
       "      <td>1.5</td>\n",
       "      <td>12.98</td>\n",
       "    </tr>\n",
       "    <tr>\n",
       "      <th>2</th>\n",
       "      <td>2019-02-01</td>\n",
       "      <td>2C15B86534E</td>\n",
       "      <td>0.0</td>\n",
       "      <td>0.0</td>\n",
       "      <td>0.0</td>\n",
       "      <td>3.3</td>\n",
       "      <td>13.96</td>\n",
       "    </tr>\n",
       "    <tr>\n",
       "      <th>3</th>\n",
       "      <td>2019-02-01</td>\n",
       "      <td>2C32D9A859A</td>\n",
       "      <td>0.0</td>\n",
       "      <td>1.0</td>\n",
       "      <td>0.0</td>\n",
       "      <td>2.7</td>\n",
       "      <td>11.96</td>\n",
       "    </tr>\n",
       "    <tr>\n",
       "      <th>4</th>\n",
       "      <td>2019-02-01</td>\n",
       "      <td>2C7A55404D1</td>\n",
       "      <td>0.0</td>\n",
       "      <td>1.0</td>\n",
       "      <td>0.0</td>\n",
       "      <td>2.5</td>\n",
       "      <td>11.96</td>\n",
       "    </tr>\n",
       "    <tr>\n",
       "      <th>...</th>\n",
       "      <td>...</td>\n",
       "      <td>...</td>\n",
       "      <td>...</td>\n",
       "      <td>...</td>\n",
       "      <td>...</td>\n",
       "      <td>...</td>\n",
       "      <td>...</td>\n",
       "    </tr>\n",
       "    <tr>\n",
       "      <th>2455859</th>\n",
       "      <td>2018-10-28</td>\n",
       "      <td>2BD992B5538</td>\n",
       "      <td>0.0</td>\n",
       "      <td>1.0</td>\n",
       "      <td>8.0</td>\n",
       "      <td>1.5</td>\n",
       "      <td>12.98</td>\n",
       "    </tr>\n",
       "    <tr>\n",
       "      <th>2455860</th>\n",
       "      <td>2018-10-28</td>\n",
       "      <td>2C97CD72233</td>\n",
       "      <td>0.0</td>\n",
       "      <td>1.0</td>\n",
       "      <td>10.0</td>\n",
       "      <td>1.8</td>\n",
       "      <td>12.98</td>\n",
       "    </tr>\n",
       "    <tr>\n",
       "      <th>2455861</th>\n",
       "      <td>2018-10-28</td>\n",
       "      <td>2C91C61D372</td>\n",
       "      <td>0.0</td>\n",
       "      <td>1.0</td>\n",
       "      <td>12.0</td>\n",
       "      <td>1.8</td>\n",
       "      <td>19.98</td>\n",
       "    </tr>\n",
       "    <tr>\n",
       "      <th>2455862</th>\n",
       "      <td>2018-10-28</td>\n",
       "      <td>2CD70CFC4E3</td>\n",
       "      <td>0.0</td>\n",
       "      <td>1.0</td>\n",
       "      <td>18.0</td>\n",
       "      <td>2.9</td>\n",
       "      <td>23.98</td>\n",
       "    </tr>\n",
       "    <tr>\n",
       "      <th>2455863</th>\n",
       "      <td>2018-10-28</td>\n",
       "      <td>2C4792A5B84</td>\n",
       "      <td>0.0</td>\n",
       "      <td>1.0</td>\n",
       "      <td>0.0</td>\n",
       "      <td>2.5</td>\n",
       "      <td>11.96</td>\n",
       "    </tr>\n",
       "  </tbody>\n",
       "</table>\n",
       "<p>2455864 rows × 7 columns</p>\n",
       "</div>"
      ]
     },
     "execution_count": 117,
     "metadata": {},
     "output_type": "execute_result"
    }
   ],
   "execution_count": 117
  },
  {
   "cell_type": "markdown",
   "metadata": {},
   "source": [
    "## Feature Engineering"
   ]
  },
  {
   "cell_type": "code",
   "metadata": {
    "ExecuteTime": {
     "end_time": "2024-04-18T15:53:48.090182Z",
     "start_time": "2024-04-18T15:53:48.031788Z"
    }
   },
   "source": [
    "# Convert dtype of MAGIC_KEY column of problem1_df from object to category\n",
    "problem1_df[\"MAGIC_KEY\"] = problem1_df[\"MAGIC_KEY\"].astype(\"category\")"
   ],
   "outputs": [],
   "execution_count": 118
  },
  {
   "cell_type": "code",
   "metadata": {
    "ExecuteTime": {
     "end_time": "2024-04-18T15:53:48.096289Z",
     "start_time": "2024-04-18T15:53:48.091179Z"
    }
   },
   "source": [
    "merged_df.info()"
   ],
   "outputs": [
    {
     "name": "stdout",
     "output_type": "stream",
     "text": [
      "<class 'pandas.core.frame.DataFrame'>\n",
      "RangeIndex: 2455864 entries, 0 to 2455863\n",
      "Data columns (total 7 columns):\n",
      " #   Column           Dtype         \n",
      "---  ------           -----         \n",
      " 0   PURCHASE_DATE    datetime64[ns]\n",
      " 1   MAGIC_KEY        category      \n",
      " 2   QUALITY          float64       \n",
      " 3   DELIVERY_OPTION  float64       \n",
      " 4   MILK             float64       \n",
      " 5   MEAT             float64       \n",
      " 6   UNIT_PRICE       float64       \n",
      "dtypes: category(1), datetime64[ns](1), float64(5)\n",
      "memory usage: 163.8 MB\n"
     ]
    }
   ],
   "execution_count": 119
  },
  {
   "cell_type": "code",
   "metadata": {
    "ExecuteTime": {
     "end_time": "2024-04-18T15:53:48.239649Z",
     "start_time": "2024-04-18T15:53:48.096289Z"
    }
   },
   "source": [
    "merged_df.nunique()"
   ],
   "outputs": [
    {
     "data": {
      "text/plain": [
       "PURCHASE_DATE          151\n",
       "MAGIC_KEY          1274108\n",
       "QUALITY                  2\n",
       "DELIVERY_OPTION          3\n",
       "MILK                    28\n",
       "MEAT                    39\n",
       "UNIT_PRICE              18\n",
       "dtype: int64"
      ]
     },
     "execution_count": 120,
     "metadata": {},
     "output_type": "execute_result"
    }
   ],
   "execution_count": 120
  },
  {
   "cell_type": "code",
   "metadata": {
    "ExecuteTime": {
     "end_time": "2024-04-18T15:53:59.105443Z",
     "start_time": "2024-04-18T15:53:48.239649Z"
    }
   },
   "source": [
    "merged_df[\"PURCHASE\"] = merged_df.apply(lambda row: 1 if row[\"MILK\"] > 0 or row[\"MEAT\"] > 0 else 0, axis=1)"
   ],
   "outputs": [],
   "execution_count": 121
  },
  {
   "cell_type": "code",
   "metadata": {
    "ExecuteTime": {
     "end_time": "2024-04-18T15:53:59.115996Z",
     "start_time": "2024-04-18T15:53:59.105443Z"
    }
   },
   "source": [
    "merged_df"
   ],
   "outputs": [
    {
     "data": {
      "text/plain": [
       "        PURCHASE_DATE    MAGIC_KEY  QUALITY  DELIVERY_OPTION  MILK  MEAT  \\\n",
       "0          2019-02-01  2CED678A247      0.0              1.0   8.0   1.5   \n",
       "1          2019-02-01  2BF58D91BA1      0.0              1.0   8.0   1.5   \n",
       "2          2019-02-01  2C15B86534E      0.0              0.0   0.0   3.3   \n",
       "3          2019-02-01  2C32D9A859A      0.0              1.0   0.0   2.7   \n",
       "4          2019-02-01  2C7A55404D1      0.0              1.0   0.0   2.5   \n",
       "...               ...          ...      ...              ...   ...   ...   \n",
       "2455859    2018-10-28  2BD992B5538      0.0              1.0   8.0   1.5   \n",
       "2455860    2018-10-28  2C97CD72233      0.0              1.0  10.0   1.8   \n",
       "2455861    2018-10-28  2C91C61D372      0.0              1.0  12.0   1.8   \n",
       "2455862    2018-10-28  2CD70CFC4E3      0.0              1.0  18.0   2.9   \n",
       "2455863    2018-10-28  2C4792A5B84      0.0              1.0   0.0   2.5   \n",
       "\n",
       "         UNIT_PRICE  PURCHASE  \n",
       "0             12.98         1  \n",
       "1             12.98         1  \n",
       "2             13.96         1  \n",
       "3             11.96         1  \n",
       "4             11.96         1  \n",
       "...             ...       ...  \n",
       "2455859       12.98         1  \n",
       "2455860       12.98         1  \n",
       "2455861       19.98         1  \n",
       "2455862       23.98         1  \n",
       "2455863       11.96         1  \n",
       "\n",
       "[2455864 rows x 8 columns]"
      ],
      "text/html": [
       "<div>\n",
       "<style scoped>\n",
       "    .dataframe tbody tr th:only-of-type {\n",
       "        vertical-align: middle;\n",
       "    }\n",
       "\n",
       "    .dataframe tbody tr th {\n",
       "        vertical-align: top;\n",
       "    }\n",
       "\n",
       "    .dataframe thead th {\n",
       "        text-align: right;\n",
       "    }\n",
       "</style>\n",
       "<table border=\"1\" class=\"dataframe\">\n",
       "  <thead>\n",
       "    <tr style=\"text-align: right;\">\n",
       "      <th></th>\n",
       "      <th>PURCHASE_DATE</th>\n",
       "      <th>MAGIC_KEY</th>\n",
       "      <th>QUALITY</th>\n",
       "      <th>DELIVERY_OPTION</th>\n",
       "      <th>MILK</th>\n",
       "      <th>MEAT</th>\n",
       "      <th>UNIT_PRICE</th>\n",
       "      <th>PURCHASE</th>\n",
       "    </tr>\n",
       "  </thead>\n",
       "  <tbody>\n",
       "    <tr>\n",
       "      <th>0</th>\n",
       "      <td>2019-02-01</td>\n",
       "      <td>2CED678A247</td>\n",
       "      <td>0.0</td>\n",
       "      <td>1.0</td>\n",
       "      <td>8.0</td>\n",
       "      <td>1.5</td>\n",
       "      <td>12.98</td>\n",
       "      <td>1</td>\n",
       "    </tr>\n",
       "    <tr>\n",
       "      <th>1</th>\n",
       "      <td>2019-02-01</td>\n",
       "      <td>2BF58D91BA1</td>\n",
       "      <td>0.0</td>\n",
       "      <td>1.0</td>\n",
       "      <td>8.0</td>\n",
       "      <td>1.5</td>\n",
       "      <td>12.98</td>\n",
       "      <td>1</td>\n",
       "    </tr>\n",
       "    <tr>\n",
       "      <th>2</th>\n",
       "      <td>2019-02-01</td>\n",
       "      <td>2C15B86534E</td>\n",
       "      <td>0.0</td>\n",
       "      <td>0.0</td>\n",
       "      <td>0.0</td>\n",
       "      <td>3.3</td>\n",
       "      <td>13.96</td>\n",
       "      <td>1</td>\n",
       "    </tr>\n",
       "    <tr>\n",
       "      <th>3</th>\n",
       "      <td>2019-02-01</td>\n",
       "      <td>2C32D9A859A</td>\n",
       "      <td>0.0</td>\n",
       "      <td>1.0</td>\n",
       "      <td>0.0</td>\n",
       "      <td>2.7</td>\n",
       "      <td>11.96</td>\n",
       "      <td>1</td>\n",
       "    </tr>\n",
       "    <tr>\n",
       "      <th>4</th>\n",
       "      <td>2019-02-01</td>\n",
       "      <td>2C7A55404D1</td>\n",
       "      <td>0.0</td>\n",
       "      <td>1.0</td>\n",
       "      <td>0.0</td>\n",
       "      <td>2.5</td>\n",
       "      <td>11.96</td>\n",
       "      <td>1</td>\n",
       "    </tr>\n",
       "    <tr>\n",
       "      <th>...</th>\n",
       "      <td>...</td>\n",
       "      <td>...</td>\n",
       "      <td>...</td>\n",
       "      <td>...</td>\n",
       "      <td>...</td>\n",
       "      <td>...</td>\n",
       "      <td>...</td>\n",
       "      <td>...</td>\n",
       "    </tr>\n",
       "    <tr>\n",
       "      <th>2455859</th>\n",
       "      <td>2018-10-28</td>\n",
       "      <td>2BD992B5538</td>\n",
       "      <td>0.0</td>\n",
       "      <td>1.0</td>\n",
       "      <td>8.0</td>\n",
       "      <td>1.5</td>\n",
       "      <td>12.98</td>\n",
       "      <td>1</td>\n",
       "    </tr>\n",
       "    <tr>\n",
       "      <th>2455860</th>\n",
       "      <td>2018-10-28</td>\n",
       "      <td>2C97CD72233</td>\n",
       "      <td>0.0</td>\n",
       "      <td>1.0</td>\n",
       "      <td>10.0</td>\n",
       "      <td>1.8</td>\n",
       "      <td>12.98</td>\n",
       "      <td>1</td>\n",
       "    </tr>\n",
       "    <tr>\n",
       "      <th>2455861</th>\n",
       "      <td>2018-10-28</td>\n",
       "      <td>2C91C61D372</td>\n",
       "      <td>0.0</td>\n",
       "      <td>1.0</td>\n",
       "      <td>12.0</td>\n",
       "      <td>1.8</td>\n",
       "      <td>19.98</td>\n",
       "      <td>1</td>\n",
       "    </tr>\n",
       "    <tr>\n",
       "      <th>2455862</th>\n",
       "      <td>2018-10-28</td>\n",
       "      <td>2CD70CFC4E3</td>\n",
       "      <td>0.0</td>\n",
       "      <td>1.0</td>\n",
       "      <td>18.0</td>\n",
       "      <td>2.9</td>\n",
       "      <td>23.98</td>\n",
       "      <td>1</td>\n",
       "    </tr>\n",
       "    <tr>\n",
       "      <th>2455863</th>\n",
       "      <td>2018-10-28</td>\n",
       "      <td>2C4792A5B84</td>\n",
       "      <td>0.0</td>\n",
       "      <td>1.0</td>\n",
       "      <td>0.0</td>\n",
       "      <td>2.5</td>\n",
       "      <td>11.96</td>\n",
       "      <td>1</td>\n",
       "    </tr>\n",
       "  </tbody>\n",
       "</table>\n",
       "<p>2455864 rows × 8 columns</p>\n",
       "</div>"
      ]
     },
     "execution_count": 122,
     "metadata": {},
     "output_type": "execute_result"
    }
   ],
   "execution_count": 122
  },
  {
   "cell_type": "code",
   "metadata": {
    "ExecuteTime": {
     "end_time": "2024-04-18T15:53:59.258617Z",
     "start_time": "2024-04-18T15:53:59.116993Z"
    }
   },
   "source": [
    "merged_df.nunique()"
   ],
   "outputs": [
    {
     "data": {
      "text/plain": [
       "PURCHASE_DATE          151\n",
       "MAGIC_KEY          1274108\n",
       "QUALITY                  2\n",
       "DELIVERY_OPTION          3\n",
       "MILK                    28\n",
       "MEAT                    39\n",
       "UNIT_PRICE              18\n",
       "PURCHASE                 2\n",
       "dtype: int64"
      ]
     },
     "execution_count": 123,
     "metadata": {},
     "output_type": "execute_result"
    }
   ],
   "execution_count": 123
  },
  {
   "cell_type": "code",
   "metadata": {
    "ExecuteTime": {
     "end_time": "2024-04-18T15:53:59.266372Z",
     "start_time": "2024-04-18T15:53:59.258617Z"
    }
   },
   "source": [
    "\n",
    "merged_df.head()"
   ],
   "outputs": [
    {
     "data": {
      "text/plain": [
       "  PURCHASE_DATE    MAGIC_KEY  QUALITY  DELIVERY_OPTION  MILK  MEAT  \\\n",
       "0    2019-02-01  2CED678A247      0.0              1.0   8.0   1.5   \n",
       "1    2019-02-01  2BF58D91BA1      0.0              1.0   8.0   1.5   \n",
       "2    2019-02-01  2C15B86534E      0.0              0.0   0.0   3.3   \n",
       "3    2019-02-01  2C32D9A859A      0.0              1.0   0.0   2.7   \n",
       "4    2019-02-01  2C7A55404D1      0.0              1.0   0.0   2.5   \n",
       "\n",
       "   UNIT_PRICE  PURCHASE  \n",
       "0       12.98         1  \n",
       "1       12.98         1  \n",
       "2       13.96         1  \n",
       "3       11.96         1  \n",
       "4       11.96         1  "
      ],
      "text/html": [
       "<div>\n",
       "<style scoped>\n",
       "    .dataframe tbody tr th:only-of-type {\n",
       "        vertical-align: middle;\n",
       "    }\n",
       "\n",
       "    .dataframe tbody tr th {\n",
       "        vertical-align: top;\n",
       "    }\n",
       "\n",
       "    .dataframe thead th {\n",
       "        text-align: right;\n",
       "    }\n",
       "</style>\n",
       "<table border=\"1\" class=\"dataframe\">\n",
       "  <thead>\n",
       "    <tr style=\"text-align: right;\">\n",
       "      <th></th>\n",
       "      <th>PURCHASE_DATE</th>\n",
       "      <th>MAGIC_KEY</th>\n",
       "      <th>QUALITY</th>\n",
       "      <th>DELIVERY_OPTION</th>\n",
       "      <th>MILK</th>\n",
       "      <th>MEAT</th>\n",
       "      <th>UNIT_PRICE</th>\n",
       "      <th>PURCHASE</th>\n",
       "    </tr>\n",
       "  </thead>\n",
       "  <tbody>\n",
       "    <tr>\n",
       "      <th>0</th>\n",
       "      <td>2019-02-01</td>\n",
       "      <td>2CED678A247</td>\n",
       "      <td>0.0</td>\n",
       "      <td>1.0</td>\n",
       "      <td>8.0</td>\n",
       "      <td>1.5</td>\n",
       "      <td>12.98</td>\n",
       "      <td>1</td>\n",
       "    </tr>\n",
       "    <tr>\n",
       "      <th>1</th>\n",
       "      <td>2019-02-01</td>\n",
       "      <td>2BF58D91BA1</td>\n",
       "      <td>0.0</td>\n",
       "      <td>1.0</td>\n",
       "      <td>8.0</td>\n",
       "      <td>1.5</td>\n",
       "      <td>12.98</td>\n",
       "      <td>1</td>\n",
       "    </tr>\n",
       "    <tr>\n",
       "      <th>2</th>\n",
       "      <td>2019-02-01</td>\n",
       "      <td>2C15B86534E</td>\n",
       "      <td>0.0</td>\n",
       "      <td>0.0</td>\n",
       "      <td>0.0</td>\n",
       "      <td>3.3</td>\n",
       "      <td>13.96</td>\n",
       "      <td>1</td>\n",
       "    </tr>\n",
       "    <tr>\n",
       "      <th>3</th>\n",
       "      <td>2019-02-01</td>\n",
       "      <td>2C32D9A859A</td>\n",
       "      <td>0.0</td>\n",
       "      <td>1.0</td>\n",
       "      <td>0.0</td>\n",
       "      <td>2.7</td>\n",
       "      <td>11.96</td>\n",
       "      <td>1</td>\n",
       "    </tr>\n",
       "    <tr>\n",
       "      <th>4</th>\n",
       "      <td>2019-02-01</td>\n",
       "      <td>2C7A55404D1</td>\n",
       "      <td>0.0</td>\n",
       "      <td>1.0</td>\n",
       "      <td>0.0</td>\n",
       "      <td>2.5</td>\n",
       "      <td>11.96</td>\n",
       "      <td>1</td>\n",
       "    </tr>\n",
       "  </tbody>\n",
       "</table>\n",
       "</div>"
      ]
     },
     "execution_count": 124,
     "metadata": {},
     "output_type": "execute_result"
    }
   ],
   "execution_count": 124
  },
  {
   "cell_type": "code",
   "metadata": {
    "ExecuteTime": {
     "end_time": "2024-04-18T15:53:59.272540Z",
     "start_time": "2024-04-18T15:53:59.266885Z"
    }
   },
   "source": "merged_df.dtypes",
   "outputs": [
    {
     "data": {
      "text/plain": [
       "PURCHASE_DATE      datetime64[ns]\n",
       "MAGIC_KEY                category\n",
       "QUALITY                   float64\n",
       "DELIVERY_OPTION           float64\n",
       "MILK                      float64\n",
       "MEAT                      float64\n",
       "UNIT_PRICE                float64\n",
       "PURCHASE                    int64\n",
       "dtype: object"
      ]
     },
     "execution_count": 125,
     "metadata": {},
     "output_type": "execute_result"
    }
   ],
   "execution_count": 125
  },
  {
   "metadata": {
    "ExecuteTime": {
     "end_time": "2024-04-18T15:55:27.368111Z",
     "start_time": "2024-04-18T15:55:27.250696Z"
    }
   },
   "cell_type": "code",
   "source": [
    "correlation = merged_df[['PURCHASE', 'QUALITY', 'DELIVERY_OPTION', 'UNIT_PRICE']].corr()\n",
    "print(correlation)\n"
   ],
   "outputs": [
    {
     "ename": "ValueError",
     "evalue": "could not convert string to float: '2CED678A247'",
     "output_type": "error",
     "traceback": [
      "\u001B[1;31m---------------------------------------------------------------------------\u001B[0m",
      "\u001B[1;31mValueError\u001B[0m                                Traceback (most recent call last)",
      "Cell \u001B[1;32mIn[130], line 1\u001B[0m\n\u001B[1;32m----> 1\u001B[0m correlation \u001B[38;5;241m=\u001B[39m \u001B[43mmerged_df\u001B[49m\u001B[43m[\u001B[49m\u001B[43m[\u001B[49m\u001B[38;5;124;43m'\u001B[39;49m\u001B[38;5;124;43mMAGIC_KEY\u001B[39;49m\u001B[38;5;124;43m'\u001B[39;49m\u001B[43m,\u001B[49m\u001B[38;5;124;43m'\u001B[39;49m\u001B[38;5;124;43mPURCHASE\u001B[39;49m\u001B[38;5;124;43m'\u001B[39;49m\u001B[43m]\u001B[49m\u001B[43m]\u001B[49m\u001B[38;5;241;43m.\u001B[39;49m\u001B[43mcorr\u001B[49m\u001B[43m(\u001B[49m\u001B[43m)\u001B[49m\n\u001B[0;32m      2\u001B[0m \u001B[38;5;28mprint\u001B[39m(correlation)\n",
      "File \u001B[1;32md:\\Robi-Datathon\\Problem1\\.venv\\Lib\\site-packages\\pandas\\core\\frame.py:11049\u001B[0m, in \u001B[0;36mDataFrame.corr\u001B[1;34m(self, method, min_periods, numeric_only)\u001B[0m\n\u001B[0;32m  11047\u001B[0m cols \u001B[38;5;241m=\u001B[39m data\u001B[38;5;241m.\u001B[39mcolumns\n\u001B[0;32m  11048\u001B[0m idx \u001B[38;5;241m=\u001B[39m cols\u001B[38;5;241m.\u001B[39mcopy()\n\u001B[1;32m> 11049\u001B[0m mat \u001B[38;5;241m=\u001B[39m \u001B[43mdata\u001B[49m\u001B[38;5;241;43m.\u001B[39;49m\u001B[43mto_numpy\u001B[49m\u001B[43m(\u001B[49m\u001B[43mdtype\u001B[49m\u001B[38;5;241;43m=\u001B[39;49m\u001B[38;5;28;43mfloat\u001B[39;49m\u001B[43m,\u001B[49m\u001B[43m \u001B[49m\u001B[43mna_value\u001B[49m\u001B[38;5;241;43m=\u001B[39;49m\u001B[43mnp\u001B[49m\u001B[38;5;241;43m.\u001B[39;49m\u001B[43mnan\u001B[49m\u001B[43m,\u001B[49m\u001B[43m \u001B[49m\u001B[43mcopy\u001B[49m\u001B[38;5;241;43m=\u001B[39;49m\u001B[38;5;28;43;01mFalse\u001B[39;49;00m\u001B[43m)\u001B[49m\n\u001B[0;32m  11051\u001B[0m \u001B[38;5;28;01mif\u001B[39;00m method \u001B[38;5;241m==\u001B[39m \u001B[38;5;124m\"\u001B[39m\u001B[38;5;124mpearson\u001B[39m\u001B[38;5;124m\"\u001B[39m:\n\u001B[0;32m  11052\u001B[0m     correl \u001B[38;5;241m=\u001B[39m libalgos\u001B[38;5;241m.\u001B[39mnancorr(mat, minp\u001B[38;5;241m=\u001B[39mmin_periods)\n",
      "File \u001B[1;32md:\\Robi-Datathon\\Problem1\\.venv\\Lib\\site-packages\\pandas\\core\\frame.py:1993\u001B[0m, in \u001B[0;36mDataFrame.to_numpy\u001B[1;34m(self, dtype, copy, na_value)\u001B[0m\n\u001B[0;32m   1991\u001B[0m \u001B[38;5;28;01mif\u001B[39;00m dtype \u001B[38;5;129;01mis\u001B[39;00m \u001B[38;5;129;01mnot\u001B[39;00m \u001B[38;5;28;01mNone\u001B[39;00m:\n\u001B[0;32m   1992\u001B[0m     dtype \u001B[38;5;241m=\u001B[39m np\u001B[38;5;241m.\u001B[39mdtype(dtype)\n\u001B[1;32m-> 1993\u001B[0m result \u001B[38;5;241m=\u001B[39m \u001B[38;5;28;43mself\u001B[39;49m\u001B[38;5;241;43m.\u001B[39;49m\u001B[43m_mgr\u001B[49m\u001B[38;5;241;43m.\u001B[39;49m\u001B[43mas_array\u001B[49m\u001B[43m(\u001B[49m\u001B[43mdtype\u001B[49m\u001B[38;5;241;43m=\u001B[39;49m\u001B[43mdtype\u001B[49m\u001B[43m,\u001B[49m\u001B[43m \u001B[49m\u001B[43mcopy\u001B[49m\u001B[38;5;241;43m=\u001B[39;49m\u001B[43mcopy\u001B[49m\u001B[43m,\u001B[49m\u001B[43m \u001B[49m\u001B[43mna_value\u001B[49m\u001B[38;5;241;43m=\u001B[39;49m\u001B[43mna_value\u001B[49m\u001B[43m)\u001B[49m\n\u001B[0;32m   1994\u001B[0m \u001B[38;5;28;01mif\u001B[39;00m result\u001B[38;5;241m.\u001B[39mdtype \u001B[38;5;129;01mis\u001B[39;00m \u001B[38;5;129;01mnot\u001B[39;00m dtype:\n\u001B[0;32m   1995\u001B[0m     result \u001B[38;5;241m=\u001B[39m np\u001B[38;5;241m.\u001B[39masarray(result, dtype\u001B[38;5;241m=\u001B[39mdtype)\n",
      "File \u001B[1;32md:\\Robi-Datathon\\Problem1\\.venv\\Lib\\site-packages\\pandas\\core\\internals\\managers.py:1694\u001B[0m, in \u001B[0;36mBlockManager.as_array\u001B[1;34m(self, dtype, copy, na_value)\u001B[0m\n\u001B[0;32m   1692\u001B[0m         arr\u001B[38;5;241m.\u001B[39mflags\u001B[38;5;241m.\u001B[39mwriteable \u001B[38;5;241m=\u001B[39m \u001B[38;5;28;01mFalse\u001B[39;00m\n\u001B[0;32m   1693\u001B[0m \u001B[38;5;28;01melse\u001B[39;00m:\n\u001B[1;32m-> 1694\u001B[0m     arr \u001B[38;5;241m=\u001B[39m \u001B[38;5;28;43mself\u001B[39;49m\u001B[38;5;241;43m.\u001B[39;49m\u001B[43m_interleave\u001B[49m\u001B[43m(\u001B[49m\u001B[43mdtype\u001B[49m\u001B[38;5;241;43m=\u001B[39;49m\u001B[43mdtype\u001B[49m\u001B[43m,\u001B[49m\u001B[43m \u001B[49m\u001B[43mna_value\u001B[49m\u001B[38;5;241;43m=\u001B[39;49m\u001B[43mna_value\u001B[49m\u001B[43m)\u001B[49m\n\u001B[0;32m   1695\u001B[0m     \u001B[38;5;66;03m# The underlying data was copied within _interleave, so no need\u001B[39;00m\n\u001B[0;32m   1696\u001B[0m     \u001B[38;5;66;03m# to further copy if copy=True or setting na_value\u001B[39;00m\n\u001B[0;32m   1698\u001B[0m \u001B[38;5;28;01mif\u001B[39;00m na_value \u001B[38;5;129;01mis\u001B[39;00m lib\u001B[38;5;241m.\u001B[39mno_default:\n",
      "File \u001B[1;32md:\\Robi-Datathon\\Problem1\\.venv\\Lib\\site-packages\\pandas\\core\\internals\\managers.py:1747\u001B[0m, in \u001B[0;36mBlockManager._interleave\u001B[1;34m(self, dtype, na_value)\u001B[0m\n\u001B[0;32m   1741\u001B[0m rl \u001B[38;5;241m=\u001B[39m blk\u001B[38;5;241m.\u001B[39mmgr_locs\n\u001B[0;32m   1742\u001B[0m \u001B[38;5;28;01mif\u001B[39;00m blk\u001B[38;5;241m.\u001B[39mis_extension:\n\u001B[0;32m   1743\u001B[0m     \u001B[38;5;66;03m# Avoid implicit conversion of extension blocks to object\u001B[39;00m\n\u001B[0;32m   1744\u001B[0m \n\u001B[0;32m   1745\u001B[0m     \u001B[38;5;66;03m# error: Item \"ndarray\" of \"Union[ndarray, ExtensionArray]\" has no\u001B[39;00m\n\u001B[0;32m   1746\u001B[0m     \u001B[38;5;66;03m# attribute \"to_numpy\"\u001B[39;00m\n\u001B[1;32m-> 1747\u001B[0m     arr \u001B[38;5;241m=\u001B[39m \u001B[43mblk\u001B[49m\u001B[38;5;241;43m.\u001B[39;49m\u001B[43mvalues\u001B[49m\u001B[38;5;241;43m.\u001B[39;49m\u001B[43mto_numpy\u001B[49m\u001B[43m(\u001B[49m\u001B[43m  \u001B[49m\u001B[38;5;66;43;03m# type: ignore[union-attr]\u001B[39;49;00m\n\u001B[0;32m   1748\u001B[0m \u001B[43m        \u001B[49m\u001B[43mdtype\u001B[49m\u001B[38;5;241;43m=\u001B[39;49m\u001B[43mdtype\u001B[49m\u001B[43m,\u001B[49m\n\u001B[0;32m   1749\u001B[0m \u001B[43m        \u001B[49m\u001B[43mna_value\u001B[49m\u001B[38;5;241;43m=\u001B[39;49m\u001B[43mna_value\u001B[49m\u001B[43m,\u001B[49m\n\u001B[0;32m   1750\u001B[0m \u001B[43m    \u001B[49m\u001B[43m)\u001B[49m\n\u001B[0;32m   1751\u001B[0m \u001B[38;5;28;01melse\u001B[39;00m:\n\u001B[0;32m   1752\u001B[0m     arr \u001B[38;5;241m=\u001B[39m blk\u001B[38;5;241m.\u001B[39mget_values(dtype)\n",
      "File \u001B[1;32md:\\Robi-Datathon\\Problem1\\.venv\\Lib\\site-packages\\pandas\\core\\arrays\\base.py:568\u001B[0m, in \u001B[0;36mExtensionArray.to_numpy\u001B[1;34m(self, dtype, copy, na_value)\u001B[0m\n\u001B[0;32m    539\u001B[0m \u001B[38;5;28;01mdef\u001B[39;00m \u001B[38;5;21mto_numpy\u001B[39m(\n\u001B[0;32m    540\u001B[0m     \u001B[38;5;28mself\u001B[39m,\n\u001B[0;32m    541\u001B[0m     dtype: npt\u001B[38;5;241m.\u001B[39mDTypeLike \u001B[38;5;241m|\u001B[39m \u001B[38;5;28;01mNone\u001B[39;00m \u001B[38;5;241m=\u001B[39m \u001B[38;5;28;01mNone\u001B[39;00m,\n\u001B[0;32m    542\u001B[0m     copy: \u001B[38;5;28mbool\u001B[39m \u001B[38;5;241m=\u001B[39m \u001B[38;5;28;01mFalse\u001B[39;00m,\n\u001B[0;32m    543\u001B[0m     na_value: \u001B[38;5;28mobject\u001B[39m \u001B[38;5;241m=\u001B[39m lib\u001B[38;5;241m.\u001B[39mno_default,\n\u001B[0;32m    544\u001B[0m ) \u001B[38;5;241m-\u001B[39m\u001B[38;5;241m>\u001B[39m np\u001B[38;5;241m.\u001B[39mndarray:\n\u001B[0;32m    545\u001B[0m \u001B[38;5;250m    \u001B[39m\u001B[38;5;124;03m\"\"\"\u001B[39;00m\n\u001B[0;32m    546\u001B[0m \u001B[38;5;124;03m    Convert to a NumPy ndarray.\u001B[39;00m\n\u001B[0;32m    547\u001B[0m \n\u001B[1;32m   (...)\u001B[0m\n\u001B[0;32m    566\u001B[0m \u001B[38;5;124;03m    numpy.ndarray\u001B[39;00m\n\u001B[0;32m    567\u001B[0m \u001B[38;5;124;03m    \"\"\"\u001B[39;00m\n\u001B[1;32m--> 568\u001B[0m     result \u001B[38;5;241m=\u001B[39m \u001B[43mnp\u001B[49m\u001B[38;5;241;43m.\u001B[39;49m\u001B[43masarray\u001B[49m\u001B[43m(\u001B[49m\u001B[38;5;28;43mself\u001B[39;49m\u001B[43m,\u001B[49m\u001B[43m \u001B[49m\u001B[43mdtype\u001B[49m\u001B[38;5;241;43m=\u001B[39;49m\u001B[43mdtype\u001B[49m\u001B[43m)\u001B[49m\n\u001B[0;32m    569\u001B[0m     \u001B[38;5;28;01mif\u001B[39;00m copy \u001B[38;5;129;01mor\u001B[39;00m na_value \u001B[38;5;129;01mis\u001B[39;00m \u001B[38;5;129;01mnot\u001B[39;00m lib\u001B[38;5;241m.\u001B[39mno_default:\n\u001B[0;32m    570\u001B[0m         result \u001B[38;5;241m=\u001B[39m result\u001B[38;5;241m.\u001B[39mcopy()\n",
      "File \u001B[1;32md:\\Robi-Datathon\\Problem1\\.venv\\Lib\\site-packages\\pandas\\core\\arrays\\_mixins.py:81\u001B[0m, in \u001B[0;36mravel_compat.<locals>.method\u001B[1;34m(self, *args, **kwargs)\u001B[0m\n\u001B[0;32m     78\u001B[0m \u001B[38;5;129m@wraps\u001B[39m(meth)\n\u001B[0;32m     79\u001B[0m \u001B[38;5;28;01mdef\u001B[39;00m \u001B[38;5;21mmethod\u001B[39m(\u001B[38;5;28mself\u001B[39m, \u001B[38;5;241m*\u001B[39margs, \u001B[38;5;241m*\u001B[39m\u001B[38;5;241m*\u001B[39mkwargs):\n\u001B[0;32m     80\u001B[0m     \u001B[38;5;28;01mif\u001B[39;00m \u001B[38;5;28mself\u001B[39m\u001B[38;5;241m.\u001B[39mndim \u001B[38;5;241m==\u001B[39m \u001B[38;5;241m1\u001B[39m:\n\u001B[1;32m---> 81\u001B[0m         \u001B[38;5;28;01mreturn\u001B[39;00m \u001B[43mmeth\u001B[49m\u001B[43m(\u001B[49m\u001B[38;5;28;43mself\u001B[39;49m\u001B[43m,\u001B[49m\u001B[43m \u001B[49m\u001B[38;5;241;43m*\u001B[39;49m\u001B[43margs\u001B[49m\u001B[43m,\u001B[49m\u001B[43m \u001B[49m\u001B[38;5;241;43m*\u001B[39;49m\u001B[38;5;241;43m*\u001B[39;49m\u001B[43mkwargs\u001B[49m\u001B[43m)\u001B[49m\n\u001B[0;32m     83\u001B[0m     flags \u001B[38;5;241m=\u001B[39m \u001B[38;5;28mself\u001B[39m\u001B[38;5;241m.\u001B[39m_ndarray\u001B[38;5;241m.\u001B[39mflags\n\u001B[0;32m     84\u001B[0m     flat \u001B[38;5;241m=\u001B[39m \u001B[38;5;28mself\u001B[39m\u001B[38;5;241m.\u001B[39mravel(\u001B[38;5;124m\"\u001B[39m\u001B[38;5;124mK\u001B[39m\u001B[38;5;124m\"\u001B[39m)\n",
      "File \u001B[1;32md:\\Robi-Datathon\\Problem1\\.venv\\Lib\\site-packages\\pandas\\core\\arrays\\categorical.py:1664\u001B[0m, in \u001B[0;36mCategorical.__array__\u001B[1;34m(self, dtype, copy)\u001B[0m\n\u001B[0;32m   1662\u001B[0m ret \u001B[38;5;241m=\u001B[39m take_nd(\u001B[38;5;28mself\u001B[39m\u001B[38;5;241m.\u001B[39mcategories\u001B[38;5;241m.\u001B[39m_values, \u001B[38;5;28mself\u001B[39m\u001B[38;5;241m.\u001B[39m_codes)\n\u001B[0;32m   1663\u001B[0m \u001B[38;5;28;01mif\u001B[39;00m dtype \u001B[38;5;129;01mand\u001B[39;00m np\u001B[38;5;241m.\u001B[39mdtype(dtype) \u001B[38;5;241m!=\u001B[39m \u001B[38;5;28mself\u001B[39m\u001B[38;5;241m.\u001B[39mcategories\u001B[38;5;241m.\u001B[39mdtype:\n\u001B[1;32m-> 1664\u001B[0m     \u001B[38;5;28;01mreturn\u001B[39;00m np\u001B[38;5;241m.\u001B[39masarray(ret, dtype)\n\u001B[0;32m   1665\u001B[0m \u001B[38;5;66;03m# When we're a Categorical[ExtensionArray], like Interval,\u001B[39;00m\n\u001B[0;32m   1666\u001B[0m \u001B[38;5;66;03m# we need to ensure __array__ gets all the way to an\u001B[39;00m\n\u001B[0;32m   1667\u001B[0m \u001B[38;5;66;03m# ndarray.\u001B[39;00m\n\u001B[0;32m   1668\u001B[0m \u001B[38;5;28;01mreturn\u001B[39;00m np\u001B[38;5;241m.\u001B[39masarray(ret)\n",
      "\u001B[1;31mValueError\u001B[0m: could not convert string to float: '2CED678A247'"
     ]
    }
   ],
   "execution_count": 130
  },
  {
   "metadata": {
    "ExecuteTime": {
     "end_time": "2024-04-18T15:55:29.147597Z",
     "start_time": "2024-04-18T15:55:28.993605Z"
    }
   },
   "cell_type": "code",
   "source": [
    "plt.figure(figsize=(10, 8))\n",
    "sns.heatmap(correlation, annot=True, cmap='coolwarm', fmt=\".2f\", annot_kws={\"size\": 10})\n",
    "plt.title('Correlation Matrix')\n",
    "plt.show()"
   ],
   "outputs": [
    {
     "data": {
      "text/plain": [
       "<Figure size 1000x800 with 2 Axes>"
      ],
      "image/png": "[encoded data removed]"
     },
     "metadata": {},
     "output_type": "display_data"
    }
   ],
   "execution_count": 131
  },
  {
   "metadata": {},
   "cell_type": "code",
   "outputs": [],
   "execution_count": null,
   "source": ""
  }
 ],
 "metadata": {
  "kernelspec": {
   "display_name": ".venv",
   "language": "python",
   "name": "python3"
  },
  "language_info": {
   "codemirror_mode": {
    "name": "ipython",
    "version": 3
   },
   "file_extension": ".py",
   "mimetype": "text/x-python",
   "name": "python",
   "nbconvert_exporter": "python",
   "pygments_lexer": "ipython3",
   "version": "3.11.7"
  }
 },
 "nbformat": 4,
 "nbformat_minor": 2
}
