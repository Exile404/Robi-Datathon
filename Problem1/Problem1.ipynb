{
 "cells": [
  {
   "cell_type": "markdown",
   "metadata": {},
   "source": [
    "# Problem 1\n",
    "\n",
    "We need to predict which of the Magic Keys given in “problem 1.csv” will buy milk and/or meat in the first 15 days of March-2019. We have to put Y in the purchase column if the Magic Keys will purchase and N if the Magic Keys will not make a purchase. "
   ]
  },
  {
   "cell_type": "markdown",
   "metadata": {},
   "source": [
    "## Necessary Libraries"
   ]
  },
  {
   "cell_type": "code",
   "metadata": {
    "ExecuteTime": {
     "end_time": "2024-04-18T15:15:59.597244Z",
     "start_time": "2024-04-18T15:15:59.594428Z"
    }
   },
   "source": [
    "import pandas as pd\n",
    "\n",
    "from sklearn.model_selection import train_test_split\n",
    "from sklearn.linear_model import LogisticRegression\n",
    "from sklearn.metrics import classification_report"
   ],
   "outputs": [],
   "execution_count": 24
  },
  {
   "cell_type": "markdown",
   "metadata": {},
   "source": [
    "## Data Preprocessing"
   ]
  },
  {
   "cell_type": "code",
   "metadata": {
    "ExecuteTime": {
     "end_time": "2024-04-18T15:12:18.166280Z",
     "start_time": "2024-04-18T15:12:16.994224Z"
    }
   },
   "source": [
    "# Load the data\n",
    "boxes_df = pd.read_csv('boxes.csv')\n",
    "purchase_df = pd.read_csv('purchase.csv')\n",
    "problem_df = pd.read_csv('problem 1.csv')"
   ],
   "outputs": [],
   "execution_count": 15
  },
  {
   "cell_type": "code",
   "metadata": {
    "ExecuteTime": {
     "end_time": "2024-04-18T15:12:22.247868Z",
     "start_time": "2024-04-18T15:12:18.167281Z"
    }
   },
   "source": [
    "# Convert the purchase date to datetime format\n",
    "purchase_df['PURCHASE_DATE'] = pd.to_datetime(purchase_df['PURCHASE_DATE'],format='%d/%m/%Y')\n",
    "\n",
    "# Filter purchases made in the first 15 days 2019\n",
    "march_purchases = purchase_df[(purchase_df['PURCHASE_DATE'].dt.day <= 15)]\n",
    "\n",
    "# Merge the purchase data with the boxes data to get details about the purchased boxes\n",
    "merged_df = pd.merge(march_purchases, boxes_df, on='BOX_ID')\n",
    "\n",
    "# Group by MAGIC_KEY and check if they purchased milk or meat\n",
    "purchase_summary = merged_df.groupby('MAGIC_KEY').agg({'MILK': 'sum', 'MEAT': 'sum'})\n",
    "\n",
    "# Predict which Magic Keys will make a purchase\n",
    "# If a Magic Key purchased milk or meat, they will make a purchase\n",
    "purchase_summary['PURCHASE'] = purchase_summary.apply(lambda row: 'Y' if row['MILK'] > 0 or row['MEAT'] > 0 else 'N', axis=1)"
   ],
   "outputs": [],
   "execution_count": 16
  },
  {
   "cell_type": "code",
   "metadata": {
    "ExecuteTime": {
     "end_time": "2024-04-18T15:21:37.335228Z",
     "start_time": "2024-04-18T15:21:37.055969Z"
    }
   },
   "source": [
    "# Merge the problem data with our purchase summary to get the final prediction\n",
    "submission_df = pd.merge(problem_df, purchase_summary[['PURCHASE']], on='MAGIC_KEY', how='left')\n",
    "\n",
    "# Fill missing values with 'N' and ensure the column is of object dtype to avoid dtype incompatibility\n",
    "submission_df['PURCHASE'] = submission_df['PURCHASE'].fillna('N').astype(object)\n",
    "\n",
    "# Save the submission file\n",
    "submission_df.to_csv('submission1.csv', index=False)"
   ],
   "outputs": [],
   "execution_count": 30
  },
  {
   "metadata": {
    "ExecuteTime": {
     "end_time": "2024-04-18T15:40:43.600483Z",
     "start_time": "2024-04-18T15:40:43.594747Z"
    }
   },
   "cell_type": "code",
   "source": "submission_df",
   "outputs": [
    {
     "data": {
      "text/plain": [
       "         MAGIC_KEY PURCHASE\n",
       "0      28D5BB06356        N\n",
       "1      293BEAB4E98        Y\n",
       "2      2962EE8065C        N\n",
       "3      2957BE29EA9        Y\n",
       "4      28E351A0745        N\n",
       "...            ...      ...\n",
       "58684  28FB7C09776        Y\n",
       "58685  28E0E3B69BF        Y\n",
       "58686  28D343103A7        Y\n",
       "58687  290B1D6D5CB        Y\n",
       "58688  28FF193CB94        Y\n",
       "\n",
       "[58689 rows x 2 columns]"
      ],
      "text/html": [
       "<div>\n",
       "<style scoped>\n",
       "    .dataframe tbody tr th:only-of-type {\n",
       "        vertical-align: middle;\n",
       "    }\n",
       "\n",
       "    .dataframe tbody tr th {\n",
       "        vertical-align: top;\n",
       "    }\n",
       "\n",
       "    .dataframe thead th {\n",
       "        text-align: right;\n",
       "    }\n",
       "</style>\n",
       "<table border=\"1\" class=\"dataframe\">\n",
       "  <thead>\n",
       "    <tr style=\"text-align: right;\">\n",
       "      <th></th>\n",
       "      <th>MAGIC_KEY</th>\n",
       "      <th>PURCHASE</th>\n",
       "    </tr>\n",
       "  </thead>\n",
       "  <tbody>\n",
       "    <tr>\n",
       "      <th>0</th>\n",
       "      <td>28D5BB06356</td>\n",
       "      <td>N</td>\n",
       "    </tr>\n",
       "    <tr>\n",
       "      <th>1</th>\n",
       "      <td>293BEAB4E98</td>\n",
       "      <td>Y</td>\n",
       "    </tr>\n",
       "    <tr>\n",
       "      <th>2</th>\n",
       "      <td>2962EE8065C</td>\n",
       "      <td>N</td>\n",
       "    </tr>\n",
       "    <tr>\n",
       "      <th>3</th>\n",
       "      <td>2957BE29EA9</td>\n",
       "      <td>Y</td>\n",
       "    </tr>\n",
       "    <tr>\n",
       "      <th>4</th>\n",
       "      <td>28E351A0745</td>\n",
       "      <td>N</td>\n",
       "    </tr>\n",
       "    <tr>\n",
       "      <th>...</th>\n",
       "      <td>...</td>\n",
       "      <td>...</td>\n",
       "    </tr>\n",
       "    <tr>\n",
       "      <th>58684</th>\n",
       "      <td>28FB7C09776</td>\n",
       "      <td>Y</td>\n",
       "    </tr>\n",
       "    <tr>\n",
       "      <th>58685</th>\n",
       "      <td>28E0E3B69BF</td>\n",
       "      <td>Y</td>\n",
       "    </tr>\n",
       "    <tr>\n",
       "      <th>58686</th>\n",
       "      <td>28D343103A7</td>\n",
       "      <td>Y</td>\n",
       "    </tr>\n",
       "    <tr>\n",
       "      <th>58687</th>\n",
       "      <td>290B1D6D5CB</td>\n",
       "      <td>Y</td>\n",
       "    </tr>\n",
       "    <tr>\n",
       "      <th>58688</th>\n",
       "      <td>28FF193CB94</td>\n",
       "      <td>Y</td>\n",
       "    </tr>\n",
       "  </tbody>\n",
       "</table>\n",
       "<p>58689 rows × 2 columns</p>\n",
       "</div>"
      ]
     },
     "execution_count": 32,
     "metadata": {},
     "output_type": "execute_result"
    }
   ],
   "execution_count": 32
  },
  {
   "metadata": {},
   "cell_type": "code",
   "outputs": [],
   "execution_count": null,
   "source": ""
  }
 ],
 "metadata": {
  "kernelspec": {
   "display_name": ".venv",
   "language": "python",
   "name": "python3"
  },
  "language_info": {
   "codemirror_mode": {
    "name": "ipython",
    "version": 3
   },
   "file_extension": ".py",
   "mimetype": "text/x-python",
   "name": "python",
   "nbconvert_exporter": "python",
   "pygments_lexer": "ipython3",
   "version": "3.11.7"
  }
 },
 "nbformat": 4,
 "nbformat_minor": 2
}
