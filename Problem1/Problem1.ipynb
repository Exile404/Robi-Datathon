{
 "cells": [
  {
<<<<<<< HEAD
   "cell_type": "markdown",
   "metadata": {},
   "source": [
    "# Problem 1\n",
    "\n",
    "We need to predict which of the Magic Keys given in “problem 1.csv” will buy milk and/or meat in the first 15 days of March-2019. We have to put Y in the purchase column if the Magic Keys will purchase and N if the Magic Keys will not make a purchase. "
   ]
  },
  {
   "cell_type": "markdown",
   "metadata": {},
   "source": [
    "## Necessary Libraries"
   ]
  },
  {
   "cell_type": "code",
   "execution_count": 18,
   "metadata": {},
   "outputs": [],
   "source": [
    "import pandas as pd\n",
    "import numpy as np\n",
    "import matplotlib.pyplot as plt\n",
    "import seaborn as sns\n",
    "\n",
    "from sklearn.preprocessing import LabelEncoder"
   ]
  },
  {
   "cell_type": "markdown",
   "metadata": {},
   "source": [
    "## Data Preprocessing"
=======
   "cell_type": "code",
   "execution_count": 6,
   "metadata": {},
   "outputs": [
    {
     "name": "stdout",
     "output_type": "stream",
     "text": [
      "Requirement already satisfied: pandas in d:\\robi-datathon\\problem1\\.venv\\lib\\site-packages (2.2.2)\n",
      "Requirement already satisfied: numpy in d:\\robi-datathon\\problem1\\.venv\\lib\\site-packages (1.26.4)\n",
      "Requirement already satisfied: scikit-learn in d:\\robi-datathon\\problem1\\.venv\\lib\\site-packages (1.4.2)\n",
      "Collecting matplotlib\n",
      "  Downloading matplotlib-3.8.4-cp311-cp311-win_amd64.whl.metadata (5.9 kB)\n",
      "Collecting seaborn\n",
      "  Downloading seaborn-0.13.2-py3-none-any.whl.metadata (5.4 kB)\n",
      "Requirement already satisfied: python-dateutil>=2.8.2 in d:\\robi-datathon\\problem1\\.venv\\lib\\site-packages (from pandas) (2.9.0.post0)\n",
      "Requirement already satisfied: pytz>=2020.1 in d:\\robi-datathon\\problem1\\.venv\\lib\\site-packages (from pandas) (2024.1)\n",
      "Requirement already satisfied: tzdata>=2022.7 in d:\\robi-datathon\\problem1\\.venv\\lib\\site-packages (from pandas) (2024.1)\n",
      "Requirement already satisfied: scipy>=1.6.0 in d:\\robi-datathon\\problem1\\.venv\\lib\\site-packages (from scikit-learn) (1.13.0)\n",
      "Requirement already satisfied: joblib>=1.2.0 in d:\\robi-datathon\\problem1\\.venv\\lib\\site-packages (from scikit-learn) (1.4.0)\n",
      "Requirement already satisfied: threadpoolctl>=2.0.0 in d:\\robi-datathon\\problem1\\.venv\\lib\\site-packages (from scikit-learn) (3.4.0)\n",
      "Collecting contourpy>=1.0.1 (from matplotlib)\n",
      "  Downloading contourpy-1.2.1-cp311-cp311-win_amd64.whl.metadata (5.8 kB)\n",
      "Collecting cycler>=0.10 (from matplotlib)\n",
      "  Downloading cycler-0.12.1-py3-none-any.whl.metadata (3.8 kB)\n",
      "Collecting fonttools>=4.22.0 (from matplotlib)\n",
      "  Downloading fonttools-4.51.0-cp311-cp311-win_amd64.whl.metadata (162 kB)\n",
      "     ---------------------------------------- 0.0/162.8 kB ? eta -:--:--\n",
      "     ------- ------------------------------- 30.7/162.8 kB 1.3 MB/s eta 0:00:01\n",
      "     -------------------------- ----------- 112.6/162.8 kB 1.6 MB/s eta 0:00:01\n",
      "     -------------------------------------- 162.8/162.8 kB 1.4 MB/s eta 0:00:00\n",
      "Collecting kiwisolver>=1.3.1 (from matplotlib)\n",
      "  Downloading kiwisolver-1.4.5-cp311-cp311-win_amd64.whl.metadata (6.5 kB)\n",
      "Requirement already satisfied: packaging>=20.0 in d:\\robi-datathon\\problem1\\.venv\\lib\\site-packages (from matplotlib) (24.0)\n",
      "Collecting pillow>=8 (from matplotlib)\n",
      "  Downloading pillow-10.3.0-cp311-cp311-win_amd64.whl.metadata (9.4 kB)\n",
      "Collecting pyparsing>=2.3.1 (from matplotlib)\n",
      "  Downloading pyparsing-3.1.2-py3-none-any.whl.metadata (5.1 kB)\n",
      "Requirement already satisfied: six>=1.5 in d:\\robi-datathon\\problem1\\.venv\\lib\\site-packages (from python-dateutil>=2.8.2->pandas) (1.16.0)\n",
      "Downloading matplotlib-3.8.4-cp311-cp311-win_amd64.whl (7.7 MB)\n",
      "   ---------------------------------------- 0.0/7.7 MB ? eta -:--:--\n",
      "    --------------------------------------- 0.1/7.7 MB 6.8 MB/s eta 0:00:02\n",
      "   - -------------------------------------- 0.2/7.7 MB 3.8 MB/s eta 0:00:02\n",
      "   - -------------------------------------- 0.3/7.7 MB 3.0 MB/s eta 0:00:03\n",
      "   -- ------------------------------------- 0.5/7.7 MB 2.6 MB/s eta 0:00:03\n",
      "   --- ------------------------------------ 0.6/7.7 MB 3.1 MB/s eta 0:00:03\n",
      "   ---- ----------------------------------- 0.8/7.7 MB 3.1 MB/s eta 0:00:03\n",
      "   -------- ------------------------------- 1.6/7.7 MB 5.0 MB/s eta 0:00:02\n",
      "   -------- ------------------------------- 1.6/7.7 MB 5.0 MB/s eta 0:00:02\n",
      "   ----------- ---------------------------- 2.1/7.7 MB 5.2 MB/s eta 0:00:02\n",
      "   ------------ --------------------------- 2.4/7.7 MB 5.3 MB/s eta 0:00:01\n",
      "   -------------- ------------------------- 2.7/7.7 MB 5.3 MB/s eta 0:00:01\n",
      "   --------------- ------------------------ 3.0/7.7 MB 5.4 MB/s eta 0:00:01\n",
      "   ---------------- ----------------------- 3.2/7.7 MB 5.4 MB/s eta 0:00:01\n",
      "   ------------------ --------------------- 3.5/7.7 MB 5.5 MB/s eta 0:00:01\n",
      "   ------------------- -------------------- 3.8/7.7 MB 5.5 MB/s eta 0:00:01\n",
      "   --------------------- ------------------ 4.1/7.7 MB 5.6 MB/s eta 0:00:01\n",
      "   ---------------------- ----------------- 4.4/7.7 MB 5.6 MB/s eta 0:00:01\n",
      "   ------------------------ --------------- 4.6/7.7 MB 5.6 MB/s eta 0:00:01\n",
      "   ------------------------- -------------- 4.9/7.7 MB 5.6 MB/s eta 0:00:01\n",
      "   --------------------------- ------------ 5.2/7.7 MB 5.7 MB/s eta 0:00:01\n",
      "   ---------------------------- ----------- 5.5/7.7 MB 5.7 MB/s eta 0:00:01\n",
      "   ------------------------------ --------- 5.8/7.7 MB 5.7 MB/s eta 0:00:01\n",
      "   ------------------------------- -------- 6.1/7.7 MB 5.7 MB/s eta 0:00:01\n",
      "   --------------------------------- ------ 6.4/7.7 MB 5.8 MB/s eta 0:00:01\n",
      "   ----------------------------------- ---- 6.7/7.7 MB 5.8 MB/s eta 0:00:01\n",
      "   ------------------------------------ --- 7.0/7.7 MB 5.8 MB/s eta 0:00:01\n",
      "   ------------------------------------- -- 7.2/7.7 MB 5.8 MB/s eta 0:00:01\n",
      "   ---------------------------------------  7.5/7.7 MB 5.8 MB/s eta 0:00:01\n",
      "   ---------------------------------------- 7.7/7.7 MB 5.8 MB/s eta 0:00:00\n",
      "Downloading seaborn-0.13.2-py3-none-any.whl (294 kB)\n",
      "   ---------------------------------------- 0.0/294.9 kB ? eta -:--:--\n",
      "   ---------------------------------------- 294.9/294.9 kB 6.2 MB/s eta 0:00:00\n",
      "Downloading contourpy-1.2.1-cp311-cp311-win_amd64.whl (188 kB)\n",
      "   ---------------------------------------- 0.0/188.2 kB ? eta -:--:--\n",
      "   ---------------------------------------- 188.2/188.2 kB 5.6 MB/s eta 0:00:00\n",
      "Downloading cycler-0.12.1-py3-none-any.whl (8.3 kB)\n",
      "Downloading fonttools-4.51.0-cp311-cp311-win_amd64.whl (2.2 MB)\n",
      "   ---------------------------------------- 0.0/2.2 MB ? eta -:--:--\n",
      "   ----- ---------------------------------- 0.3/2.2 MB 5.7 MB/s eta 0:00:01\n",
      "   ---------- ----------------------------- 0.6/2.2 MB 7.2 MB/s eta 0:00:01\n",
      "   ---------------- ----------------------- 0.9/2.2 MB 7.0 MB/s eta 0:00:01\n",
      "   --------------------- ------------------ 1.2/2.2 MB 6.8 MB/s eta 0:00:01\n",
      "   --------------------------- ------------ 1.5/2.2 MB 6.7 MB/s eta 0:00:01\n",
      "   -------------------------------- ------- 1.8/2.2 MB 6.4 MB/s eta 0:00:01\n",
      "   -------------------------------------- - 2.1/2.2 MB 6.4 MB/s eta 0:00:01\n",
      "   ---------------------------------------- 2.2/2.2 MB 6.3 MB/s eta 0:00:00\n",
      "Downloading kiwisolver-1.4.5-cp311-cp311-win_amd64.whl (56 kB)\n",
      "   ---------------------------------------- 0.0/56.1 kB ? eta -:--:--\n",
      "   ---------------------------------------- 56.1/56.1 kB 2.9 MB/s eta 0:00:00\n",
      "Downloading pillow-10.3.0-cp311-cp311-win_amd64.whl (2.5 MB)\n",
      "   ---------------------------------------- 0.0/2.5 MB ? eta -:--:--\n",
      "   ---- ----------------------------------- 0.3/2.5 MB 8.9 MB/s eta 0:00:01\n",
      "   --------- ------------------------------ 0.6/2.5 MB 7.6 MB/s eta 0:00:01\n",
      "   -------------- ------------------------- 0.9/2.5 MB 7.2 MB/s eta 0:00:01\n",
      "   ------------------- -------------------- 1.2/2.5 MB 7.0 MB/s eta 0:00:01\n",
      "   ------------------------ --------------- 1.5/2.5 MB 7.0 MB/s eta 0:00:01\n",
      "   ---------------------------- ----------- 1.8/2.5 MB 7.2 MB/s eta 0:00:01\n",
      "   --------------------------------- ------ 2.1/2.5 MB 7.1 MB/s eta 0:00:01\n",
      "   -------------------------------------- - 2.4/2.5 MB 7.0 MB/s eta 0:00:01\n",
      "   ---------------------------------------- 2.5/2.5 MB 6.7 MB/s eta 0:00:00\n",
      "Downloading pyparsing-3.1.2-py3-none-any.whl (103 kB)\n",
      "   ---------------------------------------- 0.0/103.2 kB ? eta -:--:--\n",
      "   ---------------------------------------- 103.2/103.2 kB 6.2 MB/s eta 0:00:00\n",
      "Installing collected packages: pyparsing, pillow, kiwisolver, fonttools, cycler, contourpy, matplotlib, seaborn\n",
      "Successfully installed contourpy-1.2.1 cycler-0.12.1 fonttools-4.51.0 kiwisolver-1.4.5 matplotlib-3.8.4 pillow-10.3.0 pyparsing-3.1.2 seaborn-0.13.2\n"
     ]
    }
   ],
   "source": [
    "!pip install pandas numpy scikit-learn matplotlib seaborn"
>>>>>>> 0eb49765580c4e8c08c496fc91ed93b4e5e68f89
   ]
  },
  {
   "cell_type": "code",
   "execution_count": 2,
   "metadata": {},
   "outputs": [],
   "source": [
<<<<<<< HEAD
    "purchase_df = pd.read_csv(\"purchase.csv\")\n",
    "boxes_df = pd.read_csv(\"boxes.csv\")\n",
    "problem1_df = pd.read_csv(\"problem 1.csv\")"
=======
    "import pandas as pd\n",
    "import numpy as np"
>>>>>>> 0eb49765580c4e8c08c496fc91ed93b4e5e68f89
   ]
  },
  {
   "cell_type": "code",
<<<<<<< HEAD
   "execution_count": 3,
   "metadata": {},
   "outputs": [
    {
     "data": {
      "text/html": [
       "<div>\n",
       "<style scoped>\n",
       "    .dataframe tbody tr th:only-of-type {\n",
       "        vertical-align: middle;\n",
       "    }\n",
       "\n",
       "    .dataframe tbody tr th {\n",
       "        vertical-align: top;\n",
       "    }\n",
       "\n",
       "    .dataframe thead th {\n",
       "        text-align: right;\n",
       "    }\n",
       "</style>\n",
       "<table border=\"1\" class=\"dataframe\">\n",
       "  <thead>\n",
       "    <tr style=\"text-align: right;\">\n",
       "      <th></th>\n",
       "      <th>PURCHASE_DATE</th>\n",
       "      <th>MAGIC_KEY</th>\n",
       "      <th>BOX_ID</th>\n",
       "      <th>BOX_COUNT</th>\n",
       "    </tr>\n",
       "  </thead>\n",
       "  <tbody>\n",
       "    <tr>\n",
       "      <th>0</th>\n",
       "      <td>1/2/2019</td>\n",
       "      <td>2CED678A247</td>\n",
       "      <td>12.0</td>\n",
       "      <td>1.0</td>\n",
       "    </tr>\n",
       "    <tr>\n",
       "      <th>1</th>\n",
       "      <td>1/2/2019</td>\n",
       "      <td>2BF58D91BA1</td>\n",
       "      <td>12.0</td>\n",
       "      <td>1.0</td>\n",
       "    </tr>\n",
       "    <tr>\n",
       "      <th>2</th>\n",
       "      <td>1/2/2019</td>\n",
       "      <td>2C15B86534E</td>\n",
       "      <td>99.0</td>\n",
       "      <td>1.0</td>\n",
       "    </tr>\n",
       "    <tr>\n",
       "      <th>3</th>\n",
       "      <td>1/2/2019</td>\n",
       "      <td>2C32D9A859A</td>\n",
       "      <td>6.0</td>\n",
       "      <td>1.0</td>\n",
       "    </tr>\n",
       "    <tr>\n",
       "      <th>4</th>\n",
       "      <td>1/2/2019</td>\n",
       "      <td>2C7A55404D1</td>\n",
       "      <td>4.0</td>\n",
       "      <td>1.0</td>\n",
       "    </tr>\n",
       "  </tbody>\n",
       "</table>\n",
       "</div>"
      ],
      "text/plain": [
       "  PURCHASE_DATE    MAGIC_KEY  BOX_ID  BOX_COUNT\n",
       "0      1/2/2019  2CED678A247    12.0        1.0\n",
       "1      1/2/2019  2BF58D91BA1    12.0        1.0\n",
       "2      1/2/2019  2C15B86534E    99.0        1.0\n",
       "3      1/2/2019  2C32D9A859A     6.0        1.0\n",
       "4      1/2/2019  2C7A55404D1     4.0        1.0"
      ]
     },
     "execution_count": 3,
     "metadata": {},
     "output_type": "execute_result"
    }
   ],
   "source": [
    "purchase_df.head()"
   ]
  },
  {
   "cell_type": "code",
   "execution_count": 4,
   "metadata": {},
   "outputs": [
    {
     "data": {
      "text/html": [
       "<div>\n",
       "<style scoped>\n",
       "    .dataframe tbody tr th:only-of-type {\n",
       "        vertical-align: middle;\n",
       "    }\n",
       "\n",
       "    .dataframe tbody tr th {\n",
       "        vertical-align: top;\n",
       "    }\n",
       "\n",
       "    .dataframe thead th {\n",
       "        text-align: right;\n",
       "    }\n",
       "</style>\n",
       "<table border=\"1\" class=\"dataframe\">\n",
       "  <thead>\n",
       "    <tr style=\"text-align: right;\">\n",
       "      <th></th>\n",
       "      <th>PURCHASE_DATE</th>\n",
       "      <th>MAGIC_KEY</th>\n",
       "      <th>BOX_ID</th>\n",
       "      <th>BOX_COUNT</th>\n",
       "    </tr>\n",
       "  </thead>\n",
       "  <tbody>\n",
       "    <tr>\n",
       "      <th>2455859</th>\n",
       "      <td>28/10/2018</td>\n",
       "      <td>2BD992B5538</td>\n",
       "      <td>12.0</td>\n",
       "      <td>1.0</td>\n",
       "    </tr>\n",
       "    <tr>\n",
       "      <th>2455860</th>\n",
       "      <td>28/10/2018</td>\n",
       "      <td>2C97CD72233</td>\n",
       "      <td>17.0</td>\n",
       "      <td>1.0</td>\n",
       "    </tr>\n",
       "    <tr>\n",
       "      <th>2455861</th>\n",
       "      <td>28/10/2018</td>\n",
       "      <td>2C91C61D372</td>\n",
       "      <td>40.0</td>\n",
       "      <td>1.0</td>\n",
       "    </tr>\n",
       "    <tr>\n",
       "      <th>2455862</th>\n",
       "      <td>28/10/2018</td>\n",
       "      <td>2CD70CFC4E3</td>\n",
       "      <td>51.0</td>\n",
       "      <td>1.0</td>\n",
       "    </tr>\n",
       "    <tr>\n",
       "      <th>2455863</th>\n",
       "      <td>28/10/2018</td>\n",
       "      <td>2C4792A5B84</td>\n",
       "      <td>4.0</td>\n",
       "      <td>1.0</td>\n",
       "    </tr>\n",
       "  </tbody>\n",
       "</table>\n",
       "</div>"
      ],
      "text/plain": [
       "        PURCHASE_DATE    MAGIC_KEY  BOX_ID  BOX_COUNT\n",
       "2455859    28/10/2018  2BD992B5538    12.0        1.0\n",
       "2455860    28/10/2018  2C97CD72233    17.0        1.0\n",
       "2455861    28/10/2018  2C91C61D372    40.0        1.0\n",
       "2455862    28/10/2018  2CD70CFC4E3    51.0        1.0\n",
       "2455863    28/10/2018  2C4792A5B84     4.0        1.0"
      ]
     },
     "execution_count": 4,
     "metadata": {},
     "output_type": "execute_result"
    }
   ],
   "source": [
    "purchase_df.tail()"
   ]
  },
  {
   "cell_type": "code",
   "execution_count": 5,
   "metadata": {},
   "outputs": [
    {
     "name": "stdout",
     "output_type": "stream",
     "text": [
      "<class 'pandas.core.frame.DataFrame'>\n",
      "RangeIndex: 2455864 entries, 0 to 2455863\n",
      "Data columns (total 4 columns):\n",
      " #   Column         Dtype  \n",
      "---  ------         -----  \n",
      " 0   PURCHASE_DATE  object \n",
      " 1   MAGIC_KEY      object \n",
      " 2   BOX_ID         float64\n",
      " 3   BOX_COUNT      float64\n",
      "dtypes: float64(2), object(2)\n",
      "memory usage: 74.9+ MB\n"
     ]
    }
   ],
   "source": [
    "# Types of data in each columns\n",
    "purchase_df.info()"
   ]
  },
  {
   "cell_type": "code",
   "execution_count": 6,
   "metadata": {},
   "outputs": [
    {
     "data": {
      "text/plain": [
       "PURCHASE_DATE        151\n",
       "MAGIC_KEY        1274108\n",
       "BOX_ID               291\n",
       "BOX_COUNT             14\n",
       "dtype: int64"
      ]
     },
     "execution_count": 6,
     "metadata": {},
     "output_type": "execute_result"
    }
   ],
   "source": [
    "# No. of unique entries in each columns\n",
    "purchase_df.nunique()"
   ]
  },
  {
   "cell_type": "code",
   "execution_count": 7,
   "metadata": {},
   "outputs": [],
   "source": [
    "# Convert Purchase Date from object to datetime\n",
    "purchase_df[\"PURCHASE_DATE\"] = pd.to_datetime(purchase_df[\"PURCHASE_DATE\"], format=\"%d/%m/%Y\")"
=======
   "execution_count": 26,
   "metadata": {},
   "outputs": [],
   "source": [
    "# Load the data\n",
    "boxes_df = pd.read_csv('boxes.csv')\n",
    "purchase_df = pd.read_csv('purchase.csv')\n",
    "problem_df = pd.read_csv('problem 1.csv')"
>>>>>>> 0eb49765580c4e8c08c496fc91ed93b4e5e68f89
   ]
  },
  {
   "cell_type": "code",
<<<<<<< HEAD
   "execution_count": 9,
   "metadata": {},
   "outputs": [
    {
     "data": {
      "text/html": [
       "<div>\n",
       "<style scoped>\n",
       "    .dataframe tbody tr th:only-of-type {\n",
       "        vertical-align: middle;\n",
       "    }\n",
       "\n",
       "    .dataframe tbody tr th {\n",
       "        vertical-align: top;\n",
       "    }\n",
       "\n",
       "    .dataframe thead th {\n",
       "        text-align: right;\n",
       "    }\n",
       "</style>\n",
       "<table border=\"1\" class=\"dataframe\">\n",
       "  <thead>\n",
       "    <tr style=\"text-align: right;\">\n",
       "      <th></th>\n",
       "      <th>PURCHASE_DATE</th>\n",
       "      <th>MAGIC_KEY</th>\n",
       "      <th>BOX_ID</th>\n",
       "      <th>BOX_COUNT</th>\n",
       "    </tr>\n",
       "  </thead>\n",
       "  <tbody>\n",
       "    <tr>\n",
       "      <th>0</th>\n",
       "      <td>2019-02-01</td>\n",
       "      <td>2CED678A247</td>\n",
       "      <td>12.0</td>\n",
       "      <td>1.0</td>\n",
       "    </tr>\n",
       "    <tr>\n",
       "      <th>1</th>\n",
       "      <td>2019-02-01</td>\n",
       "      <td>2BF58D91BA1</td>\n",
       "      <td>12.0</td>\n",
       "      <td>1.0</td>\n",
       "    </tr>\n",
       "    <tr>\n",
       "      <th>2</th>\n",
       "      <td>2019-02-01</td>\n",
       "      <td>2C15B86534E</td>\n",
       "      <td>99.0</td>\n",
       "      <td>1.0</td>\n",
       "    </tr>\n",
       "    <tr>\n",
       "      <th>3</th>\n",
       "      <td>2019-02-01</td>\n",
       "      <td>2C32D9A859A</td>\n",
       "      <td>6.0</td>\n",
       "      <td>1.0</td>\n",
       "    </tr>\n",
       "    <tr>\n",
       "      <th>4</th>\n",
       "      <td>2019-02-01</td>\n",
       "      <td>2C7A55404D1</td>\n",
       "      <td>4.0</td>\n",
       "      <td>1.0</td>\n",
       "    </tr>\n",
       "  </tbody>\n",
       "</table>\n",
       "</div>"
      ],
      "text/plain": [
       "  PURCHASE_DATE    MAGIC_KEY  BOX_ID  BOX_COUNT\n",
       "0    2019-02-01  2CED678A247    12.0        1.0\n",
       "1    2019-02-01  2BF58D91BA1    12.0        1.0\n",
       "2    2019-02-01  2C15B86534E    99.0        1.0\n",
       "3    2019-02-01  2C32D9A859A     6.0        1.0\n",
       "4    2019-02-01  2C7A55404D1     4.0        1.0"
      ]
     },
     "execution_count": 9,
     "metadata": {},
     "output_type": "execute_result"
    }
   ],
   "source": [
    "purchase_df.head()"
   ]
  },
  {
   "cell_type": "code",
   "execution_count": 16,
   "metadata": {},
   "outputs": [
    {
     "name": "stdout",
     "output_type": "stream",
     "text": [
      "<class 'pandas.core.frame.DataFrame'>\n",
      "RangeIndex: 290 entries, 0 to 289\n",
      "Data columns (total 6 columns):\n",
      " #   Column           Non-Null Count  Dtype  \n",
      "---  ------           --------------  -----  \n",
      " 0   BOX_ID           290 non-null    int64  \n",
      " 1   QUALITY          290 non-null    object \n",
      " 2   DELIVERY_OPTION  290 non-null    object \n",
      " 3   MILK             290 non-null    float64\n",
      " 4   MEAT             290 non-null    float64\n",
      " 5   UNIT_PRICE       290 non-null    float64\n",
      "dtypes: float64(3), int64(1), object(2)\n",
      "memory usage: 13.7+ KB\n"
     ]
    }
   ],
   "source": [
    "boxes_df.info()"
   ]
  },
  {
   "cell_type": "code",
   "execution_count": 17,
   "metadata": {},
   "outputs": [
    {
     "data": {
      "text/plain": [
       "BOX_ID             290\n",
       "QUALITY              2\n",
       "DELIVERY_OPTION      3\n",
       "MILK                28\n",
       "MEAT                39\n",
       "UNIT_PRICE          18\n",
       "dtype: int64"
      ]
     },
     "execution_count": 17,
     "metadata": {},
     "output_type": "execute_result"
    }
   ],
   "source": [
    "boxes_df.nunique()"
   ]
  },
  {
   "cell_type": "code",
   "execution_count": 19,
   "metadata": {},
   "outputs": [],
   "source": [
    "# QUALITY and DELIVERY_OPTION are both categorical, hence encode these columns\n",
    "le = LabelEncoder()\n",
    "\n",
    "boxes_df[\"QUALITY\"] = le.fit_transform(boxes_df[\"QUALITY\"])\n",
    "boxes_df[\"DELIVERY_OPTION\"] = le.fit_transform(boxes_df[\"DELIVERY_OPTION\"])"
=======
   "execution_count": 30,
   "metadata": {},
   "outputs": [],
   "source": [
    "# Convert the purchase date to datetime format\n",
    "purchase_df['PURCHASE_DATE'] = pd.to_datetime(purchase_df['PURCHASE_DATE'],format='%d/%m/%Y')\n",
    "\n",
    "# Filter purchases made in the first 15 days of March 2019\n",
    "march_purchases = purchase_df[(purchase_df['PURCHASE_DATE'].dt.month == 3) & (purchase_df['PURCHASE_DATE'].dt.day <= 15)]\n",
    "\n",
    "# Merge the purchase data with the boxes data to get details about the purchased boxes\n",
    "merged_df = pd.merge(march_purchases, boxes_df, on='BOX_ID')\n",
    "\n",
    "# Group by MAGIC_KEY and check if they purchased milk or meat\n",
    "purchase_summary = merged_df.groupby('MAGIC_KEY').agg({'MILK': 'sum', 'MEAT': 'sum'})\n",
    "\n",
    "# Predict which Magic Keys will make a purchase\n",
    "# If a Magic Key purchased milk or meat, they will make a purchase\n",
    "purchase_summary['PURCHASE'] = purchase_summary.apply(lambda row: 'Y' if row['MILK'] > 0 or row['MEAT'] > 0 else 'N', axis=1)\n"
>>>>>>> 0eb49765580c4e8c08c496fc91ed93b4e5e68f89
   ]
  },
  {
   "cell_type": "code",
<<<<<<< HEAD
   "execution_count": 21,
   "metadata": {},
   "outputs": [
    {
     "name": "stdout",
     "output_type": "stream",
     "text": [
      "<class 'pandas.core.frame.DataFrame'>\n",
      "RangeIndex: 290 entries, 0 to 289\n",
      "Data columns (total 6 columns):\n",
      " #   Column           Non-Null Count  Dtype  \n",
      "---  ------           --------------  -----  \n",
      " 0   BOX_ID           290 non-null    int64  \n",
      " 1   QUALITY          290 non-null    int32  \n",
      " 2   DELIVERY_OPTION  290 non-null    int32  \n",
      " 3   MILK             290 non-null    float64\n",
      " 4   MEAT             290 non-null    float64\n",
      " 5   UNIT_PRICE       290 non-null    float64\n",
      "dtypes: float64(3), int32(2), int64(1)\n",
      "memory usage: 11.5 KB\n"
     ]
    }
   ],
   "source": [
    "boxes_df.info()"
   ]
  },
  {
   "cell_type": "code",
   "execution_count": null,
   "metadata": {},
   "outputs": [],
   "source": []
=======
   "execution_count": 32,
   "metadata": {},
   "outputs": [],
   "source": [
    "# Merge the problem data with our purchase summary to get the final prediction\n",
    "submission_df = pd.merge(problem_df, purchase_summary[['PURCHASE']], on='MAGIC_KEY', how='left')\n",
    "\n",
    "# Fill missing values with 'N' and ensure the column is of object dtype to avoid dtype incompatibility\n",
    "submission_df['PURCHASE'] = submission_df['PURCHASE'].fillna('N').astype(object)\n",
    "\n",
    "# Save the submission file\n",
    "submission_df.to_csv('submission.csv', index=False)\n"
   ]
>>>>>>> 0eb49765580c4e8c08c496fc91ed93b4e5e68f89
  }
 ],
 "metadata": {
  "kernelspec": {
   "display_name": ".venv",
   "language": "python",
   "name": "python3"
  },
  "language_info": {
   "codemirror_mode": {
    "name": "ipython",
    "version": 3
   },
   "file_extension": ".py",
   "mimetype": "text/x-python",
   "name": "python",
   "nbconvert_exporter": "python",
   "pygments_lexer": "ipython3",
   "version": "3.11.7"
  }
 },
 "nbformat": 4,
 "nbformat_minor": 2
}
