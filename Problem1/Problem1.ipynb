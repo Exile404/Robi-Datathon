{
 "cells": [
  {
   "cell_type": "markdown",
   "metadata": {},
   "source": [
    "# Problem 1\n",
    "\n",
    "We need to predict which of the Magic Keys given in “problem 1.csv” will buy milk and/or meat in the first 15 days of March-2019. We have to put Y in the purchase column if the Magic Keys will purchase and N if the Magic Keys will not make a purchase. "
   ]
  },
  {
   "cell_type": "markdown",
   "metadata": {},
   "source": [
    "## Necessary Libraries"
   ]
  },
  {
   "cell_type": "code",
   "execution_count": 1,
   "metadata": {},
   "outputs": [],
   "source": [
    "import pandas as pd\n",
    "import numpy as np"
   ]
  },
  {
   "cell_type": "markdown",
   "metadata": {},
   "source": [
    "## Data Preprocessing"
   ]
  },
  {
   "cell_type": "code",
   "execution_count": 2,
   "metadata": {},
   "outputs": [],
   "source": [
    "# Load the data\n",
    "boxes_df = pd.read_csv('boxes.csv')\n",
    "purchase_df = pd.read_csv('purchase.csv')\n",
    "problem_df = pd.read_csv('problem 1.csv')"
   ]
  },
  {
   "cell_type": "code",
   "execution_count": 3,
   "metadata": {},
   "outputs": [],
   "source": [
    "# Convert the purchase date to datetime format\n",
    "purchase_df['PURCHASE_DATE'] = pd.to_datetime(purchase_df['PURCHASE_DATE'],format='%d/%m/%Y')\n",
    "\n",
    "# Filter purchases made in the first 15 days of March 2019\n",
    "march_purchases = purchase_df[(purchase_df['PURCHASE_DATE'].dt.month == 3) & (purchase_df['PURCHASE_DATE'].dt.day <= 15)]\n",
    "\n",
    "# Merge the purchase data with the boxes data to get details about the purchased boxes\n",
    "merged_df = pd.merge(march_purchases, boxes_df, on='BOX_ID')\n",
    "\n",
    "# Group by MAGIC_KEY and check if they purchased milk or meat\n",
    "purchase_summary = merged_df.groupby('MAGIC_KEY').agg({'MILK': 'sum', 'MEAT': 'sum'})\n",
    "\n",
    "# Predict which Magic Keys will make a purchase\n",
    "# If a Magic Key purchased milk or meat, they will make a purchase\n",
    "purchase_summary['PURCHASE'] = purchase_summary.apply(lambda row: 'Y' if row['MILK'] > 0 or row['MEAT'] > 0 else 'N', axis=1)"
   ]
  },
  {
   "cell_type": "code",
   "execution_count": 4,
   "metadata": {},
   "outputs": [],
   "source": [
    "# Merge the problem data with our purchase summary to get the final prediction\n",
    "submission_df = pd.merge(problem_df, purchase_summary[['PURCHASE']], on='MAGIC_KEY', how='left')\n",
    "\n",
    "# Fill missing values with 'N' and ensure the column is of object dtype to avoid dtype incompatibility\n",
    "submission_df['PURCHASE'] = submission_df['PURCHASE'].fillna('N').astype(object)\n",
    "\n",
    "# Save the submission file\n",
    "submission_df.to_csv('submission.csv', index=False)"
   ]
  }
 ],
 "metadata": {
  "kernelspec": {
   "display_name": ".venv",
   "language": "python",
   "name": "python3"
  },
  "language_info": {
   "codemirror_mode": {
    "name": "ipython",
    "version": 3
   },
   "file_extension": ".py",
   "mimetype": "text/x-python",
   "name": "python",
   "nbconvert_exporter": "python",
   "pygments_lexer": "ipython3",
   "version": "3.11.7"
  }
 },
 "nbformat": 4,
 "nbformat_minor": 2
}
